{
 "cells": [
  {
   "cell_type": "code",
   "execution_count": 3,
   "metadata": {
    "slideshow": {
     "slide_type": "slide"
    }
   },
   "outputs": [
    {
     "data": {
      "text/latex": [
       "$\\newcommand{\\Population}                    {\\hat{X}} $\n",
       "$\\newcommand{\\allY}                          {{\\hat{Y}}} $\n",
       "$\\newcommand{\\sampleRealObjects}             {{\\overline{X}}} $\n",
       "$\\newcommand{\\sample}                 {X} $\n",
       "$\\newcommand{\\lensabsetsample} {l}$\n",
       "$\\newcommand{\\answers}                             {Y} $\n",
       "$\\newcommand{\\nbFeatures}                             {M} $\n",
       "$\\newcommand{\\nbObjects}                             {N} $\n",
       "$\\newcommand{\\realNumbers}                    {\\mathbb{R}}$\n",
       "$\\newcommand{\\model}                    {\\mathbb{A}}$\n",
       "$\\newcommand{\\params}                    {\\theta}$\n",
       "$\\newcommand{\\setParams}                    {\\Theta}$\n",
       "$\\newcommand{\\methodLearning}          {\\mu}$\n",
       "$\\newcommand{\\alg}          {\\alpha}$\n",
       "$\\newcommand{\\loss}          {L}$\n",
       "$\\newcommand{\\empericRisk}          {Q}$\n",
       "$\\newcommand{\\learningRate}          {\\gamma}$\n",
       "$\\newcommand{\\distance}          {\\rho}$\n",
       "$\\newcommand{\\margin}          {\\mathbb{M}}$\n",
       "$\\newcommand{\\setClasses}          {C}$"
      ]
     },
     "metadata": {},
     "output_type": "display_data"
    }
   ],
   "source": [
    "import IPython.display\n",
    "IPython.display.display_latex(IPython.display.Latex(filename=\"./macros.tex\"))"
   ]
  },
  {
   "cell_type": "markdown",
   "metadata": {
    "slideshow": {
     "slide_type": "fragment"
    }
   },
   "source": [
    "## <center>Метрики качества в задачах классификации</center>"
   ]
  },
  {
   "cell_type": "markdown",
   "metadata": {
    "slideshow": {
     "slide_type": "fragment"
    }
   },
   "source": [
    "_Проблема с accuracy_:\n",
    "Несбалансированная выборка:\n",
    "<br>\n",
    "<br>\n",
    "Предположим, что у нас есть некоторая обучающая выбока из 100 объектов, у которой 98 объектов принадлежат классу 0 и всеголишь 2 классу 1. Пусть наш алгоритм всегда предсказывает только класс объектов 0. Если посчитать accuracy такого классификатора. то acc=0.98. Можно ли его назвать хорошим?"
   ]
  },
  {
   "cell_type": "markdown",
   "metadata": {},
   "source": [
    "<center>**Матрица ошибок**</center>\n",
    "<img src=\"images/confusion_matrix.png\">"
   ]
  },
  {
   "cell_type": "raw",
   "metadata": {},
   "source": [
    "где TP - алгоритм предсказал, что объект 1 класса и объект действительно 1 класса,\n",
    "    TN - алгоритм предсказал, что объект 0 класса и объект действительно 0 класса,\n",
    "    FP - алгоритм предсказал, что объект 1 класса, а объект принадлежит классу 0 ,\n",
    "    FN - алгоритм предсказал, что объект 0 класса, а объект принадлежит классу 1."
   ]
  },
  {
   "cell_type": "markdown",
   "metadata": {},
   "source": [
    "В таких терминах, $accuracy = \\frac{TP+TN}{TP+TN+FP+FN}$"
   ]
  },
  {
   "cell_type": "markdown",
   "metadata": {},
   "source": [
    "Давайте теперь введем (вспомним с лекции) следущие метрики: precision(точность) и recall(полнота).\n",
    "$$precision = \\frac{TP}{TP+FP}$$\n",
    "$$recall= \\frac{TP}{TP+FN}$$"
   ]
  },
  {
   "cell_type": "markdown",
   "metadata": {},
   "source": [
    "Полнота меряет, действительно ли мы все объекты класса 1 отнесли к этому классу. \n",
    "А точность меряет, насколько хорошо мы понимаем что делаем и не относим все с подряд объекты к классу 1.\n",
    "Понятно, что максимальные значения для точности и полноты это 1.\n",
    "Давайте теперь измерим качество нашего классификатора:\n",
    "$$precision = \\frac{0}{0+0} = 0$$\n",
    "$$recall = \\frac{0}{2+0} = 0$$\n",
    "Согласитесь, качество так себе."
   ]
  },
  {
   "cell_type": "markdown",
   "metadata": {},
   "source": [
    "Есть метрика, которая позволяет объеденить precision и recall в одну, так называемая F-мера. Она является гармоническим средним между точностью и полнотой:$$F = 2{\\frac{precision*recall}{precision+recall}}$$  и равна 1, когда точность и полнота равны 1."
   ]
  },
  {
   "cell_type": "markdown",
   "metadata": {
    "slideshow": {
     "slide_type": "slide"
    }
   },
   "source": [
    "Precision и Recall это не 2 разных метрики, они всегда используются в паре.\n",
    "<br>\n",
    "<br>\n",
    "$$\\forall x \\:\\: \\alg(x) = 1\\Rightarrow Recall = 100\\%$$\n",
    "<br>\n",
    "$$\\forall x \\:\\: \\alg(x) = 0\\Rightarrow Type \\:I \\:error = 0$$\n",
    "<br>\n",
    "Но в зависимости от задачи вы можете выбирать, что приоритетнее."
   ]
  },
  {
   "cell_type": "markdown",
   "metadata": {
    "slideshow": {
     "slide_type": "slide"
    }
   },
   "source": [
    "**Precision and Recall depend on the balance of classes**"
   ]
  },
  {
   "cell_type": "markdown",
   "metadata": {},
   "source": [
    "Пусть вы обучили классификатор, пусть он предсказывает в среднем правильно(правильно, это когда объект класса 0 относится к 0, а 1 к 1) с вероятностью P = 0.8. Возьмем выборку, где 50 объектов относится к классу 0, 50 к классу 1. Посчитаем PR."
   ]
  },
  {
   "cell_type": "markdown",
   "metadata": {},
   "source": [
    "TP = PxN_1 = 0.8x50 = 40\n",
    "<br>\n",
    "FP = (1-P)xN_0 = 0.2x50 = 10;\n",
    "<br>\n",
    "FN = (1-P)xN_1 = 0.2x50 = 10;\n",
    "<br>\n",
    "Precision = TP / (TP + FP) = 40 / 50 = 0.8\n",
    "<br>\n",
    "Recall = TP / (TP + FN) = 40 / 50 = 0.8"
   ]
  },
  {
   "cell_type": "markdown",
   "metadata": {},
   "source": [
    "А теперь возьмем тот же классификатор, но будем мерить на другой выборке. Там объектов нулевого класса 50, а объектов первого класса 10. И посчитаем все то же самое"
   ]
  },
  {
   "cell_type": "markdown",
   "metadata": {},
   "source": [
    "TP = PxN_1 = 0.8x10 = 8\n",
    "<br>\n",
    "FP = (1-P)xN_0 = 0.2x50 = 10;\n",
    "<br>\n",
    "FN = (1-P)xN_1 = 0.2x10 = 2;\n",
    "<br>\n",
    "Precision = TP / (TP + FP) = 8 / 18 = 0.44444\n",
    "<br>\n",
    "Recall = TP / (TP + FN) = 8 / 10 = 0.8"
   ]
  },
  {
   "cell_type": "markdown",
   "metadata": {},
   "source": [
    "Давайте сделаем следующее: пусть у нас есть классфикатор, который с некой уверенностью предсказывает, \n",
    "принадлежит ли объект к классу 0. Отсортируем все объекты по возрастанию уверенности классификатора. И начнем строить значения precision и recall начиная с уверенности один, и так по убыванию. Теперь для порога 0.9:точность 1, а полнота 1/(1+2) "
   ]
  },
  {
   "cell_type": "markdown",
   "metadata": {
    "slideshow": {
     "slide_type": "slide"
    }
   },
   "source": [
    "<img src=\"images/PR-AUC.png\" style=\"width: 300px;\">"
   ]
  },
  {
   "cell_type": "raw",
   "metadata": {},
   "source": [
    "Данная кривая обладает следующими свойствами:\n",
    "1. Левая точка всегда (0, 0)\n",
    "2. Правая точка зависит от баланса классов(1, N_1 / (N_1+N_0))\n",
    "3. Выборка иделаьно разделима - пройдем через точку (1, 1)\n",
    "4. Чем больше AUC (area under curve) - тем лучше"
   ]
  },
  {
   "cell_type": "markdown",
   "metadata": {},
   "source": [
    "Давайте введем две следующих величины: \n",
    "$$TPR = \\frac{TP}{TP+FN}$$\n",
    "$$FPR= \\frac{FP}{FP+TN}$$"
   ]
  },
  {
   "cell_type": "markdown",
   "metadata": {},
   "source": [
    "TPR - число положительных срабатываний относительно общего числа примеров класса 1.\n",
    "<br>\n",
    "FPR - число отрицательных срабатываний относительно общего числа примеров класса 0."
   ]
  },
  {
   "cell_type": "raw",
   "metadata": {},
   "source": [
    "1 - FPR называется специфичностью алгоритма\n",
    "TPR называется чувствительностью алгоритма"
   ]
  },
  {
   "cell_type": "markdown",
   "metadata": {},
   "source": [
    "Давайте построим графики аналогичным образом для данных величин. "
   ]
  },
  {
   "cell_type": "markdown",
   "metadata": {},
   "source": [
    "<img src=\"images/ROC-AUC.png\" style=\"width: 300px;\">"
   ]
  },
  {
   "cell_type": "raw",
   "metadata": {},
   "source": [
    "Данная кривая обладает следующими свойствами:\n",
    "1. Левая точка всегда (0, 0)\n",
    "2. Правая точка всегда (1, 1)\n",
    "3. Выборка иделаьно разделима - пройдем через точку (0, 1)\n",
    "4. Площадь от 1/2 до 1.\n",
    "5. Чем больше площадь, тем лучше."
   ]
  },
  {
   "cell_type": "markdown",
   "metadata": {},
   "source": [
    "# Микро и макро усреднение "
   ]
  },
  {
   "cell_type": "raw",
   "metadata": {},
   "source": [
    "Пусть выборка состоит из 3 классов. Рассмотрим 3 двухклассовых задач, каждая\n",
    "из которых заключается в отделении своего класса от остальных(угадал свой класс, молодец, назвл любой другой - неправильно).\n",
    "Для каждой из них можно вычислить различные характеристики (TP, FP, и т.д.).\n",
    "При микро-усреднении сначала эти характеристики усредняются по всем классам, а\n",
    "затем вычисляется итоговая двухклассовая метрика — например, точность, полнота\n",
    "или F-мера. При макро-усреднении сначала вычисляется итоговая метрика для \n",
    "каждого класса, а затем результаты усредняются по всем классам."
   ]
  },
  {
   "cell_type": "markdown",
   "metadata": {},
   "source": [
    "<img src=\"./images/micro_macro.png\" style=\"width: 300px;\">"
   ]
  },
  {
   "cell_type": "markdown",
   "metadata": {
    "slideshow": {
     "slide_type": "slide"
    }
   },
   "source": [
    "### Метод К ближайших соседей на NumPy"
   ]
  },
  {
   "cell_type": "code",
   "execution_count": 1,
   "metadata": {
    "slideshow": {
     "slide_type": "subslide"
    }
   },
   "outputs": [],
   "source": [
    "%matplotlib inline\n",
    "\n",
    "import matplotlib.pyplot as plt\n",
    "import numpy as np"
   ]
  },
  {
   "cell_type": "code",
   "execution_count": 16,
   "metadata": {
    "slideshow": {
     "slide_type": "subslide"
    }
   },
   "outputs": [],
   "source": [
    "X_train = np.random.random([10, 2])\n",
    "X_test = np.random.random([3, 2])"
   ]
  },
  {
   "cell_type": "code",
   "execution_count": 17,
   "metadata": {
    "slideshow": {
     "slide_type": "subslide"
    }
   },
   "outputs": [
    {
     "name": "stdout",
     "output_type": "stream",
     "text": [
      "[[0.48554003 0.23229453]\n",
      " [0.59857383 0.70328596]\n",
      " [0.60952266 0.17230464]\n",
      " [0.81655391 0.65899127]\n",
      " [0.87791053 0.71765371]\n",
      " [0.45912302 0.12204891]\n",
      " [0.33828877 0.14165284]\n",
      " [0.4990724  0.6934435 ]\n",
      " [0.25540759 0.66768375]\n",
      " [0.26266376 0.40630596]]\n",
      "\n",
      "[[0.55498522 0.78687826]\n",
      " [0.99707632 0.18894041]\n",
      " [0.12626515 0.34234882]]\n"
     ]
    }
   ],
   "source": [
    "print(X_train)\n",
    "print()\n",
    "print(X_test)"
   ]
  },
  {
   "cell_type": "code",
   "execution_count": 18,
   "metadata": {
    "slideshow": {
     "slide_type": "subslide"
    }
   },
   "outputs": [
    {
     "data": {
      "text/plain": [
       "<matplotlib.collections.PathCollection at 0x7faa0a013160>"
      ]
     },
     "execution_count": 18,
     "metadata": {},
     "output_type": "execute_result"
    },
    {
     "data": {
      "image/png": "[encoded data removed]",
      "text/plain": [
       "<Figure size 432x288 with 1 Axes>"
      ]
     },
     "metadata": {},
     "output_type": "display_data"
    }
   ],
   "source": [
    "plt.scatter(X_train[:, 0], X_train[:, 1], color = 'g')\n",
    "plt.scatter(X_test[:, 0], X_test[:, 1], color = 'r')"
   ]
  },
  {
   "cell_type": "code",
   "execution_count": 17,
   "metadata": {
    "slideshow": {
     "slide_type": "subslide"
    }
   },
   "outputs": [
    {
     "data": {
      "text/plain": [
       "(3, 10, 2)"
      ]
     },
     "execution_count": 17,
     "metadata": {},
     "output_type": "execute_result"
    }
   ],
   "source": [
    "diff = X_test[:, np.newaxis, :] - X_train[np.newaxis, :, :]\n",
    "diff.shape"
   ]
  },
  {
   "cell_type": "code",
   "execution_count": 18,
   "metadata": {
    "slideshow": {
     "slide_type": "subslide"
    }
   },
   "outputs": [
    {
     "name": "stdout",
     "output_type": "stream",
     "text": [
      "[[[-0.45079991 -0.0356473 ]\n",
      "  [-0.30911369 -0.06030669]\n",
      "  [ 0.03130663  0.16889686]\n",
      "  [-0.47531367  0.22694334]\n",
      "  [-0.89471089  0.026999  ]\n",
      "  [ 0.03165327 -0.55203759]\n",
      "  [-0.15652259 -0.01277772]\n",
      "  [-0.29690201  0.4168451 ]\n",
      "  [-0.67119385  0.22197311]\n",
      "  [-0.25095898 -0.27639242]]\n",
      "\n",
      " [[-0.07782254  0.06643288]\n",
      "  [ 0.06386368  0.04177348]\n",
      "  [ 0.40428401  0.27097704]\n",
      "  [-0.1023363   0.32902352]\n",
      "  [-0.52173352  0.12907918]\n",
      "  [ 0.40463064 -0.44995741]\n",
      "  [ 0.21645478  0.08930246]\n",
      "  [ 0.07607536  0.51892528]\n",
      "  [-0.29821648  0.32405329]\n",
      "  [ 0.12201839 -0.17431224]]\n",
      "\n",
      " [[ 0.27935627  0.16038337]\n",
      "  [ 0.42104249  0.13572398]\n",
      "  [ 0.76146282  0.36492753]\n",
      "  [ 0.25484251  0.42297401]\n",
      "  [-0.16455471  0.22302968]\n",
      "  [ 0.76180945 -0.35600691]\n",
      "  [ 0.57363359  0.18325296]\n",
      "  [ 0.43325417  0.61287577]\n",
      "  [ 0.05896233  0.41800378]\n",
      "  [ 0.4791972  -0.08036174]]]\n"
     ]
    }
   ],
   "source": [
    "print(diff)"
   ]
  },
  {
   "cell_type": "code",
   "execution_count": 19,
   "metadata": {
    "slideshow": {
     "slide_type": "subslide"
    }
   },
   "outputs": [
    {
     "data": {
      "text/plain": [
       "(3, 10, 2)"
      ]
     },
     "execution_count": 19,
     "metadata": {},
     "output_type": "execute_result"
    }
   ],
   "source": [
    "sq_diff = diff ** 2\n",
    "sq_diff.shape"
   ]
  },
  {
   "cell_type": "code",
   "execution_count": 20,
   "metadata": {
    "slideshow": {
     "slide_type": "subslide"
    }
   },
   "outputs": [
    {
     "name": "stdout",
     "output_type": "stream",
     "text": [
      "[[[  2.03220560e-01   1.27073010e-03]\n",
      "  [  9.55512757e-02   3.63689728e-03]\n",
      "  [  9.80105316e-04   2.85261492e-02]\n",
      "  [  2.25923086e-01   5.15032783e-02]\n",
      "  [  8.00507579e-01   7.28946202e-04]\n",
      "  [  1.00192949e-03   3.04745500e-01]\n",
      "  [  2.44993207e-02   1.63270012e-04]\n",
      "  [  8.81508053e-02   1.73759835e-01]\n",
      "  [  4.50501189e-01   4.92720607e-02]\n",
      "  [  6.29804093e-02   7.63927692e-02]]\n",
      "\n",
      " [[  6.05634765e-03   4.41332713e-03]\n",
      "  [  4.07856940e-03   1.74502403e-03]\n",
      "  [  1.63445557e-01   7.34285551e-02]\n",
      "  [  1.04727180e-02   1.08256474e-01]\n",
      "  [  2.72205865e-01   1.66614352e-02]\n",
      "  [  1.63725956e-01   2.02461672e-01]\n",
      "  [  4.68526734e-02   7.97492987e-03]\n",
      "  [  5.78746029e-03   2.69283442e-01]\n",
      "  [  8.89330699e-02   1.05010532e-01]\n",
      "  [  1.48884882e-02   3.03847572e-02]]\n",
      "\n",
      " [[  7.80399265e-02   2.57228266e-02]\n",
      "  [  1.77276778e-01   1.84209992e-02]\n",
      "  [  5.79825622e-01   1.33172106e-01]\n",
      "  [  6.49447062e-02   1.78907015e-01]\n",
      "  [  2.70782519e-02   4.97422377e-02]\n",
      "  [  5.80353643e-01   1.26740923e-01]\n",
      "  [  3.29055501e-01   3.35816472e-02]\n",
      "  [  1.87709176e-01   3.75616712e-01]\n",
      "  [  3.47655630e-03   1.74727163e-01]\n",
      "  [  2.29629960e-01   6.45800986e-03]]]\n"
     ]
    }
   ],
   "source": [
    "print(sq_diff)"
   ]
  },
  {
   "cell_type": "code",
   "execution_count": 21,
   "metadata": {
    "slideshow": {
     "slide_type": "subslide"
    }
   },
   "outputs": [
    {
     "data": {
      "text/plain": [
       "(3, 10)"
      ]
     },
     "execution_count": 21,
     "metadata": {},
     "output_type": "execute_result"
    }
   ],
   "source": [
    "dist_sq = sq_diff.sum(-1)\n",
    "dist_sq.shape"
   ]
  },
  {
   "cell_type": "code",
   "execution_count": 22,
   "metadata": {
    "slideshow": {
     "slide_type": "subslide"
    }
   },
   "outputs": [
    {
     "name": "stdout",
     "output_type": "stream",
     "text": [
      "[[ 0.20449129  0.09918817  0.02950625  0.27742636  0.80123653  0.30574743\n",
      "   0.02466259  0.26191064  0.49977325  0.13937318]\n",
      " [ 0.01046967  0.00582359  0.23687411  0.11872919  0.2888673   0.36618763\n",
      "   0.0548276   0.2750709   0.1939436   0.04527325]\n",
      " [ 0.10376275  0.19569778  0.71299773  0.24385172  0.07682049  0.70709457\n",
      "   0.36263715  0.56332589  0.17820372  0.23608797]]\n"
     ]
    }
   ],
   "source": [
    "print(dist_sq)"
   ]
  },
  {
   "cell_type": "code",
   "execution_count": 23,
   "metadata": {
    "slideshow": {
     "slide_type": "subslide"
    }
   },
   "outputs": [
    {
     "data": {
      "text/plain": [
       "(3, 10)"
      ]
     },
     "execution_count": 23,
     "metadata": {},
     "output_type": "execute_result"
    }
   ],
   "source": [
    "nearest = np.argsort(dist_sq, axis=1)\n",
    "nearest.shape"
   ]
  },
  {
   "cell_type": "code",
   "execution_count": 24,
   "metadata": {
    "slideshow": {
     "slide_type": "subslide"
    }
   },
   "outputs": [
    {
     "name": "stdout",
     "output_type": "stream",
     "text": [
      "[[6 2 1 9 0 7 3 5 8 4]\n",
      " [1 0 9 6 3 8 2 7 4 5]\n",
      " [4 0 8 1 9 3 6 7 5 2]]\n"
     ]
    }
   ],
   "source": [
    "print(nearest)"
   ]
  }
 ],
 "metadata": {
  "kernelspec": {
   "display_name": "Python 3",
   "language": "python",
   "name": "python3"
  },
  "language_info": {
   "codemirror_mode": {
    "name": "ipython",
    "version": 3
   },
   "file_extension": ".py",
   "mimetype": "text/x-python",
   "name": "python",
   "nbconvert_exporter": "python",
   "pygments_lexer": "ipython3",
   "version": "3.7.3"
  }
 },
 "nbformat": 4,
 "nbformat_minor": 2
}
