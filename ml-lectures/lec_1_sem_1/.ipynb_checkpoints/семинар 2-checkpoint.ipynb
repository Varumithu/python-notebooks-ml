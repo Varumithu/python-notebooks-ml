{
 "cells": [
  {
   "cell_type": "code",
   "execution_count": 4,
   "metadata": {},
   "outputs": [
    {
     "data": {
      "text/latex": [
       "$\\newcommand{\\Population}                    {\\hat{X}} $\n",
       "$\\newcommand{\\allY}                          {{\\hat{Y}}} $\n",
       "$\\newcommand{\\sampleRealObjects}             {{\\overline{X}}} $\n",
       "$\\newcommand{\\sample}                 {X} $\n",
       "$\\newcommand{\\lensabsetsample} {l}$\n",
       "$\\newcommand{\\answers}                             {Y} $\n",
       "$\\newcommand{\\nbFeatures}                             {M} $\n",
       "$\\newcommand{\\nbObjects}                             {N} $\n",
       "$\\newcommand{\\realNumbers}                    {\\mathbb{R}}$\n",
       "$\\newcommand{\\model}                    {\\mathbb{A}}$\n",
       "$\\newcommand{\\params}                    {\\theta}$\n",
       "$\\newcommand{\\setParams}                    {\\Theta}$\n",
       "$\\newcommand{\\methodLearning}          {\\mu}$\n",
       "$\\newcommand{\\alg}          {\\alpha}$\n",
       "$\\newcommand{\\loss}          {L}$\n",
       "$\\newcommand{\\empericRisk}          {Q}$\n",
       "$\\newcommand{\\learningRate}          {\\gamma}$\n",
       "$\\newcommand{\\distance}          {\\rho}$\n",
       "$\\newcommand{\\margin}          {\\mathbb{M}}$\n",
       "$\\newcommand{\\setClasses}          {C}$"
      ]
     },
     "metadata": {},
     "output_type": "display_data"
    }
   ],
   "source": [
    "import IPython.display\n",
    "IPython.display.display_latex(IPython.display.Latex(filename=\"macros.tex\"))"
   ]
  },
  {
   "cell_type": "markdown",
   "metadata": {},
   "source": [
    "# Линейная регрессия как пример модели. Аналитеческое решение и градиентный спуск как пример метода обученя."
   ]
  },
  {
   "cell_type": "markdown",
   "metadata": {},
   "source": [
    "Создаем выборку из 10 объектов, у каждого по 3 признака<br>"
   ]
  },
  {
   "cell_type": "code",
   "execution_count": 2,
   "metadata": {},
   "outputs": [
    {
     "name": "stdout",
     "output_type": "stream",
     "text": [
      "[[ 0.136  0.759  1.252]\n",
      " [-0.809 -0.811 -1.168]\n",
      " [ 0.788  0.614 -1.172]\n",
      " [ 1.33   0.83   0.537]\n",
      " [ 0.997  0.753 -1.171]\n",
      " [-0.77  -0.307  0.521]\n",
      " [ 0.086  1.501 -0.701]\n",
      " [-2.303 -0.902  1.811]\n",
      " [-0.424  0.212 -1.029]\n",
      " [ 1.524 -0.094  0.341]]\n",
      "[ 0.78450144 -2.278559    1.96637999 -0.84678869]\n"
     ]
    }
   ],
   "source": [
    "import numpy as np\n",
    "X = np.around(np.random.normal(0, 1, [10, 3]), 3)\n",
    "print(X)\n",
    "teta_real = np.random.normal(0, 1, 4)\n",
    "print(teta_real)"
   ]
  },
  {
   "cell_type": "markdown",
   "metadata": {},
   "source": [
    "Для линйной регрессии у нас модель выглядит следующим образом:\n",
    "$$\\model = \\{g(x, \\params)\\:|\\:\\params\\in\\setParams\\}$$\n",
    "$$where\\: g(x, \\params) = \\params_0 + \\params_1 * x_1 + \\params_2 * x_2 + \\params_3 * x_3 \\:and\\: \\params = [\\params_0, \\params_1, \\params_2, \\params_3]$$"
   ]
  },
  {
   "cell_type": "code",
   "execution_count": 5,
   "metadata": {},
   "outputs": [
    {
     "data": {
      "text/plain": [
       "array([[ 1.   ,  0.136,  0.759,  1.252],\n",
       "       [ 1.   , -0.809, -0.811, -1.168],\n",
       "       [ 1.   ,  0.788,  0.614, -1.172],\n",
       "       [ 1.   ,  1.33 ,  0.83 ,  0.537],\n",
       "       [ 1.   ,  0.997,  0.753, -1.171],\n",
       "       [ 1.   , -0.77 , -0.307,  0.521],\n",
       "       [ 1.   ,  0.086,  1.501, -0.701],\n",
       "       [ 1.   , -2.303, -0.902,  1.811],\n",
       "       [ 1.   , -0.424,  0.212, -1.029],\n",
       "       [ 1.   ,  1.524, -0.094,  0.341]])"
      ]
     },
     "execution_count": 5,
     "metadata": {},
     "output_type": "execute_result"
    }
   ],
   "source": [
    "ones = np.ones((X.shape[0], 1))\n",
    "X_ones = np.append(ones, X, axis=1)\n",
    "X_ones"
   ]
  },
  {
   "cell_type": "code",
   "execution_count": 6,
   "metadata": {},
   "outputs": [],
   "source": [
    "Y = np.dot(X_ones, teta_real) + np.random.normal(0, 0.1, 10)"
   ]
  },
  {
   "cell_type": "code",
   "execution_count": 7,
   "metadata": {},
   "outputs": [
    {
     "data": {
      "text/plain": [
       "(array([[ 0.136,  0.759,  1.252],\n",
       "        [-0.809, -0.811, -1.168],\n",
       "        [ 0.788,  0.614, -1.172],\n",
       "        [ 1.33 ,  0.83 ,  0.537],\n",
       "        [ 0.997,  0.753, -1.171],\n",
       "        [-0.77 , -0.307,  0.521],\n",
       "        [ 0.086,  1.501, -0.701],\n",
       "        [-2.303, -0.902,  1.811],\n",
       "        [-0.424,  0.212, -1.029],\n",
       "        [ 1.524, -0.094,  0.341]]),\n",
       " array([ 0.9354391 ,  2.0098984 ,  1.29538372, -1.12025842,  1.06426372,\n",
       "         1.47306719,  4.11192593,  2.71233127,  2.86615713, -3.09155124]))"
      ]
     },
     "execution_count": 7,
     "metadata": {},
     "output_type": "execute_result"
    }
   ],
   "source": [
    "X, Y"
   ]
  },
  {
   "cell_type": "code",
   "execution_count": 8,
   "metadata": {},
   "outputs": [
    {
     "data": {
      "text/plain": [
       "(10, 3)"
      ]
     },
     "execution_count": 8,
     "metadata": {},
     "output_type": "execute_result"
    }
   ],
   "source": [
    "X.shape"
   ]
  },
  {
   "cell_type": "code",
   "execution_count": 9,
   "metadata": {},
   "outputs": [
    {
     "data": {
      "text/plain": [
       "array([[ 1.   ,  0.136,  0.759,  1.252],\n",
       "       [ 1.   , -0.809, -0.811, -1.168],\n",
       "       [ 1.   ,  0.788,  0.614, -1.172],\n",
       "       [ 1.   ,  1.33 ,  0.83 ,  0.537],\n",
       "       [ 1.   ,  0.997,  0.753, -1.171],\n",
       "       [ 1.   , -0.77 , -0.307,  0.521],\n",
       "       [ 1.   ,  0.086,  1.501, -0.701],\n",
       "       [ 1.   , -2.303, -0.902,  1.811],\n",
       "       [ 1.   , -0.424,  0.212, -1.029],\n",
       "       [ 1.   ,  1.524, -0.094,  0.341]])"
      ]
     },
     "execution_count": 9,
     "metadata": {},
     "output_type": "execute_result"
    }
   ],
   "source": [
    "ones = np.ones((X.shape[0], 1))\n",
    "X_ones = np.append(ones, X, axis=1)\n",
    "X_ones"
   ]
  },
  {
   "cell_type": "markdown",
   "metadata": {},
   "source": [
    "_We have_:<br>\n",
    "$\\sample * \\params = \\answers_{predict}$<br>\n",
    "_We need_(OLS):<br>\n",
    "$ER\\rightarrow min\\Rightarrow (\\answers_{predict} - \\answers)^T * (\\answers_{predict} - \\answers)\\rightarrow min$<br>\n",
    "$(\\sample * \\params - \\answers)^T * (\\sample * \\params - \\answers)\\rightarrow min$"
   ]
  },
  {
   "cell_type": "markdown",
   "metadata": {},
   "source": [
    "**analytical solution**\n",
    "$$\\sample*\\params = \\answers$$\n",
    "$$(\\sample^T * \\sample)*\\params = \\sample^T * \\answers\\Rightarrow\\params = (\\sample^T * \\sample)^{-1}*\\sample^T * \\answers$$\n",
    "\n",
    "$(\\sample^T * \\sample)^{-1}*\\sample^T$ - pseudoinverse matrix"
   ]
  },
  {
   "cell_type": "code",
   "execution_count": 12,
   "metadata": {},
   "outputs": [],
   "source": [
    "X_ones_tr = np.transpose(X_ones)\n",
    "\n",
    "teta_analitics = np.dot(\n",
    "    np.dot(\n",
    "        np.linalg.inv( \n",
    "            np.dot(X_ones_tr, X_ones) \n",
    "        ),\n",
    "        X_ones_tr), \n",
    "    Y\n",
    ")\n",
    "\n",
    "Y_pred = np.dot(X_ones, teta_analitics)"
   ]
  },
  {
   "cell_type": "markdown",
   "metadata": {},
   "source": [
    "Analytical solution is hard for compute.<br>\n",
    "So we have **gradient descent**<br>\n",
    "iterative method:<br>\n",
    "$$\\params^{(j+1)}_k:=\\params^{(j)}_k - \\learningRate * \\frac{\\partial}{\\partial \\params^{(j)}_k}\\empericRisk$$"
   ]
  },
  {
   "cell_type": "markdown",
   "metadata": {},
   "source": [
    "For OLS:<br>\n",
    "$$\\empericRisk = \\frac{1}{2l} \\sum_{i = 1}^l ((\\alg(x_i) - y_i)^2$$\n",
    "$$\\frac{\\partial}{\\partial_k \\params}\\empericRisk =  \\sum_{i = 1}^l ((\\alg(x_i) - y_i)* x_{ik}$$\n",
    "<br>\n",
    "repeat until it converges:\n",
    "$$\\params^{(j+1)}_k:=\\params^{(j)}_k - \\learningRate *  \\sum_{i = 1}^l ((\\alg(x_i) - y_i)* x_{ik}$$\n",
    "in matrix form:\n",
    "$$\\params^{(j+1)}:=\\params^{(j)} - \\learningRate\\frac{1}{m}*(\\sample^T*(\\sample*\\params^{(j)} - Y))$$"
   ]
  },
  {
   "cell_type": "code",
   "execution_count": null,
   "metadata": {},
   "outputs": [],
   "source": [
    "teta_grad_start = np.zeros(4)\n",
    "learning_rate = 0.001\n",
    "epsilon = 0.00001\n",
    "max_iter = 100000\n",
    "\n",
    "def step(teta): \n",
    "    return teta - learning_rate * (1.0/10) * np.dot(np.transpose(X_ones), (np.dot(X_ones, teta) - Y)) \n",
    "\n",
    "teta_GD = teta_grad_start\n",
    "for i in range(max_iter):\n",
    "    teta_GD_new = step(teta_GD) \n",
    "    if np.sum(np.abs(teta_GD_new - teta_GD)) <= epsilon:\n",
    "        break \n",
    "    else: \n",
    "        teta_GD = teta_GD_new\n",
    "        \n",
    "print(i)\n",
    "print(teta_GD)"
   ]
  },
  {
   "cell_type": "code",
   "execution_count": null,
   "metadata": {},
   "outputs": [],
   "source": [
    "Y_predGD = np.dot(X_ones, teta_GD)"
   ]
  },
  {
   "cell_type": "code",
   "execution_count": null,
   "metadata": {},
   "outputs": [],
   "source": [
    "sum((Y_predGD - Y)**2)"
   ]
  },
  {
   "cell_type": "code",
   "execution_count": null,
   "metadata": {},
   "outputs": [],
   "source": [
    "sum((Y_pred - Y)**2) - sum((Y_predGD - Y) ** 2)"
   ]
  },
  {
   "cell_type": "code",
   "execution_count": null,
   "metadata": {},
   "outputs": [],
   "source": [
    "### Specifics of gradient descent"
   ]
  },
  {
   "cell_type": "markdown",
   "metadata": {},
   "source": [
    "<center>**normalize features**</center>\n",
    "<img src=\"images/GD_normal.PNG\">"
   ]
  },
  {
   "cell_type": "markdown",
   "metadata": {},
   "source": [
    "<center>**choosing learning rate**</center>\n",
    "<img src=\"images/GD_learningRate.PNG\">"
   ]
  },
  {
   "cell_type": "markdown",
   "metadata": {},
   "source": [
    "<center>**several minimus**</center>\n",
    "<img src=\"images/GD_severalMinimums.PNG\">"
   ]
  },
  {
   "cell_type": "code",
   "execution_count": null,
   "metadata": {},
   "outputs": [],
   "source": []
  },
  {
   "cell_type": "code",
   "execution_count": null,
   "metadata": {},
   "outputs": [],
   "source": []
  },
  {
   "cell_type": "code",
   "execution_count": null,
   "metadata": {},
   "outputs": [],
   "source": []
  },
  {
   "cell_type": "code",
   "execution_count": null,
   "metadata": {},
   "outputs": [],
   "source": []
  },
  {
   "cell_type": "code",
   "execution_count": null,
   "metadata": {},
   "outputs": [],
   "source": []
  },
  {
   "cell_type": "code",
   "execution_count": null,
   "metadata": {},
   "outputs": [],
   "source": []
  },
  {
   "cell_type": "code",
   "execution_count": null,
   "metadata": {},
   "outputs": [],
   "source": []
  }
 ],
 "metadata": {
  "kernelspec": {
   "display_name": "Python 3",
   "language": "python",
   "name": "python3"
  },
  "language_info": {
   "codemirror_mode": {
    "name": "ipython",
    "version": 3
   },
   "file_extension": ".py",
   "mimetype": "text/x-python",
   "name": "python",
   "nbconvert_exporter": "python",
   "pygments_lexer": "ipython3",
   "version": "3.5.2"
  }
 },
 "nbformat": 4,
 "nbformat_minor": 2
}
