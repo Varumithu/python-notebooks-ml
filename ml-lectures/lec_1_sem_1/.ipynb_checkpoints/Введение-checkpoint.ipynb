{
 "cells": [
  {
   "cell_type": "code",
   "execution_count": 1,
   "metadata": {},
   "outputs": [
    {
     "data": {
      "text/latex": [
       "$\\newcommand{\\Population}                    {\\hat{X}} $\n",
       "$\\newcommand{\\allY}                          {{\\hat{Y}}} $\n",
       "$\\newcommand{\\sampleRealObjects}             {{\\overline{X}}} $\n",
       "$\\newcommand{\\sample}                 {X} $\n",
       "$\\newcommand{\\lensabsetsample} {l}$\n",
       "$\\newcommand{\\answers}                             {Y} $\n",
       "$\\newcommand{\\nbFeatures}                             {M} $\n",
       "$\\newcommand{\\nbObjects}                             {N} $\n",
       "$\\newcommand{\\realNumbers}                    {\\mathbb{R}}$\n",
       "$\\newcommand{\\model}                    {\\mathbb{A}}$\n",
       "$\\newcommand{\\params}                    {\\theta}$\n",
       "$\\newcommand{\\setParams}                    {\\Theta}$\n",
       "$\\newcommand{\\methodLearning}          {\\mu}$\n",
       "$\\newcommand{\\alg}          {\\alpha}$\n",
       "$\\newcommand{\\loss}          {L}$\n",
       "$\\newcommand{\\empericRisk}          {Q}$\n",
       "$\\newcommand{\\learningRate}          {\\gamma}$\n",
       "$\\newcommand{\\distance}          {\\rho}$\n",
       "$\\newcommand{\\margin}          {\\mathbb{M}}$\n",
       "$\\newcommand{\\setClasses}          {C}$"
      ]
     },
     "metadata": {},
     "output_type": "display_data"
    }
   ],
   "source": [
    "import IPython.display\n",
    "IPython.display.display_latex(IPython.display.Latex(filename=\"macros.tex\"))"
   ]
  },
  {
   "cell_type": "markdown",
   "metadata": {
    "slideshow": {
     "slide_type": "slide"
    }
   },
   "source": [
    "# <center>Машинное обучение</center>"
   ]
  },
  {
   "cell_type": "markdown",
   "metadata": {
    "slideshow": {
     "slide_type": "slide"
    }
   },
   "source": [
    "## <center> introduction </center>"
   ]
  },
  {
   "cell_type": "markdown",
   "metadata": {
    "slideshow": {
     "slide_type": "slide"
    }
   },
   "source": [
    "**Искусственный Интелелкт (ИИ)** - область науки и технолгии, целью которой является создание _\"умных машин\"_, а так же \"умных программ\".\n",
    "<br>\n",
    "** Машинное обучение ** - подраздел ИИ, целью которого является создание алгоритмов, которые способны _\"обучаться\"_."
   ]
  },
  {
   "cell_type": "markdown",
   "metadata": {
    "slideshow": {
     "slide_type": "fragment"
    }
   },
   "source": [
    "Связанные области из матетматики:\n",
    "* Математическая статистика\n",
    "* Методы оптимизации\n",
    "* Линейная алгебра"
   ]
  },
  {
   "cell_type": "markdown",
   "metadata": {
    "slideshow": {
     "slide_type": "fragment"
    }
   },
   "source": [
    "Типы машинного обучения:\n",
    "1. Обучение с учителем\n",
    "* Обучение без учителя\n",
    "<br><br>\n",
    "* Обучение с подкреплением"
   ]
  },
  {
   "cell_type": "markdown",
   "metadata": {
    "slideshow": {
     "slide_type": "slide"
    }
   },
   "source": [
    "### Обучение с учителем (Supervised learning)\n",
    "\n",
    "_Пусть:_\n",
    "* Генеральная совокупность - $\\Population$. Все объекты в мире (может быть бесконечным).\n",
    "<br>\n",
    "* Все возможные ответы - $\\allY$.\n",
    "\n",
    "_У нас есть:_\n",
    "* $\\sampleRealObjects$ - подвыбока реальных объектов. Пусть размер выборки (кол-во объектов в ней): $\\nbObjects$.\n",
    "<br>\n",
    "* $\\answers$ - ответы на нашей выборке. Для каждого элемента из $\\sampleRealObjects$ есть соответствующий элемент $\\answers$.\n",
    "\n",
    "Мы хотим разработать алгоритм, вычисляющий ответ для заданного объекта. Предаствим это в виде некоторой функции:\n",
    "$$f: \\Population\\rightarrow\\allY $$"
   ]
  },
  {
   "cell_type": "markdown",
   "metadata": {
    "slideshow": {
     "slide_type": "slide"
    }
   },
   "source": [
    "### Обучение без учителя (Supervised learning)\n",
    "\n",
    "У нас нет ответов.<br>\n",
    "Наша цель найти некие внутренние взаимосвязи между существующими объектами."
   ]
  },
  {
   "cell_type": "markdown",
   "metadata": {
    "slideshow": {
     "slide_type": "slide"
    }
   },
   "source": [
    "### Признаковое описание объекта\n",
    "С объектами из реального мира сложно работать без математического описания. Для этого описания мы используем прзнаки.<br>\n",
    "Мы можем измерить характеристику  $j$-ю характеристика любого объекта из генеральной совокупности:\n",
    "$$ f_j(\\Population_i) = x_{ij}, где\\: \\Population_j\\in\\Population$$\n",
    "\n",
    "Измерив $\\nbFeatures$ характеристик объектов из нашего набора данных $\\sampleRealObjects$ мы получим матрицу $\\sample$:"
   ]
  },
  {
   "cell_type": "markdown",
   "metadata": {
    "slideshow": {
     "slide_type": "fragment"
    }
   },
   "source": [
    "$$\n",
    "\\sample\n",
    "=\n",
    "\\begin{bmatrix}\n",
    "    f_1(\\sample_1) & f_2(\\sample_1) & f_3(\\sample_1) & \\dots  & f_\\nbFeatures(\\sample_1) \\\\\n",
    "    f_1(\\sample_2) & f_2(\\sample_2) & f_3(\\sample_2) & \\dots  & f_\\nbFeatures(\\sample_2) \\\\\n",
    "    \\vdots & \\vdots & \\vdots & \\ddots & \\vdots \\\\\n",
    "    f_1(\\sample_\\nbObjects) & f_2(\\sample_\\nbObjects) & f_3(\\sample_\\nbObjects) & \\dots  & f_\\nbFeatures(\\sample_\\nbObjects) \\\\\n",
    "\\end{bmatrix}\n",
    "=\n",
    "\\begin{bmatrix}\n",
    "    x_{11}       & x_{12} & x_{13} & \\dots & x_{1\\nbFeatures} \\\\\n",
    "    x_{21}       & x_{22} & x_{23} & \\dots & x_{2\\nbFeatures} \\\\\n",
    "    \\vdots & \\vdots & \\vdots & \\ddots & \\vdots \\\\\n",
    "    x_{\\nbObjects 1}       & x_{\\nbObjects 2} & x_{\\nbObjects 3} & \\dots & x_{\\nbObjects\\nbFeatures}\n",
    "\\end{bmatrix}\n",
    "$$"
   ]
  },
  {
   "cell_type": "markdown",
   "metadata": {
    "slideshow": {
     "slide_type": "slide"
    }
   },
   "source": [
    "$\\sample$ называется _матрицей признаков_. Договоримся, что как только у нас есть выборка объектов, то у нас есть и матрица признаков и будем считать их синонимами:\n",
    "$$ выборка\\: объектов\\: = \\:матрица \\: признаков $$\n",
    "Об объектах мы будем думать как об их признаковом описании ."
   ]
  },
  {
   "cell_type": "markdown",
   "metadata": {
    "slideshow": {
     "slide_type": "slide"
    }
   },
   "source": [
    "** Типы признаков**\n",
    "$ f_j: \\Population_i\\rightarrow D_j$:\n",
    "* $|D_i| = \\{0,1\\}$ - _бинарный признак_ (пол: мужской/женский)\n",
    "* $|D_i| < \\inf$ - _категориальный признак_ (погода: пасмурно, солнечно, ветренно)\n",
    "* $|D_i| < \\inf$ _категориальный признак и при этом есть отношение порядка над $D_i$ , то это _порядковый признак_ (воинские звания, уровень образования)\n",
    "* $|D_i| = \\realNumbers$ - _прочие числовые признаки_(рост, уровеь давления)"
   ]
  },
  {
   "cell_type": "markdown",
   "metadata": {
    "slideshow": {
     "slide_type": "slide"
    }
   },
   "source": [
    "### Типы задач (ответов) в обучении с учителем\n",
    "**Классификация**<br>\n",
    "$|\\answers| < \\inf$\n",
    "* $|\\answers| = \\{+1,−1\\}$ − бинарная классификация\n",
    "* $|\\answers| = \\{1,…,K\\}$ − классификация на $K$, причем каждый объект относится к какому-то одному классу \n",
    "* $|\\answers| = \\{0,1\\}^K$ − классификация на $K$, причем каждый объект относится к нескольким классам (multi-label классификация)\n",
    "\n",
    "**Регрессия**<br>\n",
    "$|\\answers| = \\realNumbers^m$ где $m \\geq 1$ \n",
    "\n",
    "Если $𝑌$ - бесконечное упорядченное множество. Такой тип задач называется ранжированием и может относиться как к обучению с учитилем, так и к обучению без учителя."
   ]
  },
  {
   "cell_type": "markdown",
   "metadata": {
    "slideshow": {
     "slide_type": "slide"
    }
   },
   "source": [
    "### Основные типы задач в обучении без учителя\n",
    "\n",
    "<u>Кластеризация</u> - объект делится на непересекающиеся множества, которые называются кластерами. Объекты из одного класса должны \"быть похожи\" друг на друга, и отличаться от другого кластера.\n",
    "\n",
    "<u>Нахождение ассоциативных правил</u> - нахождение признаков, которые идут как правило, вместе (пример: составление потребительской корзины).\n",
    "\n",
    "<u>Заполнение пропущенных данных</u> – значения для каких то признаков и даже объектов могут быть пропущены, нам надо их как нибудь заполнить.\n",
    "\n",
    "<u>Сокращение размерности</u> - исходные данные представлены в виде признаковой матрицы и число признаков может быть большим. Задача: представить эти данные в пространстве меньшей размерности, возможно с потерей информации."
   ]
  },
  {
   "cell_type": "markdown",
   "metadata": {
    "slideshow": {
     "slide_type": "slide"
    }
   },
   "source": [
    "## <center>Строгие определения. Обощаюшая способность, качество обобщения.</center>"
   ]
  },
  {
   "cell_type": "markdown",
   "metadata": {
    "slideshow": {
     "slide_type": "slide"
    }
   },
   "source": [
    "### Определения\n",
    "<u>Модель</u> - множество функций\n",
    "$$\\model = \\{g(x, \\params)\\:|\\:\\params\\in\\setParams\\} \\: where\\: g:\\Population*\\setParams\\rightarrow\\allY$$\n",
    "<u>Метод обучения</u> - множество:\n",
    "$$\\methodLearning:(\\Population*\\allY)^l\\rightarrow\\model$$\n",
    "\n",
    "$(\\Population*\\allY)^l = (x_i, y_i)^l_{i = 1}$ - случайный объект\n",
    "\n",
    "$\\alg\\in\\model$ - алгоритм\n",
    "<br>\n",
    "<br>\n",
    "В обучении с учителем две фазы:\n",
    "1. Обучение(Train) - способ обучения $\\methodLearning$ по объектам $(\\Population*\\allY)^l$ строит алгоритм $\\alg = \\methodLearning((\\Population*\\allY)^l)$\n",
    "1. Тестирование(Test) - алгоритм $\\alg$ для (новых) объектов $x\\in\\Population$ предсказывает ответ(ы) $\\alg(x)$"
   ]
  },
  {
   "cell_type": "markdown",
   "metadata": {
    "slideshow": {
     "slide_type": "slide"
    }
   },
   "source": [
    "<u>Функция потерь</u>:<br>\n",
    "$L(\\alg, x)$ - мера ошибки алгоритма  $\\alg\\in\\model$ на объекте $x\\in\\Population$.\n",
    "\n",
    "**Определение** функция $y$ по $x\\in\\sample$ возвращает ответ для $x$ из $\\answers$.<br>\n",
    "\n",
    "_например для классифицикации_:<br>\n",
    "$\\loss(\\alg, x) = [\\alg(x) \\neq y(x)]$ где $[True] = 1$ и $[False] = 0$\n",
    "\n",
    "_Для регрессии_:<br>\n",
    "$\\loss = |\\alg(x) - y(x)|$ - абсолютная ошибка.<br>\n",
    "$\\loss = (\\alg(x) - y(x))^2$ - квадратичная ошибка.<br>"
   ]
  },
  {
   "cell_type": "markdown",
   "metadata": {
    "slideshow": {
     "slide_type": "slide"
    }
   },
   "source": [
    "<u>Эмпирический риск(empirical risk(ER))</u> - в той или иной степени характеризует качество работы алгоритма:\n",
    "$$ \\empericRisk(\\alg, \\Population^l) = \\frac{1}{l} \\sum_{i = 1}^l \\loss(\\alg, x_i) $$\n",
    "$\\empericRisk(\\alg, \\Population^l)\\rightarrow min$ - чем меньше, тем лучше"
   ]
  },
  {
   "cell_type": "markdown",
   "metadata": {
    "slideshow": {
     "slide_type": "fragment"
    }
   },
   "source": [
    "<u>Минимизация эмпирического риска</u>\n",
    "\n",
    "$$\\methodLearning(\\Population) = argmin_{\\alg\\in\\model}\\empericRisk(\\alg, \\Population^l)$$\n",
    "<br>\n",
    "У нас есть: $\\sample$, $\\answers$ - объекты и ответы на них.\n",
    "<br>\n",
    "Мы выбираем: $\\model(\\setParams)$\n",
    "<br>\n",
    "Найти: $\\alg' = \\methodLearning(\\sample)$\n",
    "<br>\n",
    "$$\n",
    "\\methodLearning(\\sample) = min_{\\alg\\in\\model}\\empericRisk(\\alg, \\sample) =\n",
    "$$\n",
    "$$\n",
    "min_{\\params\\in\\setParams}\\empericRisk(\\model(\\params), \\sample) = \n",
    "$$\n",
    "$$\n",
    "= min_{\\params\\in\\setParams}\\frac{1}{l} \\sum_{i = 1}^l \\loss(\\model(\\params), x_i) = \n",
    "$$\n",
    "$$\n",
    "=min_{\\params\\in\\setParams}\\frac{1}{l} \\sum_{i = 1}^l \\loss(g(x, \\params), x_i)\n",
    "$$"
   ]
  },
  {
   "cell_type": "markdown",
   "metadata": {
    "collapsed": true,
    "slideshow": {
     "slide_type": "slide"
    }
   },
   "source": [
    "Например, для метода наименьших квандратов, МНК (ordinary least squares, OLS):\n",
    "$$min_{\\params\\in\\setParams}\\frac{1}{l} \\sum_{i = 1}^l (g(x, \\params)- y_i)^2$$"
   ]
  },
  {
   "cell_type": "markdown",
   "metadata": {
    "collapsed": true,
    "slideshow": {
     "slide_type": "fragment"
    }
   },
   "source": [
    "В результате, для задач машобуча мы получаем минимизационную задачу"
   ]
  },
  {
   "cell_type": "markdown",
   "metadata": {
    "collapsed": true,
    "slideshow": {
     "slide_type": "slide"
    }
   },
   "source": [
    "### Обощающая способность, качество обучения\n",
    "\n",
    "Мы нашли закон природы или просто настроили  $g(x, \\params)$ на какой-то частный случай? Будет ли полученный алгоритм аппроксиммировать желаемую функцию на всей генеральной совокупности? Хорошо ли алгоритм будет работать на новых данных? Не <u>переобучились (overfit)</u> ли мы?\n",
    "\n",
    "Пусть $\\Population^l$ - обучающая выборка, $\\Population^k$ - тестовая выборка. Если это так, то\n",
    "$$\\empericRisk(\\methodLearning(\\Population^l), \\Population^k)\\gg \\empericRisk(\\methodLearning(\\Population^l), \\Population^l)$$\n",
    "значит алгоритм переобучен."
   ]
  },
  {
   "cell_type": "markdown",
   "metadata": {
    "collapsed": true,
    "slideshow": {
     "slide_type": "slide"
    }
   },
   "source": [
    "**Как избежать переобучения?**\n",
    "\n",
    "Проверяем на отложенной выборке (hold-out):\n",
    "$$\n",
    "HO(\\methodLearning, \\sample_{train}, \\sample_{test}) = \\empericRisk(\\methodLearning(\\sample_{train}), \\sample_{test}) \\rightarrow min\n",
    "$$\n",
    "Перекрестная проверка (cross-validation):\n",
    "$$\n",
    "CV(\\methodLearning, \\sample^{l+k}) = \\frac{1}{|n|}\\sum_{i\\in n}\\empericRisk(\\methodLearning(\\sample^l_i), \\sample^k_i)\n",
    "$$\n",
    "Теоретическая оценка эмпирического риска:\n",
    "$$\n",
    "E\\:[\\:\\empericRisk(\\methodLearning(\\sample^l_i), \\sample^k_i)\\:]\\:\\rightarrow min\n",
    "$$\n",
    "$E$ - мат ожидание."
   ]
  },
  {
   "cell_type": "markdown",
   "metadata": {
    "collapsed": true,
    "slideshow": {
     "slide_type": "slide"
    }
   },
   "source": [
    "**Почему** мы можем переобучиться?\n",
    "* большая сложность пространства параметров $\\setParams$\n",
    "* Переобучение будет всегда, если мы оптимизируем параметры не для генеральной совокупности."
   ]
  },
  {
   "cell_type": "markdown",
   "metadata": {
    "collapsed": true,
    "slideshow": {
     "slide_type": "slide"
    }
   },
   "source": [
    "### Особенности некоторых задач\n",
    "* Требуется интерпретируемость алгоритма\n",
    "* Требуется предсказывать вероятность ошибки\n",
    "* \"Большой\" размер объектов\n",
    "* Пропуски в данных\n",
    "* \"Сырые данные\", сложности в выборке и построении признаков\n",
    "* Данные могут быть устаревшими\n",
    "* Не размеченные и плохо размеченные данные\n",
    "* Малое количество обучающих примеров\n",
    "* Типы информации различны:текст + звук + видео\n",
    "* Нужен высокопроизводительный алгоритм\n",
    "* Разные функции потерь\n",
    "* ..."
   ]
  },
  {
   "cell_type": "markdown",
   "metadata": {
    "slideshow": {
     "slide_type": "slide"
    }
   },
   "source": [
    "### Метрика качества\n",
    "Метрика(качества) - способ измерить, какой алгоритм дает дучший результат.<br>\n",
    "Метрика может быть равна эмпирическому риску, но может быть более сложной, более общей.\n",
    "\n",
    "_Примеры:_<br>\n",
    "двоичная классификация \n",
    "$$\\loss(\\alg, x) = [\\alg(x) \\neq y(x)] \\Rightarrow ER = \\frac{1}{l} \\sum_{i = 1}^l [\\alg(x) \\neq y(x)] $$\n",
    "метрика - отношение кол-ва правильных предсказаний к общему числу примеров - \"точность\" (accuracy)<br>\n",
    "$$ M = \\frac{\\sum_{i = 1}^l [\\alg(x) = y(x)]}{l}$$\n"
   ]
  },
  {
   "cell_type": "markdown",
   "metadata": {
    "slideshow": {
     "slide_type": "slide"
    }
   },
   "source": [
    "## <center> end of introduction </center>"
   ]
  }
 ],
 "metadata": {
  "kernelspec": {
   "display_name": "Python 3",
   "language": "python",
   "name": "python3"
  },
  "language_info": {
   "codemirror_mode": {
    "name": "ipython",
    "version": 3
   },
   "file_extension": ".py",
   "mimetype": "text/x-python",
   "name": "python",
   "nbconvert_exporter": "python",
   "pygments_lexer": "ipython3",
   "version": "3.5.2"
  }
 },
 "nbformat": 4,
 "nbformat_minor": 2
}
