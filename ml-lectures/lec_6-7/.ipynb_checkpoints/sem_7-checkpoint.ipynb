{
 "cells": [
  {
   "cell_type": "code",
   "execution_count": 2,
   "metadata": {},
   "outputs": [
    {
     "data": {
      "text/latex": [
       "$\\newcommand{\\Population}                    {\\hat{X}} $\n",
       "$\\newcommand{\\allY}                          {{\\hat{Y}}} $\n",
       "$\\newcommand{\\sampleRealObjects}             {{\\overline{X}}} $\n",
       "$\\newcommand{\\sample}                 {X} $\n",
       "$\\newcommand{\\lensabsetsample} {l}$\n",
       "$\\newcommand{\\answers}                             {Y} $\n",
       "$\\newcommand{\\nbFeatures}                             {M} $\n",
       "$\\newcommand{\\nbObjects}                             {N} $\n",
       "$\\newcommand{\\realNumbers}                    {\\mathbb{R}}$\n",
       "$\\newcommand{\\model}                    {\\mathbb{A}}$\n",
       "$\\newcommand{\\params}                    {\\theta}$\n",
       "$\\newcommand{\\setParams}                    {\\Theta}$\n",
       "$\\newcommand{\\methodLearning}          {\\mu}$\n",
       "$\\newcommand{\\alg}          {\\alpha}$\n",
       "$\\newcommand{\\loss}          {L}$\n",
       "$\\newcommand{\\empericRisk}          {Q}$\n",
       "$\\newcommand{\\learningRate}          {\\gamma}$\n",
       "$\\newcommand{\\distance}          {\\rho}$\n",
       "$\\newcommand{\\margin}          {\\mathbb{M}}$\n",
       "$\\newcommand{\\setClasses}          {C}$\n",
       "$\\newcommand{\\grad}          {\\nabla_{\\theta}}$\n",
       "\n"
      ]
     },
     "metadata": {},
     "output_type": "display_data"
    }
   ],
   "source": [
    "import numpy as np\n",
    "import IPython.display\n",
    "IPython.display.display_latex(IPython.display.Latex(filename=\"./macros.tex\"))"
   ]
  },
  {
   "cell_type": "markdown",
   "metadata": {},
   "source": [
    "# Немного про SVM"
   ]
  },
  {
   "cell_type": "markdown",
   "metadata": {},
   "source": [
    "Напомним основные моменты: линейно разделимая выборка, все дела, $x_i$ - примеры, $y_i$ - ответы $y_i$ = {-1, 1}, <$a$, $b$> - скалярное произведение векторов а и b. $$$$\n",
    "Задача найти оптимальную гиперплоскость для разделения 2 выборок."
   ]
  },
  {
   "cell_type": "code",
   "execution_count": 3,
   "metadata": {},
   "outputs": [
    {
     "data": {
      "image/png": "[encoded data removed]",
      "text/plain": [
       "<IPython.core.display.Image object>"
      ]
     },
     "execution_count": 3,
     "metadata": {},
     "output_type": "execute_result"
    }
   ],
   "source": [
    "IPython.display.Image(\"./images/decision_boundary.png\")"
   ]
  },
  {
   "cell_type": "markdown",
   "metadata": {},
   "source": [
    "пусть метки классов +1, -1, тогда получаем (см. прошлую лекцию):\n",
    "$$y_i(<x_i, \\theta>+b)\\geq 0$$\n",
    "$$y_i(<x_i, \\theta>+b)\\geq \\epsilon$$\n",
    "$$y_i(<x_i, \\theta>+b)\\geq 1$$"
   ]
  },
  {
   "cell_type": "markdown",
   "metadata": {},
   "source": [
    "Возьмем 2 объекта, пложительного и отрицательного класса $x_+$ и $x_-$ (так называемые опорные вектора), тогда:\n",
    "$$b - 1 + <x_+, \\theta> = 0$$\n",
    "$$b + 1 + <x_-, \\theta> = 0$$"
   ]
  },
  {
   "cell_type": "code",
   "execution_count": 5,
   "metadata": {},
   "outputs": [
    {
     "data": {
      "image/png": "[encoded data removed]",
      "text/plain": [
       "<IPython.core.display.Image object>"
      ]
     },
     "execution_count": 5,
     "metadata": {},
     "output_type": "execute_result"
    }
   ],
   "source": [
    " IPython.display.Image(\"./images/line_width.png\")"
   ]
  },
  {
   "cell_type": "markdown",
   "metadata": {},
   "source": [
    "Ширина полосы:\n",
    "$<(x_+-x_-), \\frac{\\theta}{\\lVert{\\theta}\\rVert}> = \\frac{2}{\\lVert{\\theta}\\rVert}$ - максимизируем"
   ]
  },
  {
   "cell_type": "markdown",
   "metadata": {},
   "source": [
    "Итого, получаем:\n",
    "$$$$\n",
    "$\\begin{equation*}\n",
    " \\begin{cases}\n",
    "  0.5<\\theta, \\theta>\\rightarrow min\n",
    "  \\\\\n",
    "  y_i(<x_i, \\theta>+b)\\geq 1\n",
    " \\end{cases}\n",
    "\\end{equation*}$\n",
    "$$$$\n",
    "Чтобы решить все вот ето, необходимо воспользоваться теоремой Куна-Такера."
   ]
  },
  {
   "cell_type": "raw",
   "metadata": {},
   "source": [
    "https://ru.wikipedia.org/wiki/Условия_Каруша_—_Куна_—_Таккера"
   ]
  },
  {
   "cell_type": "markdown",
   "metadata": {},
   "source": [
    "Тогда получаем:\n",
    "$$$$\n",
    "$\\begin{equation*}\n",
    " \\begin{cases}\n",
    "   L(\\theta, b) = 0.5<\\theta, \\theta> - \\sum_i \\lambda_i({y_i(<x_i, \\theta>+b)-1})\\rightarrow min_{\\theta, b}, max_{\\lambda_i}\n",
    "   \\\\\n",
    "   \\lambda_i \\geq 0\n",
    "   \\\\\n",
    "   \\lambda_i (y_i(<x_i, \\theta>+b)-1) = 0\n",
    " \\end{cases}\n",
    "\\end{equation*}$"
   ]
  },
  {
   "cell_type": "markdown",
   "metadata": {},
   "source": [
    "Ищем производные \n",
    "$$\\frac{\\partial{L}}{\\partial\\theta_j} = 0 = \\theta_j - \\sum_i \\lambda_iy_ix_{ij}$$\n",
    "$$\\frac{\\partial{L}}{\\partial{b}} = 0 = \\sum_i \\lambda_iy_i$$"
   ]
  },
  {
   "cell_type": "markdown",
   "metadata": {},
   "source": [
    "\\begin{equation}\\theta = \\sum_i \\lambda_iy_ix_{i} \\ \\ \\ \\ \\ \\ \\ \\ \\ (1)\\end{equation} \n",
    "\\begin{equation} 0 = \\sum_i \\lambda_iy_i \\ \\ \\ \\ \\ \\ \\ \\ \\ \\ \\ (2)\\end{equation}\n",
    "\\begin{equation} b = y_i - <x_i, \\theta> \\end{equation}"
   ]
  },
  {
   "cell_type": "markdown",
   "metadata": {},
   "source": [
    "Проблема: нету циферок $\\lambda_i$\n",
    "$$$$\n",
    "Решение: давайте возьмем только что полученные выражения и подставим их."
   ]
  },
  {
   "cell_type": "markdown",
   "metadata": {},
   "source": [
    "$$L(\\theta, b) = 0.5<\\theta, \\theta> - \\sum_i \\lambda_i({y_i(<x_i, \\theta>+b)-1}) = $$\n",
    "$$ 0.5<\\theta, \\theta> - \\sum_i \\lambda_i{y_i(<x_i, \\theta>+b)} + \\sum_i \\lambda_i =$$ \n",
    "$$ \\sum_i \\lambda_i + 0.5<\\theta, \\theta> - \\sum_i \\lambda_i{y_i<x_i, \\theta>} - b\\sum_i \\lambda_iy_i$$\n",
    "Последнее выпиливается из-за формулы (2)"
   ]
  },
  {
   "cell_type": "markdown",
   "metadata": {},
   "source": [
    "$$\\sum_i \\lambda_i + 0.5<\\theta, \\theta> - \\sum_i \\lambda_i{y_i<x_i, \\theta>} = $$\n",
    "$$\\sum_i \\lambda_i + 0.5<\\theta, \\theta> - <\\sum_i \\lambda_i{y_ix_i}, \\theta> = $$\n",
    "Подставляем формулу (1)\n",
    "$$\\sum_i \\lambda_i + 0.5<\\theta, \\theta> - <\\theta, \\theta> = \\sum_i \\lambda_i - 0.5<\\theta, \\theta>$$\n",
    "$$\\sum_i \\lambda_i - 0.5<\\sum_i \\lambda_iy_ix_{i}, \\sum_j \\lambda_jy_jx_{j}>$$"
   ]
  },
  {
   "cell_type": "markdown",
   "metadata": {},
   "source": [
    "Последнюю формулу оптимизируем методом градиентного спуска."
   ]
  },
  {
   "cell_type": "code",
   "execution_count": null,
   "metadata": {},
   "outputs": [],
   "source": []
  },
  {
   "cell_type": "code",
   "execution_count": null,
   "metadata": {},
   "outputs": [],
   "source": []
  },
  {
   "cell_type": "code",
   "execution_count": null,
   "metadata": {},
   "outputs": [],
   "source": []
  }
 ],
 "metadata": {
  "kernelspec": {
   "display_name": "Python 3",
   "language": "python",
   "name": "python3"
  },
  "language_info": {
   "codemirror_mode": {
    "name": "ipython",
    "version": 3
   },
   "file_extension": ".py",
   "mimetype": "text/x-python",
   "name": "python",
   "nbconvert_exporter": "python",
   "pygments_lexer": "ipython3",
   "version": "3.6.9"
  }
 },
 "nbformat": 4,
 "nbformat_minor": 2
}
