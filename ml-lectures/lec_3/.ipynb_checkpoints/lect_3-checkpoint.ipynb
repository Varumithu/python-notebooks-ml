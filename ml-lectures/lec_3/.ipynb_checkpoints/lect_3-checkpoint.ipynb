{
 "cells": [
  {
   "cell_type": "code",
   "execution_count": 2,
   "metadata": {},
   "outputs": [
    {
     "data": {
      "text/latex": [
       "$\\newcommand{\\Population}                    {\\hat{X}} $\n",
       "$\\newcommand{\\allY}                          {{\\hat{Y}}} $\n",
       "$\\newcommand{\\sampleRealObjects}             {{\\overline{X}}} $\n",
       "$\\newcommand{\\sample}                 {X} $\n",
       "$\\newcommand{\\lensabsetsample} {l}$\n",
       "$\\newcommand{\\answers}                             {Y} $\n",
       "$\\newcommand{\\nbFeatures}                             {M} $\n",
       "$\\newcommand{\\nbObjects}                             {N} $\n",
       "$\\newcommand{\\realNumbers}                    {\\mathbb{R}}$\n",
       "$\\newcommand{\\model}                    {\\mathbb{A}}$\n",
       "$\\newcommand{\\params}                    {\\theta}$\n",
       "$\\newcommand{\\setParams}                    {\\Theta}$\n",
       "$\\newcommand{\\methodLearning}          {\\mu}$\n",
       "$\\newcommand{\\alg}          {\\alpha}$\n",
       "$\\newcommand{\\loss}          {L}$\n",
       "$\\newcommand{\\empericRisk}          {Q}$\n",
       "$\\newcommand{\\learningRate}          {\\gamma}$\n",
       "$\\newcommand{\\distance}          {\\rho}$\n",
       "$\\newcommand{\\margin}          {\\mathbb{M}}$\n",
       "$\\newcommand{\\setClasses}          {C}$"
      ]
     },
     "metadata": {},
     "output_type": "display_data"
    }
   ],
   "source": [
    "import IPython.display\n",
    "IPython.display.display_latex(IPython.display.Latex(filename=\"macros.tex\"))"
   ]
  },
  {
   "cell_type": "markdown",
   "metadata": {},
   "source": [
    "<img src=\"images/dTree.PNG\">"
   ]
  },
  {
   "cell_type": "markdown",
   "metadata": {},
   "source": [
    "Предикат или логическое правило: \n",
    "$\\phi(x):X\\rightarrow\\{0,1\\}$\n",
    "$$$$\n",
    "По сути, некоторое правило, которое отделяет одни объекты от других. Хотим, чтобы эти правила были человекоинтерпретируемыми."
   ]
  },
  {
   "cell_type": "markdown",
   "metadata": {},
   "source": [
    "Основная задача, придумать какие-то предикаты, по которым бы можно было бы разделить нашу выборку  самым эффективным образом"
   ]
  },
  {
   "cell_type": "markdown",
   "metadata": {},
   "source": [
    "<img src=\"images/rules_or_redicate.jpg\">"
   ]
  },
  {
   "cell_type": "markdown",
   "metadata": {},
   "source": [
    "# Как будем делить? (Энтропия)"
   ]
  },
  {
   "cell_type": "markdown",
   "metadata": {},
   "source": [
    "**Энтропия**\n",
    "$$S = -\\sum_{i = 1}^{C}p_i log_2 p_i$$\n",
    "$p_i$ - probability to be $i-th$ class"
   ]
  },
  {
   "cell_type": "markdown",
   "metadata": {},
   "source": [
    "Смысл энтропии: математическое ожидание количества бит, которым необходимо закодировать сообщение."
   ]
  },
  {
   "cell_type": "markdown",
   "metadata": {},
   "source": [
    "In leaf: \n",
    "* class 1: 9 objects\n",
    "* class 2: 11 objects\n",
    "\n",
    "$p_1 =\\frac{9}{20}$\n",
    "\n",
    "$p_2 =\\frac{11}{20}$"
   ]
  },
  {
   "cell_type": "markdown",
   "metadata": {},
   "source": [
    "$$S_0 = - \\frac{9}{20}log_2\\Big(\\frac{9}{20}\\Big) - \\frac{11}{20}log_2\\Big(\\frac{11}{20}\\Big)\\approx 1$$"
   ]
  },
  {
   "cell_type": "markdown",
   "metadata": {},
   "source": [
    "$\\phi = f_j > \\zeta$ - предикат (признак $f_j$ больше какого то значения $\\zeta$)\n",
    "\n",
    "$P = true$:\n",
    "* class 1: 8 objects\n",
    "* class 2: 5 objects\n",
    "\n",
    "$P = false$:\n",
    "* class 1: 1 objects\n",
    "* class 2: 6 objects"
   ]
  },
  {
   "cell_type": "markdown",
   "metadata": {},
   "source": [
    "$S_1 = - \\frac{8}{13}log_2\\Big(\\frac{8}{13}\\Big) - \\frac{5}{13}log_2\\Big(\\frac{5}{13}\\Big)\\approx 0.96$\n",
    "\n",
    "$S_2 = - \\frac{1}{7}log_2\\Big(\\frac{1}{7}\\Big) - \\frac{6}{7}log_2\\Big(\\frac{6}{7}\\Big)\\approx 0.6$"
   ]
  },
  {
   "cell_type": "markdown",
   "metadata": {},
   "source": [
    "**information gain**, IG:\n",
    "$$IG(P) = S_0 - \\sum_{i = 1}^{2}\\frac{N_i}{N}S_i$$\n",
    "\n",
    "$N_i$ - число объектов которые отнесли в $i-ый$ лист, N - всего объектов, ДО РАЗДЕЛЕНИЯ"
   ]
  },
  {
   "cell_type": "markdown",
   "metadata": {},
   "source": [
    "$IG = 1 - \\frac{13}{20}*0.96 - \\frac{7}{20}*0.6$"
   ]
  },
  {
   "cell_type": "markdown",
   "metadata": {},
   "source": [
    "**В итоге, надо выбрать предикат так, чтобы**:\n",
    "$$argmax_P(IG(\\phi))$$\n",
    "\n",
    "$$argmax_{j, \\zeta}(f_j > \\zeta)$$"
   ]
  },
  {
   "cell_type": "markdown",
   "metadata": {},
   "source": [
    "# Функционал качества:"
   ]
  },
  {
   "cell_type": "markdown",
   "metadata": {},
   "source": [
    "$Q(N) = H(N) - \\frac{N_{1}}{N}*H(N_1) - \\frac{N_{2}}{N}*H(N_2)$"
   ]
  },
  {
   "cell_type": "markdown",
   "metadata": {},
   "source": [
    "Q - прирост информации, а H - критерий информативности (impurity measure). Выбор H - не едеинственный."
   ]
  },
  {
   "cell_type": "markdown",
   "metadata": {},
   "source": [
    "**Другие варианты**\n",
    "\n",
    "Gini impurity\n",
    "$$G = \\sum_{k=1}^{C} p_k*(1 - p_k)$$"
   ]
  },
  {
   "cell_type": "markdown",
   "metadata": {},
   "source": [
    "<img src=\"images/gini_entropy.png\">"
   ]
  },
  {
   "cell_type": "raw",
   "metadata": {},
   "source": [
    "В итоге, алгоритм построения решающего дерева такой:\n",
    "s0 = вычисляем энтропию исходного множества\n",
    "\n",
    "Если s0 == 0 значит:\n",
    "   Все объекты исходного набора, принадлежат к одному классу\n",
    "   Сохраняем этот класс в качестве листа дерева\n",
    "\n",
    "Если s0 != 0 значит:\n",
    "   Перебираем все элементы исходного множества:\n",
    "      Для каждого элемента перебираем все его атрибуты:\n",
    "         На основе каждого атрибута генерируем предикат, который разбивает исходное множество на два подмножества\n",
    "         Рассчитываем среднее значение энтропии\n",
    "         Вычисляем IG\n",
    "   Нас интересует предикат, с наибольшим значением IG\n",
    "   Найденный предикат является частью дерева принятия решений, сохраняем его\n",
    "\n",
    "   Разбиваем исходное множество на подмножества, согласно предикату\n",
    "   Повторяем данную процедуру рекурсивно для каждого подмножества"
   ]
  },
  {
   "cell_type": "markdown",
   "metadata": {},
   "source": [
    "## Достоинства и недостатки решающих деревеьев "
   ]
  },
  {
   "cell_type": "markdown",
   "metadata": {},
   "source": [
    "<img src=\"images/decision_tree_summary.png\">"
   ]
  },
  {
   "cell_type": "code",
   "execution_count": null,
   "metadata": {},
   "outputs": [],
   "source": []
  },
  {
   "cell_type": "code",
   "execution_count": null,
   "metadata": {},
   "outputs": [],
   "source": []
  },
  {
   "cell_type": "code",
   "execution_count": null,
   "metadata": {},
   "outputs": [],
   "source": []
  },
  {
   "cell_type": "code",
   "execution_count": null,
   "metadata": {},
   "outputs": [],
   "source": []
  }
 ],
 "metadata": {
  "kernelspec": {
   "display_name": "Python 3",
   "language": "python",
   "name": "python3"
  },
  "language_info": {
   "codemirror_mode": {
    "name": "ipython",
    "version": 3
   },
   "file_extension": ".py",
   "mimetype": "text/x-python",
   "name": "python",
   "nbconvert_exporter": "python",
   "pygments_lexer": "ipython3",
   "version": "3.6.9"
  }
 },
 "nbformat": 4,
 "nbformat_minor": 2
}
