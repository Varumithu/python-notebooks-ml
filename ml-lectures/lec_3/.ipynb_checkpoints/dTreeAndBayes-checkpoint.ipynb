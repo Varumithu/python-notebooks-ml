{
 "cells": [
  {
   "cell_type": "code",
   "execution_count": 1,
   "metadata": {
    "slideshow": {
     "slide_type": "slide"
    }
   },
   "outputs": [
    {
     "data": {
      "text/latex": [
       "$\\newcommand{\\Population}                    {\\hat{X}} $\n",
       "$\\newcommand{\\allY}                          {{\\hat{Y}}} $\n",
       "$\\newcommand{\\sampleRealObjects}             {{\\overline{X}}} $\n",
       "$\\newcommand{\\sample}                 {X} $\n",
       "$\\newcommand{\\lensabsetsample} {l}$\n",
       "$\\newcommand{\\answers}                             {Y} $\n",
       "$\\newcommand{\\nbFeatures}                             {M} $\n",
       "$\\newcommand{\\nbObjects}                             {N} $\n",
       "$\\newcommand{\\realNumbers}                    {\\mathbb{R}}$\n",
       "$\\newcommand{\\model}                    {\\mathbb{A}}$\n",
       "$\\newcommand{\\params}                    {\\theta}$\n",
       "$\\newcommand{\\setParams}                    {\\Theta}$\n",
       "$\\newcommand{\\methodLearning}          {\\mu}$\n",
       "$\\newcommand{\\alg}          {\\alpha}$\n",
       "$\\newcommand{\\loss}          {L}$\n",
       "$\\newcommand{\\empericRisk}          {Q}$\n",
       "$\\newcommand{\\learningRate}          {\\gamma}$\n",
       "$\\newcommand{\\distance}          {\\rho}$\n",
       "$\\newcommand{\\margin}          {\\mathbb{M}}$\n",
       "$\\newcommand{\\setClasses}          {C}$"
      ]
     },
     "metadata": {},
     "output_type": "display_data"
    }
   ],
   "source": [
    "import IPython.display\n",
    "IPython.display.display_latex(IPython.display.Latex(filename=\"../macros.tex\"))"
   ]
  },
  {
   "cell_type": "markdown",
   "metadata": {
    "slideshow": {
     "slide_type": "slide"
    }
   },
   "source": [
    "### decision trees"
   ]
  },
  {
   "cell_type": "markdown",
   "metadata": {
    "slideshow": {
     "slide_type": "slide"
    }
   },
   "source": [
    "<img src=\"images/dTree.PNG\">"
   ]
  },
  {
   "cell_type": "markdown",
   "metadata": {
    "slideshow": {
     "slide_type": "fragment"
    }
   },
   "source": [
    "logical rules:\n",
    "\n",
    "(\"checking account\" < 200) AND (\"Duration\" < 2) AND (\"credit history\" = Bad) $\\Rightarrow$ BAD"
   ]
  },
  {
   "cell_type": "markdown",
   "metadata": {
    "slideshow": {
     "slide_type": "slide"
    }
   },
   "source": [
    "#### construct\n",
    "\n",
    "* predicate or class-label in leaf\n",
    "* answers on edges"
   ]
  },
  {
   "cell_type": "markdown",
   "metadata": {
    "slideshow": {
     "slide_type": "slide"
    }
   },
   "source": [
    "_We want the \"best\" deviding on each step (in each leaf)_"
   ]
  },
  {
   "cell_type": "markdown",
   "metadata": {
    "slideshow": {
     "slide_type": "slide"
    }
   },
   "source": [
    "**Entropy**\n",
    "$$S = -\\sum_{i = 1}^{C}p_i log_2 p_i$$\n",
    "$p_i$ - probability to be $i-th$ class"
   ]
  },
  {
   "cell_type": "markdown",
   "metadata": {
    "slideshow": {
     "slide_type": "fragment"
    }
   },
   "source": [
    "In leaf: \n",
    "* class 1: 9 objects\n",
    "* class 2: 11 objects\n",
    "\n",
    "$p_1 =\\frac{9}{20}$\n",
    "\n",
    "$p_2 =\\frac{11}{20}$"
   ]
  },
  {
   "cell_type": "markdown",
   "metadata": {
    "slideshow": {
     "slide_type": "fragment"
    }
   },
   "source": [
    "$$S_0 = - \\frac{9}{20}log_2\\Big(\\frac{9}{20}\\Big) - \\frac{11}{20}log_2\\Big(\\frac{11}{20}\\Big)\\approx 1$$"
   ]
  },
  {
   "cell_type": "markdown",
   "metadata": {
    "slideshow": {
     "slide_type": "slide"
    }
   },
   "source": [
    "$P = f_j > c_k$ -predicat\n",
    "\n",
    "$P = true$:\n",
    "* class 1: 8 objects\n",
    "* class 2: 5 objects\n",
    "\n",
    "$P = false$:\n",
    "* class 1: 1 objects\n",
    "* class 2: 6 objects"
   ]
  },
  {
   "cell_type": "markdown",
   "metadata": {
    "slideshow": {
     "slide_type": "fragment"
    }
   },
   "source": [
    "$S_1 = - \\frac{8}{13}log_2\\Big(\\frac{8}{13}\\Big) - \\frac{5}{13}log_2\\Big(\\frac{5}{13}\\Big)\\approx 0.96$\n",
    "\n",
    "$S_2 = - \\frac{1}{7}log_2\\Big(\\frac{1}{7}\\Big) - \\frac{6}{7}log_2\\Big(\\frac{6}{7}\\Big)\\approx 0.6$"
   ]
  },
  {
   "cell_type": "markdown",
   "metadata": {
    "slideshow": {
     "slide_type": "slide"
    }
   },
   "source": [
    "**information gain**, IG:\n",
    "$$IG(P) = S_0 - \\sum_{i = 1}^{q}\\frac{C_i}{C}S_i$$\n",
    "\n",
    "$C_i$ - nb of object in $i-th$ leaf"
   ]
  },
  {
   "cell_type": "markdown",
   "metadata": {
    "slideshow": {
     "slide_type": "slide"
    }
   },
   "source": [
    "$$IG(f_j > c_k) = S_0 - \\frac{13}{20}*S_1 - \\frac{7}{20}* S_2\\approx 0.16$$"
   ]
  },
  {
   "cell_type": "markdown",
   "metadata": {
    "slideshow": {
     "slide_type": "slide"
    }
   },
   "source": [
    "**chose predicat in leaf**:\n",
    "$$argmax_P(IG(P))$$\n",
    "\n",
    "$$argmax_{j, c_k}(f_j > c_k)$$"
   ]
  },
  {
   "cell_type": "markdown",
   "metadata": {
    "slideshow": {
     "slide_type": "slide"
    }
   },
   "source": [
    "**another implementations**\n",
    "\n",
    "Gini impurity\n",
    "$$G = 1 - \\sum_k(p_k)^2$$\n",
    "\n",
    "Donskoy Splitting criteria\n",
    "$$D(P) = \\big|\\{(x_i, y_i)\\::\\:y_i\\neq y_j\\: AND\\: P(x_i)\\neq P(x_j)\\}\\big|$$"
   ]
  },
  {
   "cell_type": "markdown",
   "metadata": {
    "slideshow": {
     "slide_type": "slide"
    }
   },
   "source": [
    "**Numerical features**:\n",
    "\n",
    "* sort values $\\rightarrow$ some numerical segment\n",
    "* chose one from each numerical segment\n",
    "\n",
    "| object | f1  |\n",
    "|--------|-----|\n",
    "| 1      | 22  |\n",
    "| 2      | 36  |\n",
    "| 3      | 19  |\n",
    "| 4      | 36  |\n",
    "| 5      | 54  |\n",
    "\n",
    "$f1: 19, 22, 36, 54$ $\\Rightarrow$ $c = \\{0, 20, 30, 40, 60\\}$"
   ]
  },
  {
   "cell_type": "markdown",
   "metadata": {
    "slideshow": {
     "slide_type": "slide"
    }
   },
   "source": [
    "_sklearn.tree.DecisionTreeClassifier_ main params:\n",
    "\n",
    "* max_depth\n",
    "* min_samples_leaf\n",
    "* max_features"
   ]
  },
  {
   "cell_type": "code",
   "execution_count": 2,
   "metadata": {
    "slideshow": {
     "slide_type": "slide"
    }
   },
   "outputs": [
    {
     "data": {
      "text/plain": [
       "'../images/iris.png'"
      ]
     },
     "execution_count": 2,
     "metadata": {},
     "output_type": "execute_result"
    }
   ],
   "source": [
    "from sklearn.datasets import load_iris\n",
    "from sklearn import tree\n",
    "import graphviz\n",
    "\n",
    "iris = load_iris()\n",
    "clf = tree.DecisionTreeClassifier()\n",
    "clf = clf.fit(iris.data, iris.target)\n",
    "\n",
    "dot_data = tree.export_graphviz(clf, out_file=None, \n",
    "                         feature_names=iris.feature_names,  \n",
    "                         class_names=iris.target_names,  \n",
    "                         filled=True, rounded=True,  \n",
    "                         special_characters=True)  \n",
    "graph = graphviz.Source(dot_data, format='png') \n",
    "graph.render(\"../images/iris\")"
   ]
  },
  {
   "cell_type": "markdown",
   "metadata": {
    "slideshow": {
     "slide_type": "slide"
    }
   },
   "source": [
    "<img src=\"../images/iris.png\" style=\"width: 600px;\">"
   ]
  },
  {
   "cell_type": "markdown",
   "metadata": {
    "slideshow": {
     "slide_type": "slide"
    }
   },
   "source": [
    "* interpretable\n",
    "* simple\n",
    "* fast classification\n",
    "* diffrent data and gap not plroblem\n",
    "* noise problem \n",
    "* overfitting problem"
   ]
  },
  {
   "cell_type": "markdown",
   "metadata": {
    "slideshow": {
     "slide_type": "slide"
    }
   },
   "source": [
    "### bayes classifier"
   ]
  },
  {
   "cell_type": "markdown",
   "metadata": {
    "slideshow": {
     "slide_type": "fragment"
    }
   },
   "source": [
    "Bayes' theorem\n",
    "$$P(x|y) = \\frac{P(y|x)P(x)}{P(y)}$$"
   ]
  },
  {
   "cell_type": "markdown",
   "metadata": {
    "slideshow": {
     "slide_type": "fragment"
    }
   },
   "source": [
    "Classification problem\n",
    "$$P(c|x_1, x_2, ...x_{\\nbFeatures}) = \\frac{P(c)P(x_1, x_2, ...x_{\\nbFeatures}|c)}{P(x_1, x_2, ...x_{\\nbFeatures})}$$"
   ]
  },
  {
   "cell_type": "markdown",
   "metadata": {
    "slideshow": {
     "slide_type": "fragment"
    }
   },
   "source": [
    "$$\\alg(x) = argmax_{c\\in C}\\frac{P(y)P(x|y)}{P(x)}$$"
   ]
  },
  {
   "cell_type": "markdown",
   "metadata": {
    "slideshow": {
     "slide_type": "fragment"
    }
   },
   "source": [
    "**$$\\alg(x) = argmax_{c\\in C}P(y)P(x|y) = argmax_{c\\in C}P(y)p_c(x)$$**"
   ]
  },
  {
   "cell_type": "markdown",
   "metadata": {
    "slideshow": {
     "slide_type": "slide"
    }
   },
   "source": [
    "#### naive bayes"
   ]
  },
  {
   "cell_type": "markdown",
   "metadata": {
    "slideshow": {
     "slide_type": "fragment"
    }
   },
   "source": [
    "_Each characteristic is independent of any other characteristic_"
   ]
  },
  {
   "cell_type": "markdown",
   "metadata": {
    "slideshow": {
     "slide_type": "fragment"
    }
   },
   "source": [
    "$$P(c|x_1, x_2, ...x_{\\nbFeatures}) = \\frac{P(c)P(x_1, x_2, ...x_{\\nbFeatures}|c)}{P(x_1, x_2, ...x_{\\nbFeatures})}$$"
   ]
  },
  {
   "cell_type": "markdown",
   "metadata": {
    "slideshow": {
     "slide_type": "fragment"
    }
   },
   "source": [
    "$$\n",
    "P(c)P(x_1, x_2, ...x_{\\nbFeatures}|c) = P(c)P(x_1|c)P(x_2, ...x_{\\nbFeatures}|c, x_1)\n",
    "$$"
   ]
  },
  {
   "cell_type": "markdown",
   "metadata": {
    "slideshow": {
     "slide_type": "fragment"
    }
   },
   "source": [
    "$$\n",
    "=P(c)P(x_1|c)P(x2|c, x_1)...P(x_n|C,x_1, x_2, ...x_{\\nbFeatures})\n",
    "$$"
   ]
  },
  {
   "cell_type": "markdown",
   "metadata": {
    "slideshow": {
     "slide_type": "fragment"
    }
   },
   "source": [
    "Independency of characteristic:<br>\n",
    "$P(x_i|c, x_j) = P(x_i|c)$"
   ]
  },
  {
   "cell_type": "markdown",
   "metadata": {
    "slideshow": {
     "slide_type": "slide"
    }
   },
   "source": [
    "We have\n",
    "\n",
    "$$\n",
    "P(c)P((x_1, x_2, ...x_{\\nbFeatures}|c) = P(c)P(x_1|c)P(x_2|c)...P(x_{\\nbFeatures}|c) = \n",
    "$$\n",
    "\n",
    "$$\n",
    "P(c)\\prod_{i = 1}^{\\nbFeatures}P(x_i|c)\n",
    "$$"
   ]
  }
 ],
 "metadata": {
  "kernelspec": {
   "display_name": "Python 3",
   "language": "python",
   "name": "python3"
  },
  "language_info": {
   "codemirror_mode": {
    "name": "ipython",
    "version": 3
   },
   "file_extension": ".py",
   "mimetype": "text/x-python",
   "name": "python",
   "nbconvert_exporter": "python",
   "pygments_lexer": "ipython3",
   "version": "3.6.9"
  }
 },
 "nbformat": 4,
 "nbformat_minor": 2
}
