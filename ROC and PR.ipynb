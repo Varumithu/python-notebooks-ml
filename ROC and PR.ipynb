{
 "cells": [
  {
   "cell_type": "code",
   "execution_count": 2,
   "metadata": {},
   "outputs": [],
   "source": [
    "import numpy as np\n",
    "import pandas as pd\n",
    "from sklearn import datasets\n",
    "from IPython.display import display, Latex, Markdown\n",
    "import matplotlib.pyplot as plt\n",
    "from sklearn import linear_model\n",
    "from sklearn.model_selection import train_test_split"
   ]
  },
  {
   "cell_type": "code",
   "execution_count": 3,
   "metadata": {},
   "outputs": [],
   "source": [
    "def PRCurve(likelihood, y, stepArray = np.arange(0, 1, 0.1)) :\n",
    "    if len(likelihood) != len(y) :\n",
    "        return\n",
    "    precision = np.zeros((len(stepArray) + 1, ))\n",
    "    recall = np.zeros((len(stepArray) + 1, ))\n",
    "    for i in range(0, len(stepArray)) :\n",
    "        TP = 0\n",
    "        FP = 0\n",
    "        FN = 0\n",
    "        for j in range(len(y)) :\n",
    "            if (likelihood[j] < stepArray[i]) :\n",
    "                if (y[j] == 0) :\n",
    "                    None\n",
    "                else :\n",
    "                    FN += 1\n",
    "            else :\n",
    "                if (y[j] == 0) :\n",
    "                    FP += 1\n",
    "                else :\n",
    "                    TP += 1\n",
    "        if (TP != 0) :\n",
    "            precision[i] = TP / (TP + FP)\n",
    "            recall[i] = TP / (TP + FN)\n",
    "    return precision, recall\n",
    "    \n",
    "def AUC(x, y) :\n",
    "    s = 0\n",
    "    for i in range(1, len(x)) :\n",
    "        if x[i] != x[i - 1] :\n",
    "            s += (y[i] + y[i - 1]) / 2 * (x[i] - x[i - 1])\n",
    "    return abs(s)\n",
    "\n",
    "def plotPR(precision, recall, isPrintAUC = True, scatter = False) :\n",
    "    plt.xlim(-0.01, 1.01)\n",
    "    plt.ylim(-0.01, 1.01)\n",
    "    plt.xlabel(\"recall\")\n",
    "    plt.ylabel(\"precision\")\n",
    "    plt.title(\"PR curve\")\n",
    "    if scatter:\n",
    "        plt.scatter(recall, precision)\n",
    "    else:\n",
    "        plt.plot(recall, precision)\n",
    "    if isPrintAUC :\n",
    "        plt.annotate(\"AUC = %.2f\" %(AUC(recall, precision)), xy=(0.4, 0.2))\n",
    "    plt.show()\n",
    "    \n",
    "def ROCCurve(likelihood, y, stepArray = np.arange(0, 1, 0.1)) :\n",
    "    if len(likelihood) != len(y) :\n",
    "        return\n",
    "    TPR = np.zeros((len(stepArray) + 1, ))\n",
    "    FPR = np.zeros((len(stepArray) + 1, ))\n",
    "    for i in range(0, len(stepArray)) :\n",
    "        TP = 0\n",
    "        FP = 0\n",
    "        FN = 0\n",
    "        TN = 0\n",
    "        for j in range(len(y)) :\n",
    "            if likelihood[j] < stepArray[i] :\n",
    "                if (y[j] == 0) :\n",
    "                    TN += 1\n",
    "                else :\n",
    "                    FN += 1\n",
    "            else :\n",
    "                if (y[j] == 0) :\n",
    "                    FP += 1\n",
    "                else :\n",
    "                    TP += 1\n",
    "        if TP != 0 :\n",
    "            TPR[i] = TP / (TP + FN)\n",
    "        if FP != 0 :\n",
    "            FPR[i] = FP / (FP + TN)\n",
    "    return TPR, FPR\n",
    "\n",
    "def plotROC(TPR, FPR, isPrintAUC = True, scatter = False) :\n",
    "    plt.xlim(-0.01, 1.01)\n",
    "    plt.ylim(-0.01, 1.01)\n",
    "    plt.xlabel(\"FPR\")\n",
    "    plt.ylabel(\"TPR\")\n",
    "    plt.title(\"ROC curve\")\n",
    "    if scatter:\n",
    "        plt.scatter(FPR, TPR)\n",
    "    else:\n",
    "        plt.plot(FPR, TPR)\n",
    "        \n",
    "    if isPrintAUC :\n",
    "        plt.annotate(\"AUC = %.2f\" %(AUC(FPR, TPR)), xy=(0.4, 0.2))\n",
    "    plt.show()\n"
   ]
  },
  {
   "cell_type": "code",
   "execution_count": 4,
   "metadata": {},
   "outputs": [
    {
     "data": {
      "image/png": "[encoded data removed]",
      "text/plain": [
       "<Figure size 432x288 with 1 Axes>"
      ]
     },
     "metadata": {
      "needs_background": "light"
     },
     "output_type": "display_data"
    },
    {
     "data": {
      "image/png": "[encoded data removed]",
      "text/plain": [
       "<Figure size 432x288 with 1 Axes>"
      ]
     },
     "metadata": {
      "needs_background": "light"
     },
     "output_type": "display_data"
    }
   ],
   "source": [
    "likelihood = np.array([0.14, 0.23, 0.39, 0.52, 0.73, 0.9])\n",
    "likelihood = np.array([0.1, 0.2, 0.4, 0.5, 0.7, 0.9])\n",
    "y = np.array([0, 1, 0, 0, 1, 1])\n",
    "\n",
    "precision, recall = PRCurve(likelihood, y, np.arange(0, 1, 0.01))\n",
    "plotPR(precision, recall)\n",
    "\n",
    "TPR, FPR = ROCCurve(likelihood, y, np.arange(0, 1, 0.01))\n",
    "plotROC(TPR, FPR)\n"
   ]
  },
  {
   "cell_type": "code",
   "execution_count": 5,
   "metadata": {},
   "outputs": [
    {
     "name": "stdout",
     "output_type": "stream",
     "text": [
      "[[9.668e+00 1.810e+01 6.106e+01 ... 2.500e-02 3.057e-01 7.875e-02]\n",
      " [1.953e+01 1.890e+01 1.295e+02 ... 1.980e-01 2.968e-01 9.929e-02]\n",
      " [1.504e+01 1.674e+01 9.873e+01 ... 1.018e-01 2.177e-01 8.549e-02]\n",
      " ...\n",
      " [1.973e+01 1.982e+01 1.307e+02 ... 2.507e-01 2.749e-01 1.297e-01]\n",
      " [1.276e+01 1.884e+01 8.187e+01 ... 8.312e-02 2.744e-01 7.238e-02]\n",
      " [1.746e+01 3.928e+01 1.134e+02 ... 2.066e-01 2.853e-01 8.496e-02]]\n",
      "[1 0 1 1 1 0 0 1 0 1 1 1 1 1 1 1 0 1 0 0 1 1 1 1 0 1 1 0 0 1 0 1 0 1 1 0 1\n",
      " 1 1 1 1 0 1 1 0 0 1 0 0 1 1 0 1 0 1 0 1 1 0 0 1 1 1 0 0 1 1 0 1 1 1 0 1 0\n",
      " 0 1 1 1 1 0 1 1 1 0 0 0 1 1 0 0 1 1 0 0 1 0 0 1 0 1 1 1 1 1 0 0 1 1 0 1 1\n",
      " 1 1 0 1 1 1 0 0 1 1 0 1 1 1 1 1 0 0 1 1 0 0 1 1 0 0 0 1 1 1 0 1 1 0 1 0 1\n",
      " 1 0 1 0 0 1 0 0 1 1 1 0 1 1 0 0 1 0 1 0 0 1 1 1 0 0 1 0 0 0 0 0 1 1 1 0 1\n",
      " 1 0 0 0 1 1 1 1 1 1 0 1 0 1 1 1 0 1 1 1 0 1 1 0 1 0 0 1 1 1 0 0 1 1 1 0 1\n",
      " 0 0 1 1 1 0 1 1 1 1 1 1 1 0 1 0 0 1 0 0 1 1 1 1 0 1 1 1 1 0 1 1 0 0 0 1 1\n",
      " 1 1 1 1 0 0 1 1 0 1 0 0 1 1 0 0 1 1 1 0 1 1 1 0 1 1 0 0 1 0 1 0 0 1 0 1 0\n",
      " 0 1 1 1 0 1 1 1 0 1 0 1 1 1 1 0 1 1 1 1 0 1 1 1 1 1 1 0 1 0 0 1 1 0 1 0 1\n",
      " 1 0 0 1 0 1 1 1 0 0 1 1 1 0 1 1 1 1 0 0 0 1 1 0 1 0 1 1 1 1 1 0 1 1 1 1 1\n",
      " 1 1 1 1 0 0 0 1 0 1 0]\n"
     ]
    }
   ],
   "source": [
    "dset = datasets.load_breast_cancer()\n",
    "predictor = linear_model.LogisticRegression(penalty='l2', dual=False, tol=0.0001, \n",
    "                                            C=1.0, fit_intercept=True, intercept_scaling=1, \n",
    "                                            class_weight=None, random_state=None, solver='liblinear', \n",
    "                                            max_iter=100, multi_class='ovr', verbose=0, \n",
    "                                            warm_start=False, n_jobs=None)\n",
    "train_data, test_data, train_labels, test_labels = train_test_split(dset.data, dset.target, test_size=0.33)\n",
    "print(train_data)\n",
    "print(train_labels)"
   ]
  },
  {
   "cell_type": "code",
   "execution_count": 18,
   "metadata": {},
   "outputs": [
    {
     "name": "stdout",
     "output_type": "stream",
     "text": [
      "0.9308510638297872\n",
      "[0.65425532 0.85416667 0.86619718 0.86619718 0.87234043 0.87857143\n",
      " 0.88489209 0.88489209 0.88489209 0.89130435 0.89130435 0.89705882\n",
      " 0.89705882 0.89705882 0.9037037  0.9037037  0.91044776 0.91044776\n",
      " 0.91044776 0.91044776 0.91044776 0.91044776 0.91044776 0.91044776\n",
      " 0.91729323 0.91666667 0.92307692 0.92307692 0.92307692 0.92307692\n",
      " 0.92307692 0.92307692 0.92307692 0.92307692 0.92307692 0.92307692\n",
      " 0.92307692 0.92307692 0.92248062 0.92248062 0.92248062 0.92248062\n",
      " 0.92248062 0.92248062 0.9296875  0.9296875  0.9296875  0.9296875\n",
      " 0.9296875  0.9296875  0.9296875  0.9296875  0.9296875  0.9296875\n",
      " 0.9296875  0.9296875  0.9296875  0.9296875  0.9296875  0.9296875\n",
      " 0.9296875  0.9296875  0.9296875  0.93700787 0.952      0.952\n",
      " 0.952      0.952      0.952      0.9516129  0.9516129  0.95121951\n",
      " 0.95901639 0.96694215 0.96694215 0.96694215 0.96694215 0.96694215\n",
      " 0.96666667 0.96666667 0.96666667 0.96638655 0.96638655 0.96610169\n",
      " 0.96610169 0.96610169 0.96610169 0.97435897 0.97435897 0.97391304\n",
      " 0.97368421 0.97345133 0.98214286 0.98181818 0.98095238 0.98095238\n",
      " 1.         1.         1.         0.         0.        ]\n",
      "[1.         1.         1.         1.         1.         1.\n",
      " 1.         1.         1.         1.         1.         0.99186992\n",
      " 0.99186992 0.99186992 0.99186992 0.99186992 0.99186992 0.99186992\n",
      " 0.99186992 0.99186992 0.99186992 0.99186992 0.99186992 0.99186992\n",
      " 0.99186992 0.98373984 0.97560976 0.97560976 0.97560976 0.97560976\n",
      " 0.97560976 0.97560976 0.97560976 0.97560976 0.97560976 0.97560976\n",
      " 0.97560976 0.97560976 0.96747967 0.96747967 0.96747967 0.96747967\n",
      " 0.96747967 0.96747967 0.96747967 0.96747967 0.96747967 0.96747967\n",
      " 0.96747967 0.96747967 0.96747967 0.96747967 0.96747967 0.96747967\n",
      " 0.96747967 0.96747967 0.96747967 0.96747967 0.96747967 0.96747967\n",
      " 0.96747967 0.96747967 0.96747967 0.96747967 0.96747967 0.96747967\n",
      " 0.96747967 0.96747967 0.96747967 0.95934959 0.95934959 0.95121951\n",
      " 0.95121951 0.95121951 0.95121951 0.95121951 0.95121951 0.95121951\n",
      " 0.94308943 0.94308943 0.94308943 0.93495935 0.93495935 0.92682927\n",
      " 0.92682927 0.92682927 0.92682927 0.92682927 0.92682927 0.91056911\n",
      " 0.90243902 0.89430894 0.89430894 0.87804878 0.83739837 0.83739837\n",
      " 0.79674797 0.7398374  0.63414634 0.         0.        ]\n"
     ]
    },
    {
     "data": {
      "image/png": "[encoded data removed]",
      "text/plain": [
       "<Figure size 432x288 with 1 Axes>"
      ]
     },
     "metadata": {
      "needs_background": "light"
     },
     "output_type": "display_data"
    },
    {
     "name": "stdout",
     "output_type": "stream",
     "text": [
      "[1.         0.99186992 0.99186992 0.97560976 0.96747967 0.96747967\n",
      " 0.96747967 0.95121951 0.92682927 0.         0.        ]\n",
      "[1.         0.21538462 0.18461538 0.15384615 0.13846154 0.13846154\n",
      " 0.09230769 0.06153846 0.04615385 0.         0.        ]\n"
     ]
    },
    {
     "data": {
      "image/png": "[encoded data removed]",
      "text/plain": [
       "<Figure size 432x288 with 1 Axes>"
      ]
     },
     "metadata": {
      "needs_background": "light"
     },
     "output_type": "display_data"
    }
   ],
   "source": [
    "predictor.fit(train_data, train_labels)\n",
    "likelihoods = predictor.predict_proba(test_data)\n",
    "\n",
    "answers = predictor.predict(test_data)\n",
    "equality = answers == test_labels\n",
    "false_count = 0\n",
    "true_count = 0\n",
    "\n",
    "for label in equality:\n",
    "    if label == True:\n",
    "        true_count += 1\n",
    "    else:\n",
    "        false_count += 1\n",
    "        \n",
    "print(true_count / (true_count + false_count))\n",
    "\n",
    "# print(equality)\n",
    "\n",
    "# print(predictor.classes_)\n",
    "likelihoods = [likelihoods[i][1] for i in range(len(likelihoods))]\n",
    "# print(likelihoods)\n",
    "\n",
    "\n",
    "precision, recall = PRCurve(likelihoods, test_labels, np.linspace(0, 1, 100))\n",
    "\n",
    "print(precision)\n",
    "print(recall)\n",
    "\n",
    "plotPR(precision, recall, scatter=False)\n",
    "\n",
    "TPR, FPR = ROCCurve(likelihoods, test_labels, np.linspace(0, 1, 10))\n",
    "print(TPR)\n",
    "print(FPR)\n",
    "plotROC(TPR, FPR, scatter=False)"
   ]
  },
  {
   "cell_type": "code",
   "execution_count": 8,
   "metadata": {},
   "outputs": [
    {
     "name": "stdout",
     "output_type": "stream",
     "text": [
      "<class 'pandas.core.frame.DataFrame'>\n",
      "RangeIndex: 462 entries, 0 to 461\n",
      "Data columns (total 11 columns):\n",
      "row.names    462 non-null int64\n",
      "sbp          462 non-null int64\n",
      "tobacco      462 non-null float64\n",
      "ldl          462 non-null float64\n",
      "adiposity    462 non-null float64\n",
      "famhist      462 non-null object\n",
      "typea        462 non-null int64\n",
      "obesity      462 non-null float64\n",
      "alcohol      462 non-null float64\n",
      "age          462 non-null int64\n",
      "chd          462 non-null int64\n",
      "dtypes: float64(5), int64(5), object(1)\n",
      "memory usage: 39.8+ KB\n",
      "[[1.481e+01 1.470e+01 9.466e+01 ... 7.955e-02 2.334e-01 6.142e-02]\n",
      " [1.275e+01 1.670e+01 8.251e+01 ... 8.045e-02 3.071e-01 8.557e-02]\n",
      " [1.801e+01 2.056e+01 1.184e+02 ... 1.489e-01 3.251e-01 7.625e-02]\n",
      " ...\n",
      " [1.727e+01 2.542e+01 1.124e+02 ... 1.739e-01 2.500e-01 7.944e-02]\n",
      " [1.300e+01 2.182e+01 8.750e+01 ... 2.060e-01 4.378e-01 1.072e-01]\n",
      " [1.278e+01 1.649e+01 8.137e+01 ... 5.882e-02 2.383e-01 6.410e-02]]\n",
      "[1 1 0 0 1 1 1 1 0 1 1 0 0 0 0 1 1 1 0 0 1 1 1 0 0 1 0 0 1 1 0 1 1 1 0 0 0\n",
      " 1 1 0 0 1 1 0 1 1 1 1 0 1 1 0 0 0 1 0 1 0 1 1 1 0 1 1 1 0 1 1 0 1 1 1 1 1\n",
      " 0 1 0 0 1 1 1 1 1 1 1 0 0 1 0 1 0 1 1 0 1 0 1 0 0 1 0 0 1 1 1 1 1 1 1 0 0\n",
      " 1 1 1 1 0 0 1 1 1 0 1 1 1 1 0 1 1 0 1 1 1 1 1 0 1 0 1 0 0 1 1 1 1 1 1 0 1\n",
      " 1 0 1 1 1 1 1 1 1 1 0 1 0 0 1 0 0 0 1 1 1 0 1 0 1 1 1 0 1 1 1 1 1 1 1 0 1\n",
      " 1 1 0 0 1 1 0 1 0 0 1 1 0 0 0 1 1 0 1 1 0 1 0 0 1 0 0 0 0 1 1 1 0 1 1 1 1\n",
      " 1 1 0 0 1 1 0 1 0 0 0 0 1 1 1 0 1 1 1 1 1 1 1 0 1 1 1 0 1 1 0 0 1 1 1 1 0\n",
      " 1 1 0 1 1 0 1 1 0 1 0 0 1 1 0 1 1 1 0 1 1 0 0 1 1 1 0 1 1 1 0 1 1 0 0 1 0\n",
      " 1 0 1 1 1 1 1 1 0 1 0 1 1 1 1 1 0 1 1 0 1 1 1 0 1 0 0 1 0 0 1 0 0 1 1 1 0\n",
      " 1 1 0 0 1 1 1 0 0 0 0 1 1 1 0 0 0 1 0 1 1 1 1 0 0 1 1 0 0 0 1 1 1 1 0 1 1\n",
      " 1 0 1 1 1 1 1 0 0 0 1]\n"
     ]
    }
   ],
   "source": [
    "heart = pd.read_csv('D:\\\\programming\\\\machine learning class\\\\chd.csv', sep=',', header=0)\n",
    "heart.info()\n",
    "\n"
   ]
  },
  {
   "cell_type": "code",
   "execution_count": 9,
   "metadata": {},
   "outputs": [
    {
     "name": "stdout",
     "output_type": "stream",
     "text": [
      "[[1.243e+01 1.700e+01 7.860e+01 ... 2.832e-02 1.901e-01 5.932e-02]\n",
      " [1.390e+01 1.662e+01 8.897e+01 ... 6.222e-02 2.679e-01 7.698e-02]\n",
      " [1.678e+01 1.880e+01 1.093e+02 ... 1.474e-01 2.810e-01 7.228e-02]\n",
      " ...\n",
      " [1.169e+01 2.444e+01 7.637e+01 ... 1.308e-01 2.803e-01 9.970e-02]\n",
      " [8.734e+00 1.684e+01 5.527e+01 ... 0.000e+00 2.445e-01 8.865e-02]\n",
      " [1.338e+01 3.072e+01 8.634e+01 ... 7.763e-02 2.196e-01 7.675e-02]]\n",
      "[1 1 0 0 1 1 1 1 0 0 1 1 1 0 1 0 0 1 0 1 1 0 1 1 0 0 0 1 1 0 0 0 1 0 1 1 1\n",
      " 1 1 1 1 1 1 0 1 1 0 0 0 0 1 1 0 0 1 1 0 0 1 0 0 1 1 0 1 1 1 1 1 1 1 0 0 0\n",
      " 1 1 0 0 1 0 1 1 1 0 1 1 1 0 1 1 1 0 0 1 0 1 1 1 0 0 0 0 1 1 0 1 0 1 1 1 1\n",
      " 0 0 1 0 1 1 1 0 1 0 1 1 0 1 1 1 0 1 1 1 0 0 0 1 1 0 1 0 0 1 1 1 0 1 0 0 0\n",
      " 0 1 1 1 1 0 1 1 1 1 1 0 1 0 1 1 0 1 1 1 1 1 1 1 1 1 0 0 1 1 1 1 0 1 0 1 1\n",
      " 1 0 1 1 1 1 0 0 1 1 0 0 1 1 1 0 1 1 1 0 0 0 1 1 0 1 0 0 1 1 1 1 1 1 0 1 1\n",
      " 1 0 0 0 0 0 1 1 1 1 1 0 1 0 1 1 1 0 0 0 1 1 0 1 1 0 1 0 1 1 0 1 1 0 0 0 1\n",
      " 1 0 1 0 1 0 0 0 0 1 0 0 1 1 1 0 1 1 1 1 1 1 0 1 1 1 0 1 1 1 1 1 1 0 1 1 1\n",
      " 1 0 0 1 0 1 0 1 0 1 0 1 0 1 1 0 0 1 0 1 1 1 0 0 1 0 1 1 1 1 1 1 1 1 1 0 1\n",
      " 1 0 1 0 1 1 1 0 1 1 0 1 0 0 1 0 0 1 0 1 0 1 1 1 1 0 1 0 0 1 0 0 1 1 0 1 0\n",
      " 1 0 0 1 0 1 1 1 1 1 1]\n"
     ]
    }
   ],
   "source": [
    "predictor = linear_model.LogisticRegression(penalty='l2', dual=False, tol=0.0001, \n",
    "                                            C=1.0, fit_intercept=True, intercept_scaling=1, \n",
    "                                            class_weight=None, random_state=None, solver='liblinear', \n",
    "                                            max_iter=100, multi_class='ovr', verbose=0, \n",
    "                                            warm_start=False, n_jobs=None)\n",
    "train_data, test_data, train_labels, test_labels = train_test_split(dset.data, dset.target, test_size=0.33)\n",
    "print(train_data)\n",
    "print(train_labels)"
   ]
  },
  {
   "cell_type": "code",
   "execution_count": 17,
   "metadata": {},
   "outputs": [
    {
     "name": "stdout",
     "output_type": "stream",
     "text": [
      "[1, 0, 1, 1, 0, 1, 0, 1, 1, 1, 0, 1, 0, 0, 1, 1, 1, 0, 1, 1, 1, 0, 0, 1, 0, 1, 1, 1, 0, 1, 1, 0, 0, 1, 1, 1, 1, 1, 0, 1, 1, 0, 0, 0, 0, 0, 1, 0, 1, 0, 0, 0, 1, 0, 0, 1, 0, 1, 0, 1, 0, 0, 0, 0, 0, 0, 1, 1, 1, 1, 0, 0, 1, 0, 1, 1, 0, 1, 0, 1, 0, 1, 0, 1, 0, 0, 0, 1, 1, 0, 1, 0, 0, 1, 0, 0, 1, 1, 1, 1]\n",
      "[0.52 0.52 0.52 0.52 0.52 0.52 0.52 0.52 0.52 0.52 0.52 0.52 0.52 0.52\n",
      " 0.52 0.52 0.52 0.52 0.52 0.52 0.52 0.52 0.52 0.52 0.52 0.52 0.52 0.52\n",
      " 0.52 0.52 0.52 0.52 0.52 0.52 0.52 0.52 0.52 0.52 0.52 0.52 0.52 0.52\n",
      " 0.52 0.52 0.52 0.52 0.52 0.52 0.52 0.52 0.52 0.52 0.52 0.52 0.52 0.52\n",
      " 0.52 0.52 0.52 0.52 0.52 0.52 0.52 0.52 0.52 0.52 0.52 0.52 0.52 0.52\n",
      " 0.   0.   0.   0.   0.   0.   0.   0.   0.   0.   0.   0.   0.   0.\n",
      " 0.   0.   0.   0.   0.   0.   0.   0.   0.   0.   0.   0.   0.   0.\n",
      " 0.   0.   0.  ]\n",
      "[1. 1. 1. 1. 1. 1. 1. 1. 1. 1. 1. 1. 1. 1. 1. 1. 1. 1. 1. 1. 1. 1. 1. 1.\n",
      " 1. 1. 1. 1. 1. 1. 1. 1. 1. 1. 1. 1. 1. 1. 1. 1. 1. 1. 1. 1. 1. 1. 1. 1.\n",
      " 1. 1. 1. 1. 1. 1. 1. 1. 1. 1. 1. 1. 1. 1. 1. 1. 1. 1. 1. 1. 1. 1. 0. 0.\n",
      " 0. 0. 0. 0. 0. 0. 0. 0. 0. 0. 0. 0. 0. 0. 0. 0. 0. 0. 0. 0. 0. 0. 0. 0.\n",
      " 0. 0. 0. 0. 0.]\n"
     ]
    },
    {
     "data": {
      "image/png": "[encoded data removed]",
      "text/plain": [
       "<Figure size 432x288 with 1 Axes>"
      ]
     },
     "metadata": {
      "needs_background": "light"
     },
     "output_type": "display_data"
    },
    {
     "name": "stdout",
     "output_type": "stream",
     "text": [
      "[1. 1. 1. 1. 1. 1. 1. 1. 1. 1. 1. 1. 1. 1. 1. 1. 1. 1. 1. 1. 1. 1. 1. 1.\n",
      " 1. 1. 1. 1. 1. 1. 1. 1. 1. 1. 1. 1. 1. 1. 1. 1. 1. 1. 1. 1. 1. 1. 1. 1.\n",
      " 1. 1. 1. 1. 1. 1. 1. 1. 1. 1. 1. 1. 1. 1. 1. 1. 1. 1. 1. 1. 1. 1. 0. 0.\n",
      " 0. 0. 0. 0. 0. 0. 0. 0. 0. 0. 0. 0. 0. 0. 0. 0. 0. 0. 0. 0. 0. 0. 0. 0.\n",
      " 0. 0. 0. 0. 0.]\n",
      "[1. 1. 1. 1. 1. 1. 1. 1. 1. 1. 1. 1. 1. 1. 1. 1. 1. 1. 1. 1. 1. 1. 1. 1.\n",
      " 1. 1. 1. 1. 1. 1. 1. 1. 1. 1. 1. 1. 1. 1. 1. 1. 1. 1. 1. 1. 1. 1. 1. 1.\n",
      " 1. 1. 1. 1. 1. 1. 1. 1. 1. 1. 1. 1. 1. 1. 1. 1. 1. 1. 1. 1. 1. 1. 0. 0.\n",
      " 0. 0. 0. 0. 0. 0. 0. 0. 0. 0. 0. 0. 0. 0. 0. 0. 0. 0. 0. 0. 0. 0. 0. 0.\n",
      " 0. 0. 0. 0. 0.]\n"
     ]
    },
    {
     "data": {
      "image/png": "[encoded data removed]",
      "text/plain": [
       "<Figure size 432x288 with 1 Axes>"
      ]
     },
     "metadata": {
      "needs_background": "light"
     },
     "output_type": "display_data"
    }
   ],
   "source": [
    "import random\n",
    "N = 0.7\n",
    "length = 100\n",
    "likelihood = [N for i in range(length)]\n",
    "random.seed(1230)\n",
    "labels = [random.randrange(0, 2) for i in range(length)]\n",
    "# labels = [0, 0, 1, 0, 0, 1, 0, 0, 0 ,0]\n",
    "print(labels)\n",
    "\n",
    "precision, recall = PRCurve(likelihood, labels, np.arange(0, 1, 0.01))\n",
    "print(precision)\n",
    "print(recall)\n",
    "plotPR(precision, recall)\n",
    "\n",
    "\n",
    "TPR, FPR = ROCCurve(likelihood, labels, np.arange(0, 1, 0.01))\n",
    "print(TPR)\n",
    "print(FPR)\n",
    "plotROC(TPR, FPR)\n"
   ]
  }
 ],
 "metadata": {
  "kernelspec": {
   "display_name": "Python 3",
   "language": "python",
   "name": "python3"
  },
  "language_info": {
   "codemirror_mode": {
    "name": "ipython",
    "version": 3
   },
   "file_extension": ".py",
   "mimetype": "text/x-python",
   "name": "python",
   "nbconvert_exporter": "python",
   "pygments_lexer": "ipython3",
   "version": "3.7.3"
  }
 },
 "nbformat": 4,
 "nbformat_minor": 2
}
