{
 "cells": [
  {
   "cell_type": "code",
   "execution_count": 2,
   "metadata": {},
   "outputs": [],
   "source": [
    "import numpy as np\n",
    "import matplotlib.pyplot as plt\n",
    "import pandas as pd\n",
    "from matplotlib.colors import ListedColormap\n",
    "from sklearn.model_selection import train_test_split\n",
    "from sklearn.preprocessing import StandardScaler\n",
    "from sklearn.datasets import make_moons, make_circles, make_classification\n",
    "from sklearn.neural_network import MLPClassifier\n",
    "from sklearn.neighbors import KNeighborsClassifier\n",
    "from sklearn.svm import SVC\n",
    "from sklearn.gaussian_process import GaussianProcessClassifier\n",
    "from sklearn.gaussian_process.kernels import RBF\n",
    "from sklearn.tree import DecisionTreeClassifier\n",
    "from sklearn.ensemble import RandomForestClassifier, AdaBoostClassifier\n",
    "from sklearn.naive_bayes import GaussianNB\n",
    "from sklearn.discriminant_analysis import QuadraticDiscriminantAnalysis\n",
    "from sklearn.datasets import fetch_openml\n",
    "from sklearn.datasets import load_digits\n",
    "\n",
    "from sklearn.model_selection import cross_val_score, cross_validate\n",
    "\n",
    "from sklearn import tree\n",
    "\n",
    "import sklearn"
   ]
  },
  {
   "cell_type": "code",
   "execution_count": 3,
   "metadata": {},
   "outputs": [],
   "source": [
    "data = load_digits()\n",
    "X, Y = data.data, data.target"
   ]
  },
  {
   "cell_type": "code",
   "execution_count": 4,
   "metadata": {},
   "outputs": [
    {
     "name": "stdout",
     "output_type": "stream",
     "text": [
      "1797\n",
      "64\n",
      "1797\n"
     ]
    }
   ],
   "source": [
    "print(len(X))\n",
    "print(len(X[0]))\n",
    "print(len(Y))"
   ]
  },
  {
   "cell_type": "code",
   "execution_count": 5,
   "metadata": {},
   "outputs": [],
   "source": [
    "X_train, X_test, Y_train, Y_test = train_test_split(X, Y, test_size=0.25, random_state=1998)"
   ]
  },
  {
   "cell_type": "code",
   "execution_count": 5,
   "metadata": {},
   "outputs": [
    {
     "data": {
      "text/plain": [
       "GridSearchCV(cv=None, error_score=nan,\n",
       "             estimator=LogisticRegression(C=1.0, class_weight=None, dual=False,\n",
       "                                          fit_intercept=True,\n",
       "                                          intercept_scaling=1, l1_ratio=None,\n",
       "                                          max_iter=100, multi_class='auto',\n",
       "                                          n_jobs=None, penalty='l2',\n",
       "                                          random_state=1998, solver='lbfgs',\n",
       "                                          tol=0.0001, verbose=0,\n",
       "                                          warm_start=False),\n",
       "             iid='deprecated', n_jobs=None,\n",
       "             param_grid={'C': [0.0001, 0.001, 0.01, 0.1, 1, 100.0, 1000.0,\n",
       "                               10000.0],\n",
       "                         'penalty': ['l2'], 'solver': ['newton-cg']},\n",
       "             pre_dispatch='2*n_jobs', refit=True, return_train_score=False,\n",
       "             scoring=None, verbose=0)"
      ]
     },
     "execution_count": 5,
     "metadata": {},
     "output_type": "execute_result"
    }
   ],
   "source": [
    "logit = sklearn.linear_model.LogisticRegression(penalty='l2', dual=False, tol=0.0001, C=1.0, fit_intercept=True, \n",
    "                                                intercept_scaling=1, class_weight=None, random_state=1998, \n",
    "                                                solver='lbfgs', max_iter=100, multi_class='auto', \n",
    "                                                verbose=0, warm_start=False, n_jobs=None, l1_ratio=None)\n",
    "params = {\n",
    "            'solver': ['newton-cg'],\n",
    "            'penalty': ['l2'],\n",
    "            'C': [1e-4, 1e-3, 1e-2, 1e-1, 1, 1e2, 1e3, 1e4]\n",
    "         }\n",
    "logregcv = sklearn.model_selection.GridSearchCV(logit, params, scoring=None, n_jobs=None, \n",
    "                                                iid='deprecated', refit=True, cv=None, verbose=0, \n",
    "                                                pre_dispatch='2*n_jobs', return_train_score=False)\n",
    "\n",
    "logregcv.fit(X_train, Y_train)"
   ]
  },
  {
   "cell_type": "code",
   "execution_count": 6,
   "metadata": {},
   "outputs": [
    {
     "data": {
      "text/plain": [
       "0.991833704528582"
      ]
     },
     "execution_count": 6,
     "metadata": {},
     "output_type": "execute_result"
    }
   ],
   "source": [
    "logregcv.score(X_train, Y_train)\n"
   ]
  },
  {
   "cell_type": "code",
   "execution_count": 7,
   "metadata": {},
   "outputs": [
    {
     "data": {
      "text/html": [
       "<div>\n",
       "<style scoped>\n",
       "    .dataframe tbody tr th:only-of-type {\n",
       "        vertical-align: middle;\n",
       "    }\n",
       "\n",
       "    .dataframe tbody tr th {\n",
       "        vertical-align: top;\n",
       "    }\n",
       "\n",
       "    .dataframe thead th {\n",
       "        text-align: right;\n",
       "    }\n",
       "</style>\n",
       "<table border=\"1\" class=\"dataframe\">\n",
       "  <thead>\n",
       "    <tr style=\"text-align: right;\">\n",
       "      <th></th>\n",
       "      <th>mean_fit_time</th>\n",
       "      <th>std_fit_time</th>\n",
       "      <th>mean_score_time</th>\n",
       "      <th>std_score_time</th>\n",
       "      <th>param_C</th>\n",
       "      <th>param_penalty</th>\n",
       "      <th>param_solver</th>\n",
       "      <th>params</th>\n",
       "      <th>split0_test_score</th>\n",
       "      <th>split1_test_score</th>\n",
       "      <th>split2_test_score</th>\n",
       "      <th>split3_test_score</th>\n",
       "      <th>split4_test_score</th>\n",
       "      <th>mean_test_score</th>\n",
       "      <th>std_test_score</th>\n",
       "      <th>rank_test_score</th>\n",
       "    </tr>\n",
       "  </thead>\n",
       "  <tbody>\n",
       "    <tr>\n",
       "      <th>2</th>\n",
       "      <td>0.780455</td>\n",
       "      <td>0.062981</td>\n",
       "      <td>0.000998</td>\n",
       "      <td>1.091530e-06</td>\n",
       "      <td>0.01</td>\n",
       "      <td>l2</td>\n",
       "      <td>newton-cg</td>\n",
       "      <td>{'C': 0.01, 'penalty': 'l2', 'solver': 'newton...</td>\n",
       "      <td>0.962963</td>\n",
       "      <td>0.966667</td>\n",
       "      <td>0.959108</td>\n",
       "      <td>0.962825</td>\n",
       "      <td>0.977695</td>\n",
       "      <td>0.965852</td>\n",
       "      <td>0.006386</td>\n",
       "      <td>1</td>\n",
       "    </tr>\n",
       "    <tr>\n",
       "      <th>3</th>\n",
       "      <td>1.530324</td>\n",
       "      <td>0.250088</td>\n",
       "      <td>0.000997</td>\n",
       "      <td>8.035803e-07</td>\n",
       "      <td>0.1</td>\n",
       "      <td>l2</td>\n",
       "      <td>newton-cg</td>\n",
       "      <td>{'C': 0.1, 'penalty': 'l2', 'solver': 'newton-...</td>\n",
       "      <td>0.959259</td>\n",
       "      <td>0.962963</td>\n",
       "      <td>0.959108</td>\n",
       "      <td>0.970260</td>\n",
       "      <td>0.973978</td>\n",
       "      <td>0.965114</td>\n",
       "      <td>0.006000</td>\n",
       "      <td>2</td>\n",
       "    </tr>\n",
       "    <tr>\n",
       "      <th>4</th>\n",
       "      <td>1.972831</td>\n",
       "      <td>0.223703</td>\n",
       "      <td>0.000999</td>\n",
       "      <td>4.523674e-07</td>\n",
       "      <td>1</td>\n",
       "      <td>l2</td>\n",
       "      <td>newton-cg</td>\n",
       "      <td>{'C': 1, 'penalty': 'l2', 'solver': 'newton-cg'}</td>\n",
       "      <td>0.955556</td>\n",
       "      <td>0.959259</td>\n",
       "      <td>0.955390</td>\n",
       "      <td>0.970260</td>\n",
       "      <td>0.970260</td>\n",
       "      <td>0.962145</td>\n",
       "      <td>0.006769</td>\n",
       "      <td>3</td>\n",
       "    </tr>\n",
       "    <tr>\n",
       "      <th>6</th>\n",
       "      <td>1.367689</td>\n",
       "      <td>0.198764</td>\n",
       "      <td>0.000901</td>\n",
       "      <td>1.932628e-04</td>\n",
       "      <td>1000</td>\n",
       "      <td>l2</td>\n",
       "      <td>newton-cg</td>\n",
       "      <td>{'C': 1000.0, 'penalty': 'l2', 'solver': 'newt...</td>\n",
       "      <td>0.951852</td>\n",
       "      <td>0.955556</td>\n",
       "      <td>0.947955</td>\n",
       "      <td>0.970260</td>\n",
       "      <td>0.955390</td>\n",
       "      <td>0.956203</td>\n",
       "      <td>0.007558</td>\n",
       "      <td>4</td>\n",
       "    </tr>\n",
       "    <tr>\n",
       "      <th>5</th>\n",
       "      <td>1.677156</td>\n",
       "      <td>0.315218</td>\n",
       "      <td>0.000997</td>\n",
       "      <td>1.171895e-06</td>\n",
       "      <td>100</td>\n",
       "      <td>l2</td>\n",
       "      <td>newton-cg</td>\n",
       "      <td>{'C': 100.0, 'penalty': 'l2', 'solver': 'newto...</td>\n",
       "      <td>0.948148</td>\n",
       "      <td>0.955556</td>\n",
       "      <td>0.940520</td>\n",
       "      <td>0.970260</td>\n",
       "      <td>0.959108</td>\n",
       "      <td>0.954718</td>\n",
       "      <td>0.010062</td>\n",
       "      <td>5</td>\n",
       "    </tr>\n",
       "  </tbody>\n",
       "</table>\n",
       "</div>"
      ],
      "text/plain": [
       "   mean_fit_time  std_fit_time  mean_score_time  std_score_time param_C  \\\n",
       "2       0.780455      0.062981         0.000998    1.091530e-06    0.01   \n",
       "3       1.530324      0.250088         0.000997    8.035803e-07     0.1   \n",
       "4       1.972831      0.223703         0.000999    4.523674e-07       1   \n",
       "6       1.367689      0.198764         0.000901    1.932628e-04    1000   \n",
       "5       1.677156      0.315218         0.000997    1.171895e-06     100   \n",
       "\n",
       "  param_penalty param_solver  \\\n",
       "2            l2    newton-cg   \n",
       "3            l2    newton-cg   \n",
       "4            l2    newton-cg   \n",
       "6            l2    newton-cg   \n",
       "5            l2    newton-cg   \n",
       "\n",
       "                                              params  split0_test_score  \\\n",
       "2  {'C': 0.01, 'penalty': 'l2', 'solver': 'newton...           0.962963   \n",
       "3  {'C': 0.1, 'penalty': 'l2', 'solver': 'newton-...           0.959259   \n",
       "4   {'C': 1, 'penalty': 'l2', 'solver': 'newton-cg'}           0.955556   \n",
       "6  {'C': 1000.0, 'penalty': 'l2', 'solver': 'newt...           0.951852   \n",
       "5  {'C': 100.0, 'penalty': 'l2', 'solver': 'newto...           0.948148   \n",
       "\n",
       "   split1_test_score  split2_test_score  split3_test_score  split4_test_score  \\\n",
       "2           0.966667           0.959108           0.962825           0.977695   \n",
       "3           0.962963           0.959108           0.970260           0.973978   \n",
       "4           0.959259           0.955390           0.970260           0.970260   \n",
       "6           0.955556           0.947955           0.970260           0.955390   \n",
       "5           0.955556           0.940520           0.970260           0.959108   \n",
       "\n",
       "   mean_test_score  std_test_score  rank_test_score  \n",
       "2         0.965852        0.006386                1  \n",
       "3         0.965114        0.006000                2  \n",
       "4         0.962145        0.006769                3  \n",
       "6         0.956203        0.007558                4  \n",
       "5         0.954718        0.010062                5  "
      ]
     },
     "metadata": {},
     "output_type": "display_data"
    },
    {
     "name": "stdout",
     "output_type": "stream",
     "text": [
      "test score 0.9755555555555555\n",
      "train score 0.991833704528582\n"
     ]
    }
   ],
   "source": [
    "display(pd.DataFrame(logregcv.cv_results_).sort_values('rank_test_score').head())\n",
    "test = logregcv.predict(X_test)\n",
    "comparison = test == Y_test\n",
    "print('test score', comparison.sum() / len(comparison))\n",
    "\n",
    "test = logregcv.predict(X_train)\n",
    "comparison = test == Y_train\n",
    "print('train score', comparison.sum() / len(comparison))"
   ]
  },
  {
   "cell_type": "markdown",
   "metadata": {},
   "source": [
    "### best number 0.01\n",
    "### now with saga solver and elasticnet regularization\n",
    "saga solver requires scaling of data it seems"
   ]
  },
  {
   "cell_type": "markdown",
   "metadata": {},
   "source": [
    "### saga does not seem to work\n",
    "### let's try trees"
   ]
  },
  {
   "cell_type": "code",
   "execution_count": 8,
   "metadata": {},
   "outputs": [
    {
     "data": {
      "text/plain": [
       "GridSearchCV(cv=None, error_score=nan,\n",
       "             estimator=DecisionTreeClassifier(ccp_alpha=0.0, class_weight=None,\n",
       "                                              criterion='gini', max_depth=None,\n",
       "                                              max_features=None,\n",
       "                                              max_leaf_nodes=None,\n",
       "                                              min_impurity_decrease=0.0,\n",
       "                                              min_impurity_split=None,\n",
       "                                              min_samples_leaf=1,\n",
       "                                              min_samples_split=2,\n",
       "                                              min_weight_fraction_leaf=0.0,\n",
       "                                              presort='deprecated',\n",
       "                                              random_state=1998,\n",
       "                                              splitter='best'),\n",
       "             iid='deprecated', n_jobs=None,\n",
       "             param_grid={'criterion': ['gini', 'entropy'],\n",
       "                         'max_depth': [3, 5, 7, None],\n",
       "                         'splitter': ['best', 'random']},\n",
       "             pre_dispatch='2*n_jobs', refit=True, return_train_score=False,\n",
       "             scoring=None, verbose=0)"
      ]
     },
     "execution_count": 8,
     "metadata": {},
     "output_type": "execute_result"
    }
   ],
   "source": [
    "X_train, X_test, Y_train, Y_test = train_test_split(X, Y, test_size=0.25)\n",
    "X = X_train\n",
    "Y = Y_train\n",
    "dt_predictor = sklearn.tree.DecisionTreeClassifier(criterion='gini', splitter='best', max_depth=None, \n",
    "                                                   min_samples_split=2, min_samples_leaf=1, min_weight_fraction_leaf=0.0,\n",
    "                                                   max_features=None, random_state=1998, max_leaf_nodes=None,\n",
    "                                                   min_impurity_decrease=0.0, min_impurity_split=None, class_weight=None, \n",
    "                                                   )\n",
    "params = {'criterion': ['gini', 'entropy'],\n",
    "          'splitter': ['best', 'random'],\n",
    "          'max_depth': [3, 5, 7, None],\n",
    "          }\n",
    "\n",
    "dtgridcv = sklearn.model_selection.GridSearchCV(dt_predictor, params, scoring=None, n_jobs=None, \n",
    "                                                iid='deprecated', refit=True, cv=None, verbose=0, \n",
    "                                                pre_dispatch='2*n_jobs', return_train_score=False)\n",
    "\n",
    "dtgridcv.fit(X, Y)"
   ]
  },
  {
   "cell_type": "code",
   "execution_count": 13,
   "metadata": {},
   "outputs": [
    {
     "data": {
      "text/html": [
       "<div>\n",
       "<style scoped>\n",
       "    .dataframe tbody tr th:only-of-type {\n",
       "        vertical-align: middle;\n",
       "    }\n",
       "\n",
       "    .dataframe tbody tr th {\n",
       "        vertical-align: top;\n",
       "    }\n",
       "\n",
       "    .dataframe thead th {\n",
       "        text-align: right;\n",
       "    }\n",
       "</style>\n",
       "<table border=\"1\" class=\"dataframe\">\n",
       "  <thead>\n",
       "    <tr style=\"text-align: right;\">\n",
       "      <th></th>\n",
       "      <th>mean_fit_time</th>\n",
       "      <th>std_fit_time</th>\n",
       "      <th>mean_score_time</th>\n",
       "      <th>std_score_time</th>\n",
       "      <th>param_criterion</th>\n",
       "      <th>param_max_depth</th>\n",
       "      <th>param_splitter</th>\n",
       "      <th>params</th>\n",
       "      <th>split0_test_score</th>\n",
       "      <th>split1_test_score</th>\n",
       "      <th>split2_test_score</th>\n",
       "      <th>split3_test_score</th>\n",
       "      <th>split4_test_score</th>\n",
       "      <th>mean_test_score</th>\n",
       "      <th>std_test_score</th>\n",
       "      <th>rank_test_score</th>\n",
       "    </tr>\n",
       "  </thead>\n",
       "  <tbody>\n",
       "    <tr>\n",
       "      <th>14</th>\n",
       "      <td>0.043484</td>\n",
       "      <td>0.002148</td>\n",
       "      <td>0.000802</td>\n",
       "      <td>0.000401</td>\n",
       "      <td>entropy</td>\n",
       "      <td>None</td>\n",
       "      <td>best</td>\n",
       "      <td>{'criterion': 'entropy', 'max_depth': None, 's...</td>\n",
       "      <td>0.829630</td>\n",
       "      <td>0.848148</td>\n",
       "      <td>0.851301</td>\n",
       "      <td>0.836431</td>\n",
       "      <td>0.851301</td>\n",
       "      <td>0.843362</td>\n",
       "      <td>0.008782</td>\n",
       "      <td>1</td>\n",
       "    </tr>\n",
       "    <tr>\n",
       "      <th>6</th>\n",
       "      <td>0.042492</td>\n",
       "      <td>0.002784</td>\n",
       "      <td>0.001398</td>\n",
       "      <td>0.000486</td>\n",
       "      <td>gini</td>\n",
       "      <td>None</td>\n",
       "      <td>best</td>\n",
       "      <td>{'criterion': 'gini', 'max_depth': None, 'spli...</td>\n",
       "      <td>0.840741</td>\n",
       "      <td>0.866667</td>\n",
       "      <td>0.825279</td>\n",
       "      <td>0.836431</td>\n",
       "      <td>0.836431</td>\n",
       "      <td>0.841110</td>\n",
       "      <td>0.013767</td>\n",
       "      <td>2</td>\n",
       "    </tr>\n",
       "    <tr>\n",
       "      <th>7</th>\n",
       "      <td>0.015957</td>\n",
       "      <td>0.001090</td>\n",
       "      <td>0.000797</td>\n",
       "      <td>0.000398</td>\n",
       "      <td>gini</td>\n",
       "      <td>None</td>\n",
       "      <td>random</td>\n",
       "      <td>{'criterion': 'gini', 'max_depth': None, 'spli...</td>\n",
       "      <td>0.814815</td>\n",
       "      <td>0.862963</td>\n",
       "      <td>0.843866</td>\n",
       "      <td>0.836431</td>\n",
       "      <td>0.832714</td>\n",
       "      <td>0.838158</td>\n",
       "      <td>0.015655</td>\n",
       "      <td>3</td>\n",
       "    </tr>\n",
       "    <tr>\n",
       "      <th>15</th>\n",
       "      <td>0.014967</td>\n",
       "      <td>0.000642</td>\n",
       "      <td>0.000998</td>\n",
       "      <td>0.000001</td>\n",
       "      <td>entropy</td>\n",
       "      <td>None</td>\n",
       "      <td>random</td>\n",
       "      <td>{'criterion': 'entropy', 'max_depth': None, 's...</td>\n",
       "      <td>0.833333</td>\n",
       "      <td>0.862963</td>\n",
       "      <td>0.806691</td>\n",
       "      <td>0.851301</td>\n",
       "      <td>0.832714</td>\n",
       "      <td>0.837401</td>\n",
       "      <td>0.019122</td>\n",
       "      <td>4</td>\n",
       "    </tr>\n",
       "    <tr>\n",
       "      <th>12</th>\n",
       "      <td>0.045676</td>\n",
       "      <td>0.005394</td>\n",
       "      <td>0.001198</td>\n",
       "      <td>0.000399</td>\n",
       "      <td>entropy</td>\n",
       "      <td>7</td>\n",
       "      <td>best</td>\n",
       "      <td>{'criterion': 'entropy', 'max_depth': 7, 'spli...</td>\n",
       "      <td>0.825926</td>\n",
       "      <td>0.822222</td>\n",
       "      <td>0.832714</td>\n",
       "      <td>0.825279</td>\n",
       "      <td>0.828996</td>\n",
       "      <td>0.827027</td>\n",
       "      <td>0.003566</td>\n",
       "      <td>5</td>\n",
       "    </tr>\n",
       "  </tbody>\n",
       "</table>\n",
       "</div>"
      ],
      "text/plain": [
       "    mean_fit_time  std_fit_time  mean_score_time  std_score_time  \\\n",
       "14       0.043484      0.002148         0.000802        0.000401   \n",
       "6        0.042492      0.002784         0.001398        0.000486   \n",
       "7        0.015957      0.001090         0.000797        0.000398   \n",
       "15       0.014967      0.000642         0.000998        0.000001   \n",
       "12       0.045676      0.005394         0.001198        0.000399   \n",
       "\n",
       "   param_criterion param_max_depth param_splitter  \\\n",
       "14         entropy            None           best   \n",
       "6             gini            None           best   \n",
       "7             gini            None         random   \n",
       "15         entropy            None         random   \n",
       "12         entropy               7           best   \n",
       "\n",
       "                                               params  split0_test_score  \\\n",
       "14  {'criterion': 'entropy', 'max_depth': None, 's...           0.829630   \n",
       "6   {'criterion': 'gini', 'max_depth': None, 'spli...           0.840741   \n",
       "7   {'criterion': 'gini', 'max_depth': None, 'spli...           0.814815   \n",
       "15  {'criterion': 'entropy', 'max_depth': None, 's...           0.833333   \n",
       "12  {'criterion': 'entropy', 'max_depth': 7, 'spli...           0.825926   \n",
       "\n",
       "    split1_test_score  split2_test_score  split3_test_score  \\\n",
       "14           0.848148           0.851301           0.836431   \n",
       "6            0.866667           0.825279           0.836431   \n",
       "7            0.862963           0.843866           0.836431   \n",
       "15           0.862963           0.806691           0.851301   \n",
       "12           0.822222           0.832714           0.825279   \n",
       "\n",
       "    split4_test_score  mean_test_score  std_test_score  rank_test_score  \n",
       "14           0.851301         0.843362        0.008782                1  \n",
       "6            0.836431         0.841110        0.013767                2  \n",
       "7            0.832714         0.838158        0.015655                3  \n",
       "15           0.832714         0.837401        0.019122                4  \n",
       "12           0.828996         0.827027        0.003566                5  "
      ]
     },
     "metadata": {},
     "output_type": "display_data"
    }
   ],
   "source": [
    "display(pd.DataFrame(dtgridcv.cv_results_).sort_values('rank_test_score').head())\n"
   ]
  },
  {
   "cell_type": "code",
   "execution_count": 14,
   "metadata": {},
   "outputs": [
    {
     "data": {
      "text/plain": [
       "0.8444444444444444"
      ]
     },
     "execution_count": 14,
     "metadata": {},
     "output_type": "execute_result"
    }
   ],
   "source": [
    "test = dtgridcv.predict(X_test)\n",
    "comparison = test == Y_test\n",
    "comparison.sum() / len(comparison)"
   ]
  },
  {
   "cell_type": "code",
   "execution_count": 15,
   "metadata": {},
   "outputs": [
    {
     "data": {
      "text/plain": [
       "1.0"
      ]
     },
     "execution_count": 15,
     "metadata": {},
     "output_type": "execute_result"
    }
   ],
   "source": [
    "test = dtgridcv.predict(X)\n",
    "comparison = test == Y\n",
    "comparison.sum() / len(comparison)"
   ]
  },
  {
   "cell_type": "markdown",
   "metadata": {},
   "source": [
    "### это переобучение"
   ]
  },
  {
   "cell_type": "code",
   "execution_count": 16,
   "metadata": {},
   "outputs": [
    {
     "data": {
      "text/html": [
       "<div>\n",
       "<style scoped>\n",
       "    .dataframe tbody tr th:only-of-type {\n",
       "        vertical-align: middle;\n",
       "    }\n",
       "\n",
       "    .dataframe tbody tr th {\n",
       "        vertical-align: top;\n",
       "    }\n",
       "\n",
       "    .dataframe thead th {\n",
       "        text-align: right;\n",
       "    }\n",
       "</style>\n",
       "<table border=\"1\" class=\"dataframe\">\n",
       "  <thead>\n",
       "    <tr style=\"text-align: right;\">\n",
       "      <th></th>\n",
       "      <th>mean_fit_time</th>\n",
       "      <th>std_fit_time</th>\n",
       "      <th>mean_score_time</th>\n",
       "      <th>std_score_time</th>\n",
       "      <th>param_criterion</th>\n",
       "      <th>param_max_depth</th>\n",
       "      <th>param_min_impurity_decrease</th>\n",
       "      <th>param_min_samples_leaf</th>\n",
       "      <th>param_min_samples_split</th>\n",
       "      <th>param_splitter</th>\n",
       "      <th>params</th>\n",
       "      <th>split0_test_score</th>\n",
       "      <th>split1_test_score</th>\n",
       "      <th>split2_test_score</th>\n",
       "      <th>split3_test_score</th>\n",
       "      <th>split4_test_score</th>\n",
       "      <th>mean_test_score</th>\n",
       "      <th>std_test_score</th>\n",
       "      <th>rank_test_score</th>\n",
       "    </tr>\n",
       "  </thead>\n",
       "  <tbody>\n",
       "    <tr>\n",
       "      <th>677</th>\n",
       "      <td>0.011968</td>\n",
       "      <td>0.000001</td>\n",
       "      <td>0.000400</td>\n",
       "      <td>0.000490</td>\n",
       "      <td>entropy</td>\n",
       "      <td>None</td>\n",
       "      <td>0.01</td>\n",
       "      <td>1</td>\n",
       "      <td>4</td>\n",
       "      <td>random</td>\n",
       "      <td>{'criterion': 'entropy', 'max_depth': None, 'm...</td>\n",
       "      <td>0.870370</td>\n",
       "      <td>0.837037</td>\n",
       "      <td>0.825279</td>\n",
       "      <td>0.795539</td>\n",
       "      <td>0.866171</td>\n",
       "      <td>0.838879</td>\n",
       "      <td>0.02758</td>\n",
       "      <td>1</td>\n",
       "    </tr>\n",
       "    <tr>\n",
       "      <th>681</th>\n",
       "      <td>0.012570</td>\n",
       "      <td>0.000795</td>\n",
       "      <td>0.000802</td>\n",
       "      <td>0.000401</td>\n",
       "      <td>entropy</td>\n",
       "      <td>None</td>\n",
       "      <td>0.01</td>\n",
       "      <td>2</td>\n",
       "      <td>2</td>\n",
       "      <td>random</td>\n",
       "      <td>{'criterion': 'entropy', 'max_depth': None, 'm...</td>\n",
       "      <td>0.870370</td>\n",
       "      <td>0.837037</td>\n",
       "      <td>0.825279</td>\n",
       "      <td>0.795539</td>\n",
       "      <td>0.866171</td>\n",
       "      <td>0.838879</td>\n",
       "      <td>0.02758</td>\n",
       "      <td>1</td>\n",
       "    </tr>\n",
       "    <tr>\n",
       "      <th>683</th>\n",
       "      <td>0.012368</td>\n",
       "      <td>0.000489</td>\n",
       "      <td>0.000997</td>\n",
       "      <td>0.000003</td>\n",
       "      <td>entropy</td>\n",
       "      <td>None</td>\n",
       "      <td>0.01</td>\n",
       "      <td>2</td>\n",
       "      <td>3</td>\n",
       "      <td>random</td>\n",
       "      <td>{'criterion': 'entropy', 'max_depth': None, 'm...</td>\n",
       "      <td>0.870370</td>\n",
       "      <td>0.837037</td>\n",
       "      <td>0.825279</td>\n",
       "      <td>0.795539</td>\n",
       "      <td>0.866171</td>\n",
       "      <td>0.838879</td>\n",
       "      <td>0.02758</td>\n",
       "      <td>1</td>\n",
       "    </tr>\n",
       "    <tr>\n",
       "      <th>685</th>\n",
       "      <td>0.012169</td>\n",
       "      <td>0.000400</td>\n",
       "      <td>0.000398</td>\n",
       "      <td>0.000488</td>\n",
       "      <td>entropy</td>\n",
       "      <td>None</td>\n",
       "      <td>0.01</td>\n",
       "      <td>2</td>\n",
       "      <td>4</td>\n",
       "      <td>random</td>\n",
       "      <td>{'criterion': 'entropy', 'max_depth': None, 'm...</td>\n",
       "      <td>0.870370</td>\n",
       "      <td>0.837037</td>\n",
       "      <td>0.825279</td>\n",
       "      <td>0.795539</td>\n",
       "      <td>0.866171</td>\n",
       "      <td>0.838879</td>\n",
       "      <td>0.02758</td>\n",
       "      <td>1</td>\n",
       "    </tr>\n",
       "    <tr>\n",
       "      <th>589</th>\n",
       "      <td>0.012560</td>\n",
       "      <td>0.000488</td>\n",
       "      <td>0.000603</td>\n",
       "      <td>0.000492</td>\n",
       "      <td>entropy</td>\n",
       "      <td>10</td>\n",
       "      <td>0.01</td>\n",
       "      <td>2</td>\n",
       "      <td>4</td>\n",
       "      <td>random</td>\n",
       "      <td>{'criterion': 'entropy', 'max_depth': 10, 'min...</td>\n",
       "      <td>0.851852</td>\n",
       "      <td>0.837037</td>\n",
       "      <td>0.825279</td>\n",
       "      <td>0.795539</td>\n",
       "      <td>0.866171</td>\n",
       "      <td>0.835176</td>\n",
       "      <td>0.02413</td>\n",
       "      <td>5</td>\n",
       "    </tr>\n",
       "  </tbody>\n",
       "</table>\n",
       "</div>"
      ],
      "text/plain": [
       "     mean_fit_time  std_fit_time  mean_score_time  std_score_time  \\\n",
       "677       0.011968      0.000001         0.000400        0.000490   \n",
       "681       0.012570      0.000795         0.000802        0.000401   \n",
       "683       0.012368      0.000489         0.000997        0.000003   \n",
       "685       0.012169      0.000400         0.000398        0.000488   \n",
       "589       0.012560      0.000488         0.000603        0.000492   \n",
       "\n",
       "    param_criterion param_max_depth param_min_impurity_decrease  \\\n",
       "677         entropy            None                        0.01   \n",
       "681         entropy            None                        0.01   \n",
       "683         entropy            None                        0.01   \n",
       "685         entropy            None                        0.01   \n",
       "589         entropy              10                        0.01   \n",
       "\n",
       "    param_min_samples_leaf param_min_samples_split param_splitter  \\\n",
       "677                      1                       4         random   \n",
       "681                      2                       2         random   \n",
       "683                      2                       3         random   \n",
       "685                      2                       4         random   \n",
       "589                      2                       4         random   \n",
       "\n",
       "                                                params  split0_test_score  \\\n",
       "677  {'criterion': 'entropy', 'max_depth': None, 'm...           0.870370   \n",
       "681  {'criterion': 'entropy', 'max_depth': None, 'm...           0.870370   \n",
       "683  {'criterion': 'entropy', 'max_depth': None, 'm...           0.870370   \n",
       "685  {'criterion': 'entropy', 'max_depth': None, 'm...           0.870370   \n",
       "589  {'criterion': 'entropy', 'max_depth': 10, 'min...           0.851852   \n",
       "\n",
       "     split1_test_score  split2_test_score  split3_test_score  \\\n",
       "677           0.837037           0.825279           0.795539   \n",
       "681           0.837037           0.825279           0.795539   \n",
       "683           0.837037           0.825279           0.795539   \n",
       "685           0.837037           0.825279           0.795539   \n",
       "589           0.837037           0.825279           0.795539   \n",
       "\n",
       "     split4_test_score  mean_test_score  std_test_score  rank_test_score  \n",
       "677           0.866171         0.838879         0.02758                1  \n",
       "681           0.866171         0.838879         0.02758                1  \n",
       "683           0.866171         0.838879         0.02758                1  \n",
       "685           0.866171         0.838879         0.02758                1  \n",
       "589           0.866171         0.835176         0.02413                5  "
      ]
     },
     "metadata": {},
     "output_type": "display_data"
    },
    {
     "name": "stdout",
     "output_type": "stream",
     "text": [
      "test score 0.8133333333333334\n",
      "train score 0.888641425389755\n"
     ]
    }
   ],
   "source": [
    "\n",
    "dt_predictor = sklearn.tree.DecisionTreeClassifier(criterion='gini', splitter='best', max_depth=None, \n",
    "                                                   min_samples_split=2, min_samples_leaf=1, min_weight_fraction_leaf=0.0,\n",
    "                                                   max_features=None, random_state=1998, max_leaf_nodes=None,\n",
    "                                                   min_impurity_decrease=0.0, min_impurity_split=None, class_weight=None, \n",
    "                                                   )\n",
    "params = {'criterion': ['gini', 'entropy'],\n",
    "          'splitter': ['best', 'random'],\n",
    "          'max_depth': [5, 7, 10, None],\n",
    "          'min_impurity_decrease': [0.01, 0.02, 0.05, 0.1],\n",
    "          'min_samples_leaf': [1, 2, 3],\n",
    "          'min_samples_split': [2, 3, 4, 5]\n",
    "          }\n",
    "\n",
    "dtgridcv = sklearn.model_selection.GridSearchCV(dt_predictor, params, scoring=None, n_jobs=None, \n",
    "                                                iid='deprecated', refit=True, cv=None, verbose=0, \n",
    "                                                pre_dispatch='2*n_jobs', return_train_score=False)\n",
    "\n",
    "dtgridcv.fit(X_train, Y_train)\n",
    "display(pd.DataFrame(dtgridcv.cv_results_).sort_values('rank_test_score').head())\n",
    "test = dtgridcv.predict(X_test)\n",
    "comparison = test == Y_test\n",
    "print('test score', comparison.sum() / len(comparison))\n",
    "\n",
    "test = dtgridcv.predict(X)\n",
    "comparison = test == Y\n",
    "print('train score', comparison.sum() / len(comparison))"
   ]
  },
  {
   "cell_type": "markdown",
   "metadata": {},
   "source": [
    "### now let's try kNN"
   ]
  },
  {
   "cell_type": "code",
   "execution_count": 17,
   "metadata": {},
   "outputs": [
    {
     "data": {
      "text/html": [
       "<div>\n",
       "<style scoped>\n",
       "    .dataframe tbody tr th:only-of-type {\n",
       "        vertical-align: middle;\n",
       "    }\n",
       "\n",
       "    .dataframe tbody tr th {\n",
       "        vertical-align: top;\n",
       "    }\n",
       "\n",
       "    .dataframe thead th {\n",
       "        text-align: right;\n",
       "    }\n",
       "</style>\n",
       "<table border=\"1\" class=\"dataframe\">\n",
       "  <thead>\n",
       "    <tr style=\"text-align: right;\">\n",
       "      <th></th>\n",
       "      <th>mean_fit_time</th>\n",
       "      <th>std_fit_time</th>\n",
       "      <th>mean_score_time</th>\n",
       "      <th>std_score_time</th>\n",
       "      <th>param_metric</th>\n",
       "      <th>param_n_neighbors</th>\n",
       "      <th>param_weights</th>\n",
       "      <th>params</th>\n",
       "      <th>split0_test_score</th>\n",
       "      <th>split1_test_score</th>\n",
       "      <th>split2_test_score</th>\n",
       "      <th>split3_test_score</th>\n",
       "      <th>split4_test_score</th>\n",
       "      <th>mean_test_score</th>\n",
       "      <th>std_test_score</th>\n",
       "      <th>rank_test_score</th>\n",
       "    </tr>\n",
       "  </thead>\n",
       "  <tbody>\n",
       "    <tr>\n",
       "      <th>2</th>\n",
       "      <td>0.047088</td>\n",
       "      <td>0.001326</td>\n",
       "      <td>0.140719</td>\n",
       "      <td>0.003002</td>\n",
       "      <td>minkowski</td>\n",
       "      <td>3</td>\n",
       "      <td>uniform</td>\n",
       "      <td>{'metric': 'minkowski', 'n_neighbors': 3, 'wei...</td>\n",
       "      <td>0.992593</td>\n",
       "      <td>0.992593</td>\n",
       "      <td>0.981413</td>\n",
       "      <td>0.985130</td>\n",
       "      <td>0.988848</td>\n",
       "      <td>0.988115</td>\n",
       "      <td>0.004347</td>\n",
       "      <td>1</td>\n",
       "    </tr>\n",
       "    <tr>\n",
       "      <th>3</th>\n",
       "      <td>0.047679</td>\n",
       "      <td>0.003638</td>\n",
       "      <td>0.118920</td>\n",
       "      <td>0.005152</td>\n",
       "      <td>minkowski</td>\n",
       "      <td>3</td>\n",
       "      <td>distance</td>\n",
       "      <td>{'metric': 'minkowski', 'n_neighbors': 3, 'wei...</td>\n",
       "      <td>0.992593</td>\n",
       "      <td>0.992593</td>\n",
       "      <td>0.981413</td>\n",
       "      <td>0.985130</td>\n",
       "      <td>0.988848</td>\n",
       "      <td>0.988115</td>\n",
       "      <td>0.004347</td>\n",
       "      <td>1</td>\n",
       "    </tr>\n",
       "    <tr>\n",
       "      <th>13</th>\n",
       "      <td>0.036103</td>\n",
       "      <td>0.002476</td>\n",
       "      <td>0.094195</td>\n",
       "      <td>0.006054</td>\n",
       "      <td>euclidean</td>\n",
       "      <td>3</td>\n",
       "      <td>distance</td>\n",
       "      <td>{'metric': 'euclidean', 'n_neighbors': 3, 'wei...</td>\n",
       "      <td>0.992593</td>\n",
       "      <td>0.992593</td>\n",
       "      <td>0.981413</td>\n",
       "      <td>0.985130</td>\n",
       "      <td>0.988848</td>\n",
       "      <td>0.988115</td>\n",
       "      <td>0.004347</td>\n",
       "      <td>1</td>\n",
       "    </tr>\n",
       "    <tr>\n",
       "      <th>12</th>\n",
       "      <td>0.034500</td>\n",
       "      <td>0.002414</td>\n",
       "      <td>0.106718</td>\n",
       "      <td>0.003993</td>\n",
       "      <td>euclidean</td>\n",
       "      <td>3</td>\n",
       "      <td>uniform</td>\n",
       "      <td>{'metric': 'euclidean', 'n_neighbors': 3, 'wei...</td>\n",
       "      <td>0.992593</td>\n",
       "      <td>0.992593</td>\n",
       "      <td>0.981413</td>\n",
       "      <td>0.985130</td>\n",
       "      <td>0.988848</td>\n",
       "      <td>0.988115</td>\n",
       "      <td>0.004347</td>\n",
       "      <td>1</td>\n",
       "    </tr>\n",
       "    <tr>\n",
       "      <th>0</th>\n",
       "      <td>0.076605</td>\n",
       "      <td>0.047603</td>\n",
       "      <td>0.143623</td>\n",
       "      <td>0.015364</td>\n",
       "      <td>minkowski</td>\n",
       "      <td>1</td>\n",
       "      <td>uniform</td>\n",
       "      <td>{'metric': 'minkowski', 'n_neighbors': 1, 'wei...</td>\n",
       "      <td>0.992593</td>\n",
       "      <td>0.988889</td>\n",
       "      <td>0.966543</td>\n",
       "      <td>0.996283</td>\n",
       "      <td>0.992565</td>\n",
       "      <td>0.987374</td>\n",
       "      <td>0.010675</td>\n",
       "      <td>5</td>\n",
       "    </tr>\n",
       "  </tbody>\n",
       "</table>\n",
       "</div>"
      ],
      "text/plain": [
       "    mean_fit_time  std_fit_time  mean_score_time  std_score_time param_metric  \\\n",
       "2        0.047088      0.001326         0.140719        0.003002    minkowski   \n",
       "3        0.047679      0.003638         0.118920        0.005152    minkowski   \n",
       "13       0.036103      0.002476         0.094195        0.006054    euclidean   \n",
       "12       0.034500      0.002414         0.106718        0.003993    euclidean   \n",
       "0        0.076605      0.047603         0.143623        0.015364    minkowski   \n",
       "\n",
       "   param_n_neighbors param_weights  \\\n",
       "2                  3       uniform   \n",
       "3                  3      distance   \n",
       "13                 3      distance   \n",
       "12                 3       uniform   \n",
       "0                  1       uniform   \n",
       "\n",
       "                                               params  split0_test_score  \\\n",
       "2   {'metric': 'minkowski', 'n_neighbors': 3, 'wei...           0.992593   \n",
       "3   {'metric': 'minkowski', 'n_neighbors': 3, 'wei...           0.992593   \n",
       "13  {'metric': 'euclidean', 'n_neighbors': 3, 'wei...           0.992593   \n",
       "12  {'metric': 'euclidean', 'n_neighbors': 3, 'wei...           0.992593   \n",
       "0   {'metric': 'minkowski', 'n_neighbors': 1, 'wei...           0.992593   \n",
       "\n",
       "    split1_test_score  split2_test_score  split3_test_score  \\\n",
       "2            0.992593           0.981413           0.985130   \n",
       "3            0.992593           0.981413           0.985130   \n",
       "13           0.992593           0.981413           0.985130   \n",
       "12           0.992593           0.981413           0.985130   \n",
       "0            0.988889           0.966543           0.996283   \n",
       "\n",
       "    split4_test_score  mean_test_score  std_test_score  rank_test_score  \n",
       "2            0.988848         0.988115        0.004347                1  \n",
       "3            0.988848         0.988115        0.004347                1  \n",
       "13           0.988848         0.988115        0.004347                1  \n",
       "12           0.988848         0.988115        0.004347                1  \n",
       "0            0.992565         0.987374        0.010675                5  "
      ]
     },
     "metadata": {},
     "output_type": "display_data"
    },
    {
     "name": "stdout",
     "output_type": "stream",
     "text": [
      "test score 0.98\n",
      "train score 0.9955456570155902\n"
     ]
    }
   ],
   "source": [
    "knn = sklearn.neighbors.KNeighborsClassifier(n_neighbors=5, weights='uniform', algorithm='auto', \n",
    "                                       leaf_size=30, p=2, metric='minkowski', \n",
    "                                       metric_params=None, n_jobs=None)\n",
    "\n",
    "params = {'n_neighbors': [1, 3, 5, 7, 10],\n",
    "          'weights': ['uniform', 'distance'],\n",
    "          'metric': ['minkowski', 'euclidean'],\n",
    "          }\n",
    "\n",
    "knngrid = sklearn.model_selection.GridSearchCV(knn, params, scoring=None, n_jobs=None, \n",
    "                                                iid='deprecated', refit=True, cv=None, verbose=0, \n",
    "                                                pre_dispatch='2*n_jobs', return_train_score=False)\n",
    "\n",
    "knngrid.fit(X_train, Y_train)\n",
    "display(pd.DataFrame(knngrid.cv_results_).sort_values('rank_test_score').head())\n",
    "test = knngrid.predict(X_test)\n",
    "comparison = test == Y_test\n",
    "print('test score', comparison.sum() / len(comparison))\n",
    "\n",
    "test = knngrid.predict(X)\n",
    "comparison = test == Y\n",
    "print('train score', comparison.sum() / len(comparison))"
   ]
  },
  {
   "cell_type": "markdown",
   "metadata": {},
   "source": [
    "### knn works perfectly, just as i have heard\n",
    "let's try decision forest"
   ]
  },
  {
   "cell_type": "code",
   "execution_count": 18,
   "metadata": {},
   "outputs": [
    {
     "data": {
      "text/html": [
       "<div>\n",
       "<style scoped>\n",
       "    .dataframe tbody tr th:only-of-type {\n",
       "        vertical-align: middle;\n",
       "    }\n",
       "\n",
       "    .dataframe tbody tr th {\n",
       "        vertical-align: top;\n",
       "    }\n",
       "\n",
       "    .dataframe thead th {\n",
       "        text-align: right;\n",
       "    }\n",
       "</style>\n",
       "<table border=\"1\" class=\"dataframe\">\n",
       "  <thead>\n",
       "    <tr style=\"text-align: right;\">\n",
       "      <th></th>\n",
       "      <th>mean_fit_time</th>\n",
       "      <th>std_fit_time</th>\n",
       "      <th>mean_score_time</th>\n",
       "      <th>std_score_time</th>\n",
       "      <th>param_criterion</th>\n",
       "      <th>param_max_depth</th>\n",
       "      <th>param_min_impurity_decrease</th>\n",
       "      <th>param_min_samples_leaf</th>\n",
       "      <th>param_min_samples_split</th>\n",
       "      <th>params</th>\n",
       "      <th>split0_test_score</th>\n",
       "      <th>split1_test_score</th>\n",
       "      <th>split2_test_score</th>\n",
       "      <th>split3_test_score</th>\n",
       "      <th>split4_test_score</th>\n",
       "      <th>mean_test_score</th>\n",
       "      <th>std_test_score</th>\n",
       "      <th>rank_test_score</th>\n",
       "    </tr>\n",
       "  </thead>\n",
       "  <tbody>\n",
       "    <tr>\n",
       "      <th>291</th>\n",
       "      <td>0.605642</td>\n",
       "      <td>0.016703</td>\n",
       "      <td>0.029707</td>\n",
       "      <td>0.001730</td>\n",
       "      <td>entropy</td>\n",
       "      <td>10</td>\n",
       "      <td>0.01</td>\n",
       "      <td>1</td>\n",
       "      <td>5</td>\n",
       "      <td>{'criterion': 'entropy', 'max_depth': 10, 'min...</td>\n",
       "      <td>0.974074</td>\n",
       "      <td>0.970370</td>\n",
       "      <td>0.955390</td>\n",
       "      <td>0.981413</td>\n",
       "      <td>0.966543</td>\n",
       "      <td>0.969558</td>\n",
       "      <td>0.008619</td>\n",
       "      <td>1</td>\n",
       "    </tr>\n",
       "    <tr>\n",
       "      <th>345</th>\n",
       "      <td>0.682225</td>\n",
       "      <td>0.011329</td>\n",
       "      <td>0.038108</td>\n",
       "      <td>0.001828</td>\n",
       "      <td>entropy</td>\n",
       "      <td>None</td>\n",
       "      <td>0.01</td>\n",
       "      <td>3</td>\n",
       "      <td>3</td>\n",
       "      <td>{'criterion': 'entropy', 'max_depth': None, 'm...</td>\n",
       "      <td>0.970370</td>\n",
       "      <td>0.970370</td>\n",
       "      <td>0.962825</td>\n",
       "      <td>0.981413</td>\n",
       "      <td>0.959108</td>\n",
       "      <td>0.968817</td>\n",
       "      <td>0.007663</td>\n",
       "      <td>2</td>\n",
       "    </tr>\n",
       "    <tr>\n",
       "      <th>295</th>\n",
       "      <td>0.572932</td>\n",
       "      <td>0.028974</td>\n",
       "      <td>0.031318</td>\n",
       "      <td>0.000793</td>\n",
       "      <td>entropy</td>\n",
       "      <td>10</td>\n",
       "      <td>0.01</td>\n",
       "      <td>2</td>\n",
       "      <td>5</td>\n",
       "      <td>{'criterion': 'entropy', 'max_depth': 10, 'min...</td>\n",
       "      <td>0.966667</td>\n",
       "      <td>0.959259</td>\n",
       "      <td>0.966543</td>\n",
       "      <td>0.977695</td>\n",
       "      <td>0.966543</td>\n",
       "      <td>0.967341</td>\n",
       "      <td>0.005903</td>\n",
       "      <td>3</td>\n",
       "    </tr>\n",
       "    <tr>\n",
       "      <th>342</th>\n",
       "      <td>0.756078</td>\n",
       "      <td>0.053252</td>\n",
       "      <td>0.037684</td>\n",
       "      <td>0.002228</td>\n",
       "      <td>entropy</td>\n",
       "      <td>None</td>\n",
       "      <td>0.01</td>\n",
       "      <td>2</td>\n",
       "      <td>4</td>\n",
       "      <td>{'criterion': 'entropy', 'max_depth': None, 'm...</td>\n",
       "      <td>0.970370</td>\n",
       "      <td>0.966667</td>\n",
       "      <td>0.955390</td>\n",
       "      <td>0.981413</td>\n",
       "      <td>0.962825</td>\n",
       "      <td>0.967333</td>\n",
       "      <td>0.008612</td>\n",
       "      <td>4</td>\n",
       "    </tr>\n",
       "    <tr>\n",
       "      <th>289</th>\n",
       "      <td>0.696795</td>\n",
       "      <td>0.056743</td>\n",
       "      <td>0.034310</td>\n",
       "      <td>0.003969</td>\n",
       "      <td>entropy</td>\n",
       "      <td>10</td>\n",
       "      <td>0.01</td>\n",
       "      <td>1</td>\n",
       "      <td>3</td>\n",
       "      <td>{'criterion': 'entropy', 'max_depth': 10, 'min...</td>\n",
       "      <td>0.966667</td>\n",
       "      <td>0.974074</td>\n",
       "      <td>0.955390</td>\n",
       "      <td>0.977695</td>\n",
       "      <td>0.962825</td>\n",
       "      <td>0.967330</td>\n",
       "      <td>0.007952</td>\n",
       "      <td>5</td>\n",
       "    </tr>\n",
       "  </tbody>\n",
       "</table>\n",
       "</div>"
      ],
      "text/plain": [
       "     mean_fit_time  std_fit_time  mean_score_time  std_score_time  \\\n",
       "291       0.605642      0.016703         0.029707        0.001730   \n",
       "345       0.682225      0.011329         0.038108        0.001828   \n",
       "295       0.572932      0.028974         0.031318        0.000793   \n",
       "342       0.756078      0.053252         0.037684        0.002228   \n",
       "289       0.696795      0.056743         0.034310        0.003969   \n",
       "\n",
       "    param_criterion param_max_depth param_min_impurity_decrease  \\\n",
       "291         entropy              10                        0.01   \n",
       "345         entropy            None                        0.01   \n",
       "295         entropy              10                        0.01   \n",
       "342         entropy            None                        0.01   \n",
       "289         entropy              10                        0.01   \n",
       "\n",
       "    param_min_samples_leaf param_min_samples_split  \\\n",
       "291                      1                       5   \n",
       "345                      3                       3   \n",
       "295                      2                       5   \n",
       "342                      2                       4   \n",
       "289                      1                       3   \n",
       "\n",
       "                                                params  split0_test_score  \\\n",
       "291  {'criterion': 'entropy', 'max_depth': 10, 'min...           0.974074   \n",
       "345  {'criterion': 'entropy', 'max_depth': None, 'm...           0.970370   \n",
       "295  {'criterion': 'entropy', 'max_depth': 10, 'min...           0.966667   \n",
       "342  {'criterion': 'entropy', 'max_depth': None, 'm...           0.970370   \n",
       "289  {'criterion': 'entropy', 'max_depth': 10, 'min...           0.966667   \n",
       "\n",
       "     split1_test_score  split2_test_score  split3_test_score  \\\n",
       "291           0.970370           0.955390           0.981413   \n",
       "345           0.970370           0.962825           0.981413   \n",
       "295           0.959259           0.966543           0.977695   \n",
       "342           0.966667           0.955390           0.981413   \n",
       "289           0.974074           0.955390           0.977695   \n",
       "\n",
       "     split4_test_score  mean_test_score  std_test_score  rank_test_score  \n",
       "291           0.966543         0.969558        0.008619                1  \n",
       "345           0.959108         0.968817        0.007663                2  \n",
       "295           0.966543         0.967341        0.005903                3  \n",
       "342           0.962825         0.967333        0.008612                4  \n",
       "289           0.962825         0.967330        0.007952                5  "
      ]
     },
     "metadata": {},
     "output_type": "display_data"
    },
    {
     "name": "stdout",
     "output_type": "stream",
     "text": [
      "test score 0.9666666666666667\n",
      "train score 0.9925760950259837\n"
     ]
    }
   ],
   "source": [
    "forest = sklearn.ensemble.RandomForestClassifier(n_estimators=100, \n",
    "                                        criterion='gini', max_depth=None, min_samples_split=2, min_samples_leaf=1, \n",
    "                                        min_weight_fraction_leaf=0.0, max_features='auto', max_leaf_nodes=None, \n",
    "                                        min_impurity_decrease=0.0, min_impurity_split=None, bootstrap=True, oob_score=False, \n",
    "                                        n_jobs=None, random_state=None, verbose=0, warm_start=False, \n",
    "                                        class_weight=None, ccp_alpha=0.0, max_samples=None)\n",
    "\n",
    "params = {'criterion': ['gini', 'entropy'],\n",
    "\n",
    "          'max_depth': [5, 7, 10, None],\n",
    "          'min_impurity_decrease': [0.01, 0.02, 0.05, 0.1],\n",
    "          'min_samples_leaf': [1, 2, 3],\n",
    "          'min_samples_split': [2, 3, 4, 5]\n",
    "          }\n",
    "\n",
    "forestgrid = sklearn.model_selection.GridSearchCV(forest, params, scoring=None, n_jobs=None, \n",
    "                                                iid='deprecated', refit=True, cv=None, verbose=0, \n",
    "                                                pre_dispatch='2*n_jobs', return_train_score=False)\n",
    "\n",
    "forestgrid.fit(X_train, Y_train)\n",
    "display(pd.DataFrame(forestgrid.cv_results_).sort_values('rank_test_score').head())\n",
    "test = forestgrid.predict(X_test)\n",
    "comparison = test == Y_test\n",
    "print('test score', comparison.sum() / len(comparison))\n",
    "\n",
    "test = forestgrid.predict(X)\n",
    "comparison = test == Y\n",
    "print('train score', comparison.sum() / len(comparison))"
   ]
  },
  {
   "cell_type": "code",
   "execution_count": 6,
   "metadata": {},
   "outputs": [],
   "source": [
    "X_mnist, Y_mnist = fetch_openml('mnist_784', version=1, return_X_y=True)"
   ]
  },
  {
   "cell_type": "code",
   "execution_count": 7,
   "metadata": {},
   "outputs": [
    {
     "name": "stdout",
     "output_type": "stream",
     "text": [
      "70000\n",
      "70000\n",
      "784\n",
      "1\n"
     ]
    }
   ],
   "source": [
    "print(len(X_mnist))\n",
    "print(len(Y_mnist))\n",
    "print(len(X_mnist[0]))\n",
    "print(len(Y_mnist[0]))"
   ]
  },
  {
   "cell_type": "code",
   "execution_count": 10,
   "metadata": {},
   "outputs": [],
   "source": [
    "m_X_train, m_X_test, m_Y_train, m_Y_test = train_test_split(X_mnist, Y_mnist, test_size=0.5, random_state=1998)"
   ]
  },
  {
   "cell_type": "code",
   "execution_count": 11,
   "metadata": {},
   "outputs": [
    {
     "name": "stdout",
     "output_type": "stream",
     "text": [
      "35000\n",
      "35000\n",
      "35000\n",
      "35000\n"
     ]
    }
   ],
   "source": [
    "print(len(m_X_train))\n",
    "print(len(m_Y_train))\n",
    "print(len(m_X_test))\n",
    "print(len(m_Y_test))"
   ]
  },
  {
   "cell_type": "code",
   "execution_count": 21,
   "metadata": {},
   "outputs": [
    {
     "data": {
      "text/plain": [
       "RandomForestClassifier(bootstrap=True, ccp_alpha=0.0, class_weight=None,\n",
       "                       criterion='entropy', max_depth=None, max_features='auto',\n",
       "                       max_leaf_nodes=None, max_samples=None,\n",
       "                       min_impurity_decrease=0.0, min_impurity_split=None,\n",
       "                       min_samples_leaf=2, min_samples_split=10,\n",
       "                       min_weight_fraction_leaf=0.0, n_estimators=100,\n",
       "                       n_jobs=None, oob_score=False, random_state=None,\n",
       "                       verbose=0, warm_start=False)"
      ]
     },
     "execution_count": 21,
     "metadata": {},
     "output_type": "execute_result"
    }
   ],
   "source": [
    "forest_mnist = sklearn.ensemble.RandomForestClassifier(n_estimators=100, \n",
    "                                        criterion='entropy', max_depth=None, min_samples_split=10, min_samples_leaf=2, \n",
    "                                        min_weight_fraction_leaf=0.0, max_features='auto', max_leaf_nodes=None, \n",
    "                                        min_impurity_decrease=0., min_impurity_split=None, bootstrap=True, oob_score=False, \n",
    "                                        n_jobs=None, random_state=None, verbose=0, warm_start=False, \n",
    "                                        class_weight=None, ccp_alpha=0.0, max_samples=None)\n",
    "forest_mnist.fit(m_X_train_reduced, m_Y_train)"
   ]
  },
  {
   "cell_type": "code",
   "execution_count": 22,
   "metadata": {},
   "outputs": [
    {
     "name": "stdout",
     "output_type": "stream",
     "text": [
      "0.9975714285714286\n",
      "0.9111269841269841\n"
     ]
    }
   ],
   "source": [
    "print(forest_mnist.score(m_X_train_reduced, m_Y_train))\n",
    "print(forest_mnist.score(m_X_test_reduced, m_Y_test))"
   ]
  },
  {
   "cell_type": "markdown",
   "metadata": {},
   "source": [
    "### failure. Let us try KNN and then give up"
   ]
  },
  {
   "cell_type": "code",
   "execution_count": 7,
   "metadata": {},
   "outputs": [
    {
     "data": {
      "text/plain": [
       "KNeighborsClassifier(algorithm='auto', leaf_size=30, metric='minkowski',\n",
       "                     metric_params=None, n_jobs=None, n_neighbors=3, p=2,\n",
       "                     weights='uniform')"
      ]
     },
     "execution_count": 7,
     "metadata": {},
     "output_type": "execute_result"
    }
   ],
   "source": [
    "knn_mnist = sklearn.neighbors.KNeighborsClassifier(n_neighbors=3, weights='uniform', algorithm='auto', \n",
    "                                       leaf_size=30, p=2, metric='minkowski', \n",
    "                                       metric_params=None, n_jobs=None)\n",
    "knn_mnist.fit(m_X_train, m_Y_train)"
   ]
  },
  {
   "cell_type": "code",
   "execution_count": null,
   "metadata": {},
   "outputs": [],
   "source": [
    "print(knn_mnist.score(m_X_test, m_Y_test))"
   ]
  },
  {
   "cell_type": "markdown",
   "metadata": {},
   "source": [
    "__knn takes to long, cannot wait for it. Let's try some principal component analysis__"
   ]
  },
  {
   "cell_type": "code",
   "execution_count": 10,
   "metadata": {},
   "outputs": [],
   "source": [
    "from sklearn.decomposition import PCA"
   ]
  },
  {
   "cell_type": "code",
   "execution_count": 11,
   "metadata": {},
   "outputs": [
    {
     "name": "stdout",
     "output_type": "stream",
     "text": [
      "done fitting\n"
     ]
    }
   ],
   "source": [
    "pcator = PCA(n_components=0.9, copy=False, whiten=False, svd_solver='full', tol=0.0, iterated_power='auto', random_state=None)\n",
    "## MUST USE FIT_TRANSFORM, will break otherwise because of copy=false\n",
    "m_X_train_reduced = pcator.fit_transform(m_X_train)\n",
    "print(\"done fitting\")\n",
    "m_X_test_reduced = pcator.transform(m_X_test)"
   ]
  },
  {
   "cell_type": "code",
   "execution_count": 12,
   "metadata": {},
   "outputs": [
    {
     "name": "stdout",
     "output_type": "stream",
     "text": [
      "7000\n",
      "86\n"
     ]
    }
   ],
   "source": [
    "print(len(m_X_train_reduced))\n",
    "print(len(m_X_train_reduced[0]))"
   ]
  },
  {
   "cell_type": "code",
   "execution_count": 9,
   "metadata": {},
   "outputs": [
    {
     "data": {
      "text/plain": [
       "KNeighborsClassifier(algorithm='auto', leaf_size=30, metric='minkowski',\n",
       "                     metric_params=None, n_jobs=None, n_neighbors=3, p=2,\n",
       "                     weights='uniform')"
      ]
     },
     "execution_count": 9,
     "metadata": {},
     "output_type": "execute_result"
    }
   ],
   "source": [
    "knn_mnist = sklearn.neighbors.KNeighborsClassifier(n_neighbors=3, weights='uniform', algorithm='auto', \n",
    "                                       leaf_size=30, p=2, metric='minkowski', \n",
    "                                       metric_params=None, n_jobs=None)\n",
    "knn_mnist.fit(m_X_train_reduced, m_Y_train)"
   ]
  },
  {
   "cell_type": "code",
   "execution_count": 10,
   "metadata": {},
   "outputs": [
    {
     "name": "stdout",
     "output_type": "stream",
     "text": [
      "0.9765714285714285\n"
     ]
    }
   ],
   "source": [
    "print(knn_mnist.score(m_X_test_reduced, m_Y_test))"
   ]
  },
  {
   "cell_type": "code",
   "execution_count": 12,
   "metadata": {},
   "outputs": [
    {
     "name": "stderr",
     "output_type": "stream",
     "text": [
      "d:\\utilites\\programming\\anaconda-python\\lib\\site-packages\\sklearn\\utils\\optimize.py:212: ConvergenceWarning: newton-cg failed to converge. Increase the number of iterations.\n",
      "  \"number of iterations.\", ConvergenceWarning)\n"
     ]
    },
    {
     "data": {
      "text/plain": [
       "LogisticRegression(C=0.01, class_weight=None, dual=False, fit_intercept=True,\n",
       "                   intercept_scaling=1, l1_ratio=None, max_iter=100,\n",
       "                   multi_class='auto', n_jobs=None, penalty='l2',\n",
       "                   random_state=1998, solver='newton-cg', tol=0.0001, verbose=0,\n",
       "                   warm_start=False)"
      ]
     },
     "execution_count": 12,
     "metadata": {},
     "output_type": "execute_result"
    }
   ],
   "source": [
    "logit = sklearn.linear_model.LogisticRegression(penalty='l2', dual=False, tol=0.0001, C=0.01, fit_intercept=True, \n",
    "                                                intercept_scaling=1, class_weight=None, random_state=1998, \n",
    "                                                solver='newton-cg', max_iter=100, multi_class='auto', \n",
    "                                                verbose=0, warm_start=False, n_jobs=None, l1_ratio=None)\n",
    "logit.fit(m_X_train_reduced[:3000], m_Y_train[:3000])\n"
   ]
  },
  {
   "cell_type": "code",
   "execution_count": 13,
   "metadata": {},
   "outputs": [
    {
     "data": {
      "text/plain": [
       "0.8197142857142857"
      ]
     },
     "execution_count": 13,
     "metadata": {},
     "output_type": "execute_result"
    }
   ],
   "source": [
    "logit.score(m_X_test_reduced, m_Y_test)"
   ]
  },
  {
   "cell_type": "code",
   "execution_count": 18,
   "metadata": {},
   "outputs": [
    {
     "data": {
      "text/html": [
       "<div>\n",
       "<style scoped>\n",
       "    .dataframe tbody tr th:only-of-type {\n",
       "        vertical-align: middle;\n",
       "    }\n",
       "\n",
       "    .dataframe tbody tr th {\n",
       "        vertical-align: top;\n",
       "    }\n",
       "\n",
       "    .dataframe thead th {\n",
       "        text-align: right;\n",
       "    }\n",
       "</style>\n",
       "<table border=\"1\" class=\"dataframe\">\n",
       "  <thead>\n",
       "    <tr style=\"text-align: right;\">\n",
       "      <th></th>\n",
       "      <th>mean_fit_time</th>\n",
       "      <th>std_fit_time</th>\n",
       "      <th>mean_score_time</th>\n",
       "      <th>std_score_time</th>\n",
       "      <th>param_criterion</th>\n",
       "      <th>param_max_depth</th>\n",
       "      <th>param_min_impurity_decrease</th>\n",
       "      <th>param_min_samples_leaf</th>\n",
       "      <th>param_min_samples_split</th>\n",
       "      <th>param_splitter</th>\n",
       "      <th>params</th>\n",
       "      <th>split0_test_score</th>\n",
       "      <th>split1_test_score</th>\n",
       "      <th>split2_test_score</th>\n",
       "      <th>split3_test_score</th>\n",
       "      <th>split4_test_score</th>\n",
       "      <th>mean_test_score</th>\n",
       "      <th>std_test_score</th>\n",
       "      <th>rank_test_score</th>\n",
       "    </tr>\n",
       "  </thead>\n",
       "  <tbody>\n",
       "    <tr>\n",
       "      <th>25</th>\n",
       "      <td>0.173926</td>\n",
       "      <td>0.007218</td>\n",
       "      <td>0.005198</td>\n",
       "      <td>0.000418</td>\n",
       "      <td>entropy</td>\n",
       "      <td>None</td>\n",
       "      <td>0</td>\n",
       "      <td>2</td>\n",
       "      <td>10</td>\n",
       "      <td>random</td>\n",
       "      <td>{'criterion': 'entropy', 'max_depth': None, 'm...</td>\n",
       "      <td>0.752143</td>\n",
       "      <td>0.725714</td>\n",
       "      <td>0.748571</td>\n",
       "      <td>0.740714</td>\n",
       "      <td>0.750000</td>\n",
       "      <td>0.743429</td>\n",
       "      <td>0.009662</td>\n",
       "      <td>1</td>\n",
       "    </tr>\n",
       "    <tr>\n",
       "      <th>24</th>\n",
       "      <td>0.177908</td>\n",
       "      <td>0.009731</td>\n",
       "      <td>0.005190</td>\n",
       "      <td>0.000383</td>\n",
       "      <td>entropy</td>\n",
       "      <td>None</td>\n",
       "      <td>0</td>\n",
       "      <td>2</td>\n",
       "      <td>4</td>\n",
       "      <td>random</td>\n",
       "      <td>{'criterion': 'entropy', 'max_depth': None, 'm...</td>\n",
       "      <td>0.750000</td>\n",
       "      <td>0.742143</td>\n",
       "      <td>0.727857</td>\n",
       "      <td>0.728571</td>\n",
       "      <td>0.725000</td>\n",
       "      <td>0.734714</td>\n",
       "      <td>0.009674</td>\n",
       "      <td>2</td>\n",
       "    </tr>\n",
       "    <tr>\n",
       "      <th>26</th>\n",
       "      <td>0.174986</td>\n",
       "      <td>0.011030</td>\n",
       "      <td>0.004586</td>\n",
       "      <td>0.000491</td>\n",
       "      <td>entropy</td>\n",
       "      <td>None</td>\n",
       "      <td>0</td>\n",
       "      <td>2</td>\n",
       "      <td>2</td>\n",
       "      <td>random</td>\n",
       "      <td>{'criterion': 'entropy', 'max_depth': None, 'm...</td>\n",
       "      <td>0.750000</td>\n",
       "      <td>0.742143</td>\n",
       "      <td>0.727857</td>\n",
       "      <td>0.728571</td>\n",
       "      <td>0.725000</td>\n",
       "      <td>0.734714</td>\n",
       "      <td>0.009674</td>\n",
       "      <td>2</td>\n",
       "    </tr>\n",
       "    <tr>\n",
       "      <th>23</th>\n",
       "      <td>0.134644</td>\n",
       "      <td>0.006048</td>\n",
       "      <td>0.004180</td>\n",
       "      <td>0.000404</td>\n",
       "      <td>entropy</td>\n",
       "      <td>None</td>\n",
       "      <td>0</td>\n",
       "      <td>5</td>\n",
       "      <td>2</td>\n",
       "      <td>random</td>\n",
       "      <td>{'criterion': 'entropy', 'max_depth': None, 'm...</td>\n",
       "      <td>0.747143</td>\n",
       "      <td>0.711429</td>\n",
       "      <td>0.730714</td>\n",
       "      <td>0.743571</td>\n",
       "      <td>0.727857</td>\n",
       "      <td>0.732143</td>\n",
       "      <td>0.012689</td>\n",
       "      <td>4</td>\n",
       "    </tr>\n",
       "    <tr>\n",
       "      <th>21</th>\n",
       "      <td>0.134671</td>\n",
       "      <td>0.008002</td>\n",
       "      <td>0.004595</td>\n",
       "      <td>0.000495</td>\n",
       "      <td>entropy</td>\n",
       "      <td>None</td>\n",
       "      <td>0</td>\n",
       "      <td>5</td>\n",
       "      <td>4</td>\n",
       "      <td>random</td>\n",
       "      <td>{'criterion': 'entropy', 'max_depth': None, 'm...</td>\n",
       "      <td>0.747143</td>\n",
       "      <td>0.711429</td>\n",
       "      <td>0.730714</td>\n",
       "      <td>0.743571</td>\n",
       "      <td>0.727857</td>\n",
       "      <td>0.732143</td>\n",
       "      <td>0.012689</td>\n",
       "      <td>4</td>\n",
       "    </tr>\n",
       "  </tbody>\n",
       "</table>\n",
       "</div>"
      ],
      "text/plain": [
       "    mean_fit_time  std_fit_time  mean_score_time  std_score_time  \\\n",
       "25       0.173926      0.007218         0.005198        0.000418   \n",
       "24       0.177908      0.009731         0.005190        0.000383   \n",
       "26       0.174986      0.011030         0.004586        0.000491   \n",
       "23       0.134644      0.006048         0.004180        0.000404   \n",
       "21       0.134671      0.008002         0.004595        0.000495   \n",
       "\n",
       "   param_criterion param_max_depth param_min_impurity_decrease  \\\n",
       "25         entropy            None                           0   \n",
       "24         entropy            None                           0   \n",
       "26         entropy            None                           0   \n",
       "23         entropy            None                           0   \n",
       "21         entropy            None                           0   \n",
       "\n",
       "   param_min_samples_leaf param_min_samples_split param_splitter  \\\n",
       "25                      2                      10         random   \n",
       "24                      2                       4         random   \n",
       "26                      2                       2         random   \n",
       "23                      5                       2         random   \n",
       "21                      5                       4         random   \n",
       "\n",
       "                                               params  split0_test_score  \\\n",
       "25  {'criterion': 'entropy', 'max_depth': None, 'm...           0.752143   \n",
       "24  {'criterion': 'entropy', 'max_depth': None, 'm...           0.750000   \n",
       "26  {'criterion': 'entropy', 'max_depth': None, 'm...           0.750000   \n",
       "23  {'criterion': 'entropy', 'max_depth': None, 'm...           0.747143   \n",
       "21  {'criterion': 'entropy', 'max_depth': None, 'm...           0.747143   \n",
       "\n",
       "    split1_test_score  split2_test_score  split3_test_score  \\\n",
       "25           0.725714           0.748571           0.740714   \n",
       "24           0.742143           0.727857           0.728571   \n",
       "26           0.742143           0.727857           0.728571   \n",
       "23           0.711429           0.730714           0.743571   \n",
       "21           0.711429           0.730714           0.743571   \n",
       "\n",
       "    split4_test_score  mean_test_score  std_test_score  rank_test_score  \n",
       "25           0.750000         0.743429        0.009662                1  \n",
       "24           0.725000         0.734714        0.009674                2  \n",
       "26           0.725000         0.734714        0.009674                2  \n",
       "23           0.727857         0.732143        0.012689                4  \n",
       "21           0.727857         0.732143        0.012689                4  "
      ]
     },
     "metadata": {},
     "output_type": "display_data"
    },
    {
     "name": "stdout",
     "output_type": "stream",
     "text": [
      "0.7266984126984127\n",
      "0.8948571428571429\n"
     ]
    }
   ],
   "source": [
    "\n",
    "m_dt_predictor = sklearn.tree.DecisionTreeClassifier(criterion='gini', splitter='best', max_depth=None, \n",
    "                                                   min_samples_split=2, min_samples_leaf=1, min_weight_fraction_leaf=0.0,\n",
    "                                                   max_features=None, random_state=1998, max_leaf_nodes=None,\n",
    "                                                   min_impurity_decrease=0.0, min_impurity_split=None, class_weight=None, \n",
    "                                                   )\n",
    "params = {'criterion': ['entropy'],\n",
    "          'splitter': ['random'],\n",
    "          'max_depth': [10, None, 3, 7],\n",
    "          'min_impurity_decrease': [0, 0.01],\n",
    "          'min_samples_leaf': [7, 5, 2],\n",
    "          'min_samples_split': [4, 10, 2]\n",
    "          }\n",
    "\n",
    "m_dtgridcv = sklearn.model_selection.GridSearchCV(m_dt_predictor, params, scoring=None, n_jobs=None, \n",
    "                                                iid='deprecated', refit=True, cv=None, verbose=0, \n",
    "                                                pre_dispatch='2*n_jobs', return_train_score=False)\n",
    "\n",
    "m_dtgridcv.fit(m_X_train_reduced, m_Y_train)\n",
    "display(pd.DataFrame(m_dtgridcv.cv_results_).sort_values('rank_test_score').head())\n",
    "print(m_dtgridcv.score(m_X_test_reduced, m_Y_test))\n",
    "print(m_dtgridcv.score(m_X_train_reduced, m_Y_train))"
   ]
  },
  {
   "cell_type": "code",
   "execution_count": 9,
   "metadata": {},
   "outputs": [
    {
     "data": {
      "text/plain": [
       "DecisionTreeClassifier(ccp_alpha=0.0, class_weight=None, criterion='entropy',\n",
       "                       max_depth=None, max_features=None, max_leaf_nodes=None,\n",
       "                       min_impurity_decrease=0.01, min_impurity_split=None,\n",
       "                       min_samples_leaf=1, min_samples_split=4,\n",
       "                       min_weight_fraction_leaf=0.0, presort='deprecated',\n",
       "                       random_state=1998, splitter='random')"
      ]
     },
     "execution_count": 9,
     "metadata": {},
     "output_type": "execute_result"
    }
   ],
   "source": [
    "m_dt_predictor = sklearn.tree.DecisionTreeClassifier(criterion='entropy', splitter='random', max_depth=None, \n",
    "                                                   min_samples_split=4, min_samples_leaf=1, min_weight_fraction_leaf=0.0,\n",
    "                                                   max_features=None, random_state=1998, max_leaf_nodes=None,\n",
    "                                                   min_impurity_decrease=0.01, min_impurity_split=None, class_weight=None, \n",
    "                                                   )\n",
    "# entropy\tNone\t0.01\t1\t4\trandom\n",
    "m_dt_predictor.fit(m_X_train, m_Y_train)"
   ]
  },
  {
   "cell_type": "code",
   "execution_count": 11,
   "metadata": {},
   "outputs": [
    {
     "name": "stdout",
     "output_type": "stream",
     "text": [
      "0.09773015873015874\n",
      "0.7068571428571429\n"
     ]
    }
   ],
   "source": [
    "print(m_dt_predictor.score(m_X_test, m_Y_test))\n",
    "print(m_dt_predictor.score(m_X_train, m_Y_train))"
   ]
  },
  {
   "cell_type": "code",
   "execution_count": 13,
   "metadata": {},
   "outputs": [
    {
     "data": {
      "text/plain": [
       "SVC(C=1.0, break_ties=False, cache_size=200, class_weight=None, coef0=0.0,\n",
       "    decision_function_shape='ovr', degree=3, gamma='scale', kernel='rbf',\n",
       "    max_iter=-1, probability=False, random_state=None, shrinking=True,\n",
       "    tol=0.001, verbose=False)"
      ]
     },
     "execution_count": 13,
     "metadata": {},
     "output_type": "execute_result"
    }
   ],
   "source": [
    "#trying out svm on load_digits\n",
    "svc = sklearn.svm.SVC(C=1.0, kernel='rbf', degree=3, gamma='scale', \n",
    "                      coef0=0.0, shrinking=True, probability=False, \n",
    "                      tol=0.001, cache_size=200, class_weight=None, \n",
    "                      verbose=False, max_iter=-1, decision_function_shape='ovr', \n",
    "                      break_ties=False, random_state=None)\n",
    "\n",
    "svc.fit(X_train, Y_train)"
   ]
  },
  {
   "cell_type": "code",
   "execution_count": 14,
   "metadata": {},
   "outputs": [
    {
     "name": "stdout",
     "output_type": "stream",
     "text": [
      "0.9866666666666667\n",
      "0.9948032665181886\n"
     ]
    }
   ],
   "source": [
    "print(svc.score(X_test, Y_test))\n",
    "print(svc.score(X_train,Y_train))"
   ]
  },
  {
   "cell_type": "code",
   "execution_count": 19,
   "metadata": {},
   "outputs": [
    {
     "data": {
      "text/plain": [
       "SVC(C=1.0, break_ties=False, cache_size=200, class_weight=None, coef0=0.0,\n",
       "    decision_function_shape='ovr', degree=3, gamma='scale', kernel='rbf',\n",
       "    max_iter=-1, probability=False, random_state=None, shrinking=True,\n",
       "    tol=0.001, verbose=False)"
      ]
     },
     "execution_count": 19,
     "metadata": {},
     "output_type": "execute_result"
    }
   ],
   "source": [
    "svc.fit(m_X_train[0:5000], m_Y_train[0:5000])"
   ]
  },
  {
   "cell_type": "code",
   "execution_count": 20,
   "metadata": {},
   "outputs": [
    {
     "name": "stdout",
     "output_type": "stream",
     "text": [
      "0.9496285714285714\n",
      "0.9836\n"
     ]
    }
   ],
   "source": [
    "print(svc.score(m_X_test, m_Y_test))\n",
    "print(svc.score(m_X_train[0:5000], m_Y_train[0:5000]))"
   ]
  },
  {
   "cell_type": "code",
   "execution_count": null,
   "metadata": {},
   "outputs": [],
   "source": [
    "params = {\n",
    "            \n",
    "         }\n",
    "\n",
    "svc_grid = sklearn.model_selection.GridSearchCV(m_dt_predictor, params, scoring=None, n_jobs=None, \n",
    "                                                iid='deprecated', refit=True, cv=None, verbose=0, \n",
    "                                                pre_dispatch='2*n_jobs', return_train_score=False)\n",
    "\n",
    "svc_grid.fit(m_X_train[0:1000], m_Y_train[0:1000])\n",
    "display(pd.DataFrame(svc_grid.cv_results_).sort_values('rank_test_score').head())\n",
    "print(svc_grid.score(m_X_test, m_Y_test))\n",
    "print(svc_grid.score(m_X_train[0:1000], m_Y_train[0:1000]))"
   ]
  }
 ],
 "metadata": {
  "kernelspec": {
   "display_name": "Python 3",
   "language": "python",
   "name": "python3"
  },
  "language_info": {
   "codemirror_mode": {
    "name": "ipython",
    "version": 3
   },
   "file_extension": ".py",
   "mimetype": "text/x-python",
   "name": "python",
   "nbconvert_exporter": "python",
   "pygments_lexer": "ipython3",
   "version": "3.7.3"
  }
 },
 "nbformat": 4,
 "nbformat_minor": 2
}
