{
 "cells": [
  {
   "cell_type": "code",
   "execution_count": 1,
   "metadata": {
    "ExecuteTime": {
     "end_time": "2019-12-03T19:19:42.285578Z",
     "start_time": "2019-12-03T19:19:41.951559Z"
    }
   },
   "outputs": [],
   "source": [
    "import numpy as np\n",
    "import matplotlib.pyplot as plt\n",
    "from matplotlib.colors import ListedColormap\n",
    "import seaborn as sns\n",
    "from sklearn.model_selection import train_test_split\n",
    "from sklearn.preprocessing import StandardScaler\n",
    "from sklearn.datasets import make_moons, make_circles, make_classification\n",
    "from sklearn.neural_network import MLPClassifier\n",
    "from sklearn.neighbors import KNeighborsClassifier\n",
    "from sklearn.svm import SVC\n",
    "from sklearn.gaussian_process import GaussianProcessClassifier\n",
    "from sklearn.gaussian_process.kernels import RBF\n",
    "from sklearn.tree import DecisionTreeClassifier\n",
    "from sklearn.ensemble import RandomForestClassifier, AdaBoostClassifier\n",
    "from sklearn.naive_bayes import GaussianNB\n",
    "from sklearn.discriminant_analysis import QuadraticDiscriminantAnalysis\n",
    "from sklearn.datasets import fetch_openml\n",
    "from sklearn.datasets import load_digits\n",
    "\n",
    "from sklearn.model_selection import cross_val_score\n",
    "from sklearn.model_selection import GridSearchCV"
   ]
  },
  {
   "cell_type": "code",
   "execution_count": 2,
   "metadata": {
    "ExecuteTime": {
     "end_time": "2019-12-03T13:11:10.874877Z",
     "start_time": "2019-12-03T13:11:10.806874Z"
    }
   },
   "outputs": [],
   "source": [
    "data = load_digits()\n",
    "X, Y = data.data, data.target"
   ]
  },
  {
   "cell_type": "code",
   "execution_count": 3,
   "metadata": {
    "ExecuteTime": {
     "end_time": "2019-12-03T19:20:40.755922Z",
     "start_time": "2019-12-03T19:20:40.528909Z"
    }
   },
   "outputs": [
    {
     "name": "stdout",
     "output_type": "stream",
     "text": [
      "1797\n",
      "64\n",
      "1797\n",
      "(1797, 64)\n"
     ]
    },
    {
     "data": {
      "text/plain": [
       "<matplotlib.axes._subplots.AxesSubplot at 0x1a952130>"
      ]
     },
     "execution_count": 3,
     "metadata": {},
     "output_type": "execute_result"
    },
    {
     "data": {
      "image/png": "[encoded data removed]",
      "text/plain": [
       "<Figure size 432x288 with 1 Axes>"
      ]
     },
     "metadata": {
      "needs_background": "light"
     },
     "output_type": "display_data"
    }
   ],
   "source": [
    "print(len(X))\n",
    "print(len(X[0]))\n",
    "print(len(Y))\n",
    "print(X.shape)\n",
    "sns.distplot(X[X>0])"
   ]
  },
  {
   "cell_type": "code",
   "execution_count": 4,
   "metadata": {
    "ExecuteTime": {
     "end_time": "2019-12-03T19:59:13.182185Z",
     "start_time": "2019-12-03T19:59:13.178185Z"
    }
   },
   "outputs": [],
   "source": [
    "classifiers = [\n",
    "    KNeighborsClassifier(3),\n",
    "    SVC(kernel=\"linear\", C=0.025),\n",
    "    SVC(gamma=0.001, C=10,kernel='rbf'),\n",
    "    DecisionTreeClassifier(max_depth=5),\n",
    "    RandomForestClassifier(max_depth=6, n_estimators=100, max_features=20),\n",
    "    AdaBoostClassifier(n_estimators=20, learning_rate=0.1),\n",
    "    GaussianNB(),\n",
    "# GaussianProcessClassifier(1.0 * RBF(1.0)),\n",
    "#MLPClassifier((50,))\n",
    "]\n",
    "names = [\"Nearest Neighbors\", \"Linear SVM\", \"RBF SVM\", \n",
    "         \"Decision Tree\", \"Random Forest\", \"AdaBoost\",\n",
    "         \"Naive Bayes\",\n",
    "#          \"Gaussian Process\", \n",
    "        # \"MLP\"\n",
    "        ]\n"
   ]
  },
  {
   "cell_type": "code",
   "execution_count": 5,
   "metadata": {},
   "outputs": [],
   "source": [
    "#X_train, X_test, y_train, y_test = train_test_split(X, Y, test_size=.4, random_state=42)\n"
   ]
  },
  {
   "cell_type": "code",
   "execution_count": 6,
   "metadata": {
    "ExecuteTime": {
     "end_time": "2019-12-03T19:59:24.688843Z",
     "start_time": "2019-12-03T19:59:15.562321Z"
    }
   },
   "outputs": [
    {
     "name": "stdout",
     "output_type": "stream",
     "text": [
      "Nearest Neighbors\n",
      "Average score: 0.9660439437469768\n",
      "Linear SVM\n",
      "Average score: 0.9491044097031857\n",
      "RBF SVM\n",
      "Average score: 0.9727778638294584\n",
      "Decision Tree\n",
      "Average score: 0.6071835695149712\n",
      "Random Forest\n",
      "Average score: 0.9054361346289757\n",
      "AdaBoost\n",
      "Average score: 0.678138891643851\n",
      "Naive Bayes\n",
      "Average score: 0.8050006989952726\n"
     ]
    }
   ],
   "source": [
    "# Сравнивать лучше с использованием KFold кросс валидации, \n",
    "# также вопрос, подходит ли метрика по умолчанию (default = accuracy)\n",
    "\n",
    "for classifier,name in zip(classifiers,names):\n",
    "    print(name)\n",
    "    scores = cross_val_score(classifier, X, Y, cv=5,scoring='f1_macro')\n",
    "    #print (scores)\n",
    "    #print((np.ones_like(scores) - scores) * 100 )\n",
    "    print(f'Average score: {scores.mean()}') # Также среднее значение для сравнения"
   ]
  },
  {
   "cell_type": "code",
   "execution_count": null,
   "metadata": {},
   "outputs": [],
   "source": []
  },
  {
   "cell_type": "code",
   "execution_count": 7,
   "metadata": {
    "ExecuteTime": {
     "end_time": "2019-12-03T19:34:29.635331Z",
     "start_time": "2019-12-03T19:34:29.409318Z"
    }
   },
   "outputs": [
    {
     "data": {
      "text/plain": [
       "0.9666960394870449"
      ]
     },
     "execution_count": 7,
     "metadata": {},
     "output_type": "execute_result"
    }
   ],
   "source": [
    "from sklearn.preprocessing import MinMaxScaler\n",
    "from sklearn.pipeline import make_pipeline\n",
    "\n",
    "p = make_pipeline(\n",
    "    MinMaxScaler(),\n",
    "    KNeighborsClassifier(n_neighbors=3, weights='distance', p=2),\n",
    ")\n",
    "\n",
    "cross_val_score(p, X, Y, cv=5).mean()"
   ]
  },
  {
   "cell_type": "markdown",
   "metadata": {},
   "source": [
    "## KNN\n",
    "\n",
    "[Описание](https://towardsdatascience.com/k-nearest-neighbors-its-purpose-and-how-to-use-it-36fa927acc64)\n",
    "[Влияние параметров](https://medium.com/@mohtedibf/in-depth-parameter-tuning-for-knn-4c0de485baf6)\n",
    "[Документация](https://scikit-learn.org/stable/modules/generated/sklearn.neighbors.KNeighborsClassifier.html)\n",
    "\n",
    "Основные параметры: n_neighbors, weights, p\n",
    "\n",
    "Основные фишки: \n",
    "- Lazy - нет фиттинга\n",
    "- Долго работает на больших размерностях"
   ]
  },
  {
   "cell_type": "markdown",
   "metadata": {
    "ExecuteTime": {
     "end_time": "2019-12-03T19:33:39.025437Z",
     "start_time": "2019-12-03T19:33:39.021436Z"
    }
   },
   "source": [
    "## SVC\n",
    "\n",
    "[Описание](https://medium.com/all-things-ai/in-depth-parameter-tuning-for-svc-758215394769)\n",
    "[Плюсы/минусы](https://www.datacamp.com/community/tutorials/svm-classification-scikit-learn-python#prosandcons)\n",
    "[Документация](https://scikit-learn.org/stable/modules/generated/sklearn.svm.SVC.html)\n",
    "\n",
    "Основные параметры: kernel, C, gamma\n",
    "\n",
    "Основные фишки: \n",
    "- Многоклассовая через one-vs-one \n",
    "- Работает быстро и неплохо\n",
    "- Не очень, если классы пересекаются"
   ]
  },
  {
   "cell_type": "markdown",
   "metadata": {},
   "source": [
    "## DecisionTreeClassifier\n",
    "\n",
    "[Описание](https://medium.com/@sagar.rawale3/understanding-decision-tree-algorithm-drawbacks-and-advantages-4486efa6b8c3)\n",
    "[Плюсы/минусы](https://medium.com/@dhiraj8899/top-5-advantages-and-disadvantages-of-decision-tree-algorithm-428ebd199d9a)\n",
    "[Параметры](https://medium.com/@mohtedibf/indepth-parameter-tuning-for-decision-tree-6753118a03c3)\n",
    "[Документация](https://scikit-learn.org/stable/modules/generated/sklearn.tree.DecisionTreeClassifier.html)\n",
    "\n",
    "Основные фишки: \n",
    "- Не нужен препроцессинг\n",
    "- Работает быстро\n",
    "- Чувствителен к выбросам"
   ]
  },
  {
   "cell_type": "markdown",
   "metadata": {},
   "source": [
    "## RandomForestClassifier\n",
    "\n",
    "[Описание](https://www.datacamp.com/community/tutorials/random-forests-classifier-python)\n",
    "[Плюсы/минусы](https://www.quora.com/What-are-the-advantages-and-disadvantages-for-a-random-forest-algorithm)\n",
    "[Плюсы/минусы2](https://towardsdatascience.com/why-random-forest-is-my-favorite-machine-learning-model-b97651fa3706)\n",
    "[Параметры](https://medium.com/@taplapinger/tuning-a-random-forest-classifier-1b252d1dde92)\n",
    "[Документация](https://scikit-learn.org/stable/modules/generated/sklearn.ensemble.RandomForestClassifier.html)\n",
    "\n",
    "Основные фишки: \n",
    "- Это ансамбль - беггинг - усредняем значения по многим деревьям\n",
    "- Работает на больших размерностях\n",
    "- Быстро переобучается\n",
    "- Занимает много памяти"
   ]
  },
  {
   "cell_type": "markdown",
   "metadata": {},
   "source": [
    "## AdaBoostClassifier\n",
    "\n",
    "[Описание](https://www.datacamp.com/community/tutorials/adaboost-classifier-python)\n",
    "[Плюсы/минусы](https://www.nickgillian.com/wiki/pmwiki.php/GRT/AdaBoost)\n",
    "[Параметры](https://chrisalbon.com/machine_learning/trees_and_forests/adaboost_classifier/)\n",
    "[Документация](https://scikit-learn.org/stable/modules/generated/sklearn.ensemble.AdaBoostClassifier.html)\n",
    "\n",
    "Основные фишки: \n",
    "- Это ансамбль - бустинг - деревья корректируют ошибки друг друга\n",
    "- Хорошо работает\n",
    "- Чувствителен к шуму и выбросам\n"
   ]
  },
  {
   "cell_type": "markdown",
   "metadata": {},
   "source": [
    "## GaussianNB\n",
    "\n",
    "[Описание](https://www.datacamp.com/community/tutorials/naive-bayes-scikit-learn)\n",
    "[Плюсы/минусы](https://www.educba.com/naive-bayes-algorithm/)\n",
    "[Документация](https://scikit-learn.org/stable/modules/generated/sklearn.naive_bayes.GaussianNB.html)\n",
    "\n",
    "Основные фишки: \n",
    "- Быстрый и точный\n",
    "- Работает на больших датасетах\n",
    "- Предполагает независимость признаков, хотя это не так в данной задаче очевидно\n"
   ]
  },
  {
   "cell_type": "markdown",
   "metadata": {},
   "source": [
    "## MLPClassifier\n",
    "\n",
    "[Описание](https://sdsawtelle.github.io/blog/output/week4-andrew-ng-machine-learning-with-python.html)\n",
    "[Еще описание](https://analyticsindiamag.com/a-beginners-guide-to-scikit-learns-mlpclassifier/)\n",
    "[Плюсы/минусы](https://www.deeplearningtrack.com/single-post/2017/07/09/Introduction-to-NEURAL-NETWORKS-Advantages-and-Applications)\n",
    "[Документация](https://scikit-learn.org/stable/modules/generated/sklearn.neural_network.MLPClassifier.html)\n",
    "\n",
    "Основные фишки: \n",
    "- По сути распознает шаблоны в сочетании данных (хорошо работает в распознавании изображений и т.п.)\n",
    "- Сложно в понимании работы и интерпретируемости\n",
    "- Долго обучается\n",
    "- Нужно работать с предобработкой данных\n",
    "- Нужно тщательно подбирать параметры\n"
   ]
  }
 ],
 "metadata": {
  "kernelspec": {
   "display_name": "Python 3",
   "language": "python",
   "name": "python3"
  },
  "language_info": {
   "codemirror_mode": {
    "name": "ipython",
    "version": 3
   },
   "file_extension": ".py",
   "mimetype": "text/x-python",
   "name": "python",
   "nbconvert_exporter": "python",
   "pygments_lexer": "ipython3",
   "version": "3.7.4"
  },
  "varInspector": {
   "cols": {
    "lenName": 16,
    "lenType": 16,
    "lenVar": 40
   },
   "kernels_config": {
    "python": {
     "delete_cmd_postfix": "",
     "delete_cmd_prefix": "del ",
     "library": "var_list.py",
     "varRefreshCmd": "print(var_dic_list())"
    },
    "r": {
     "delete_cmd_postfix": ") ",
     "delete_cmd_prefix": "rm(",
     "library": "var_list.r",
     "varRefreshCmd": "cat(var_dic_list()) "
    }
   },
   "types_to_exclude": [
    "module",
    "function",
    "builtin_function_or_method",
    "instance",
    "_Feature"
   ],
   "window_display": false
  }
 },
 "nbformat": 4,
 "nbformat_minor": 2
}
