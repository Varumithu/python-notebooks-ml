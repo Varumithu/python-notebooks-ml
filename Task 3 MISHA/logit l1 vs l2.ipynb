{
 "cells": [
  {
   "cell_type": "markdown",
   "metadata": {},
   "source": [
    "#### comparing l1 regularized logit versus l2 "
   ]
  },
  {
   "cell_type": "code",
   "execution_count": 1,
   "metadata": {},
   "outputs": [],
   "source": [
    "import numpy as np\n",
    "import matplotlib.pyplot as plt\n",
    "import pandas as pd\n",
    "from sklearn import linear_model\n",
    "\n",
    "import sklearn\n",
    "from sklearn.model_selection import train_test_split"
   ]
  },
  {
   "cell_type": "code",
   "execution_count": 2,
   "metadata": {},
   "outputs": [],
   "source": [
    "from sklearn.datasets import fetch_openml\n",
    "\n",
    "X, Y = fetch_openml('mnist_784', version=1, return_X_y=True)"
   ]
  },
  {
   "cell_type": "code",
   "execution_count": 3,
   "metadata": {},
   "outputs": [
    {
     "name": "stdout",
     "output_type": "stream",
     "text": [
      "35000 35000 35000\n",
      "784\n"
     ]
    }
   ],
   "source": [
    "X_train, X_test, Y_train, Y_test = train_test_split(X, Y, test_size=0.5)\n",
    "print(len(X_train), len(Y_train), len(X_test))\n",
    "print(len(X_train[0]))"
   ]
  },
  {
   "cell_type": "code",
   "execution_count": 4,
   "metadata": {},
   "outputs": [
    {
     "name": "stdout",
     "output_type": "stream",
     "text": [
      "1.0\n",
      "0.8335714285714285\n",
      "0.8283142857142857\n"
     ]
    }
   ],
   "source": [
    "logit = sklearn.linear_model.LogisticRegression(penalty='l1', dual=False, tol=0.0001, C=1000.0, fit_intercept=True, \n",
    "                                                intercept_scaling=1, class_weight=None, random_state=1998, \n",
    "                                                solver='liblinear', max_iter=100, multi_class='auto', \n",
    "                                                verbose=0, warm_start=False, n_jobs=None, l1_ratio=None)\n",
    "logit.fit(X_train[:1000], Y_train[:1000])\n",
    "print(logit.score(X_train[0:1000], Y_train[0:1000]))\n",
    "print(logit.score(X_train, Y_train))\n",
    "print(logit.score(X_test, Y_test))"
   ]
  },
  {
   "cell_type": "code",
   "execution_count": 5,
   "metadata": {},
   "outputs": [
    {
     "name": "stdout",
     "output_type": "stream",
     "text": [
      "1.0\n",
      "0.8372\n",
      "0.8267142857142857\n"
     ]
    }
   ],
   "source": [
    "logit = sklearn.linear_model.LogisticRegression(penalty='l2', dual=False, tol=0.0001, C=1000.0, fit_intercept=True, \n",
    "                                                intercept_scaling=1, class_weight=None, random_state=1998, \n",
    "                                                solver='liblinear', max_iter=100, multi_class='auto', \n",
    "                                                verbose=0, warm_start=False, n_jobs=None, l1_ratio=None)\n",
    "logit.fit(X_train[:1000], Y_train[:1000])\n",
    "print(logit.score(X_train[0:1000], Y_train[0:1000]))\n",
    "print(logit.score(X_train, Y_train))\n",
    "print(logit.score(X_test, Y_test))"
   ]
  },
  {
   "cell_type": "code",
   "execution_count": 6,
   "metadata": {},
   "outputs": [
    {
     "data": {
      "text/html": [
       "<div>\n",
       "<style scoped>\n",
       "    .dataframe tbody tr th:only-of-type {\n",
       "        vertical-align: middle;\n",
       "    }\n",
       "\n",
       "    .dataframe tbody tr th {\n",
       "        vertical-align: top;\n",
       "    }\n",
       "\n",
       "    .dataframe thead th {\n",
       "        text-align: right;\n",
       "    }\n",
       "</style>\n",
       "<table border=\"1\" class=\"dataframe\">\n",
       "  <thead>\n",
       "    <tr style=\"text-align: right;\">\n",
       "      <th></th>\n",
       "      <th>mean_fit_time</th>\n",
       "      <th>std_fit_time</th>\n",
       "      <th>mean_score_time</th>\n",
       "      <th>std_score_time</th>\n",
       "      <th>param_C</th>\n",
       "      <th>param_penalty</th>\n",
       "      <th>param_solver</th>\n",
       "      <th>params</th>\n",
       "      <th>split0_test_score</th>\n",
       "      <th>split1_test_score</th>\n",
       "      <th>split2_test_score</th>\n",
       "      <th>split3_test_score</th>\n",
       "      <th>split4_test_score</th>\n",
       "      <th>mean_test_score</th>\n",
       "      <th>std_test_score</th>\n",
       "      <th>rank_test_score</th>\n",
       "    </tr>\n",
       "  </thead>\n",
       "  <tbody>\n",
       "    <tr>\n",
       "      <th>0</th>\n",
       "      <td>0.067643</td>\n",
       "      <td>0.004648</td>\n",
       "      <td>0.000593</td>\n",
       "      <td>0.000484</td>\n",
       "      <td>0.0006</td>\n",
       "      <td>l1</td>\n",
       "      <td>liblinear</td>\n",
       "      <td>{'C': 0.0006, 'penalty': 'l1', 'solver': 'libl...</td>\n",
       "      <td>0.805</td>\n",
       "      <td>0.800</td>\n",
       "      <td>0.790</td>\n",
       "      <td>0.805</td>\n",
       "      <td>0.765</td>\n",
       "      <td>0.793</td>\n",
       "      <td>0.015033</td>\n",
       "      <td>1</td>\n",
       "    </tr>\n",
       "    <tr>\n",
       "      <th>1</th>\n",
       "      <td>0.060640</td>\n",
       "      <td>0.001327</td>\n",
       "      <td>0.000598</td>\n",
       "      <td>0.000489</td>\n",
       "      <td>0.0005</td>\n",
       "      <td>l1</td>\n",
       "      <td>liblinear</td>\n",
       "      <td>{'C': 0.0005, 'penalty': 'l1', 'solver': 'libl...</td>\n",
       "      <td>0.795</td>\n",
       "      <td>0.805</td>\n",
       "      <td>0.780</td>\n",
       "      <td>0.790</td>\n",
       "      <td>0.770</td>\n",
       "      <td>0.788</td>\n",
       "      <td>0.012083</td>\n",
       "      <td>2</td>\n",
       "    </tr>\n",
       "    <tr>\n",
       "      <th>2</th>\n",
       "      <td>0.057646</td>\n",
       "      <td>0.004610</td>\n",
       "      <td>0.000399</td>\n",
       "      <td>0.000489</td>\n",
       "      <td>0.0004</td>\n",
       "      <td>l1</td>\n",
       "      <td>liblinear</td>\n",
       "      <td>{'C': 0.0004, 'penalty': 'l1', 'solver': 'libl...</td>\n",
       "      <td>0.770</td>\n",
       "      <td>0.760</td>\n",
       "      <td>0.745</td>\n",
       "      <td>0.775</td>\n",
       "      <td>0.765</td>\n",
       "      <td>0.763</td>\n",
       "      <td>0.010296</td>\n",
       "      <td>3</td>\n",
       "    </tr>\n",
       "  </tbody>\n",
       "</table>\n",
       "</div>"
      ],
      "text/plain": [
       "   mean_fit_time  std_fit_time  mean_score_time  std_score_time param_C  \\\n",
       "0       0.067643      0.004648         0.000593        0.000484  0.0006   \n",
       "1       0.060640      0.001327         0.000598        0.000489  0.0005   \n",
       "2       0.057646      0.004610         0.000399        0.000489  0.0004   \n",
       "\n",
       "  param_penalty param_solver  \\\n",
       "0            l1    liblinear   \n",
       "1            l1    liblinear   \n",
       "2            l1    liblinear   \n",
       "\n",
       "                                              params  split0_test_score  \\\n",
       "0  {'C': 0.0006, 'penalty': 'l1', 'solver': 'libl...              0.805   \n",
       "1  {'C': 0.0005, 'penalty': 'l1', 'solver': 'libl...              0.795   \n",
       "2  {'C': 0.0004, 'penalty': 'l1', 'solver': 'libl...              0.770   \n",
       "\n",
       "   split1_test_score  split2_test_score  split3_test_score  split4_test_score  \\\n",
       "0              0.800              0.790              0.805              0.765   \n",
       "1              0.805              0.780              0.790              0.770   \n",
       "2              0.760              0.745              0.775              0.765   \n",
       "\n",
       "   mean_test_score  std_test_score  rank_test_score  \n",
       "0            0.793        0.015033                1  \n",
       "1            0.788        0.012083                2  \n",
       "2            0.763        0.010296                3  "
      ]
     },
     "metadata": {},
     "output_type": "display_data"
    },
    {
     "name": "stdout",
     "output_type": "stream",
     "text": [
      "0.859\n",
      "0.8220571428571428\n",
      "0.8169142857142857\n"
     ]
    }
   ],
   "source": [
    "logit = sklearn.linear_model.LogisticRegression(penalty='l2', dual=False, tol=0.0001, C=1.0, fit_intercept=True, \n",
    "                                                intercept_scaling=1, class_weight=None, random_state=1998, \n",
    "                                                solver='lbfgs', max_iter=100, multi_class='auto', \n",
    "                                                verbose=0, warm_start=False, n_jobs=None, l1_ratio=None)\n",
    "params = {\n",
    "            'solver': ['liblinear'],\n",
    "            'penalty': ['l1'],\n",
    "            'C': [6e-4, 5e-4, 4e-4]\n",
    "         }\n",
    "l1_logregcv = sklearn.model_selection.GridSearchCV(logit, params, scoring=None, n_jobs=None, \n",
    "                                                iid='deprecated', refit=True, cv=None, verbose=0, \n",
    "                                                pre_dispatch='2*n_jobs', return_train_score=False)\n",
    "\n",
    "l1_logregcv.fit(X_train[:1000], Y_train[:1000])\n",
    "display(pd.DataFrame(l1_logregcv.cv_results_).sort_values('rank_test_score').head())\n",
    "print(l1_logregcv.score(X_train[0:1000], Y_train[0:1000]))\n",
    "print(l1_logregcv.score(X_train, Y_train))\n",
    "print(l1_logregcv.score(X_test, Y_test))"
   ]
  },
  {
   "cell_type": "code",
   "execution_count": 7,
   "metadata": {},
   "outputs": [
    {
     "data": {
      "text/html": [
       "<div>\n",
       "<style scoped>\n",
       "    .dataframe tbody tr th:only-of-type {\n",
       "        vertical-align: middle;\n",
       "    }\n",
       "\n",
       "    .dataframe tbody tr th {\n",
       "        vertical-align: top;\n",
       "    }\n",
       "\n",
       "    .dataframe thead th {\n",
       "        text-align: right;\n",
       "    }\n",
       "</style>\n",
       "<table border=\"1\" class=\"dataframe\">\n",
       "  <thead>\n",
       "    <tr style=\"text-align: right;\">\n",
       "      <th></th>\n",
       "      <th>mean_fit_time</th>\n",
       "      <th>std_fit_time</th>\n",
       "      <th>mean_score_time</th>\n",
       "      <th>std_score_time</th>\n",
       "      <th>param_C</th>\n",
       "      <th>param_penalty</th>\n",
       "      <th>param_solver</th>\n",
       "      <th>params</th>\n",
       "      <th>split0_test_score</th>\n",
       "      <th>split1_test_score</th>\n",
       "      <th>split2_test_score</th>\n",
       "      <th>split3_test_score</th>\n",
       "      <th>split4_test_score</th>\n",
       "      <th>mean_test_score</th>\n",
       "      <th>std_test_score</th>\n",
       "      <th>rank_test_score</th>\n",
       "    </tr>\n",
       "  </thead>\n",
       "  <tbody>\n",
       "    <tr>\n",
       "      <th>1</th>\n",
       "      <td>0.060741</td>\n",
       "      <td>0.003600</td>\n",
       "      <td>0.000796</td>\n",
       "      <td>0.000398</td>\n",
       "      <td>1e-07</td>\n",
       "      <td>l2</td>\n",
       "      <td>liblinear</td>\n",
       "      <td>{'C': 1e-07, 'penalty': 'l2', 'solver': 'libli...</td>\n",
       "      <td>0.800</td>\n",
       "      <td>0.82</td>\n",
       "      <td>0.790</td>\n",
       "      <td>0.820</td>\n",
       "      <td>0.78</td>\n",
       "      <td>0.802</td>\n",
       "      <td>0.016000</td>\n",
       "      <td>1</td>\n",
       "    </tr>\n",
       "    <tr>\n",
       "      <th>0</th>\n",
       "      <td>0.050982</td>\n",
       "      <td>0.002215</td>\n",
       "      <td>0.000598</td>\n",
       "      <td>0.000489</td>\n",
       "      <td>5e-08</td>\n",
       "      <td>l2</td>\n",
       "      <td>liblinear</td>\n",
       "      <td>{'C': 5e-08, 'penalty': 'l2', 'solver': 'libli...</td>\n",
       "      <td>0.785</td>\n",
       "      <td>0.79</td>\n",
       "      <td>0.775</td>\n",
       "      <td>0.805</td>\n",
       "      <td>0.79</td>\n",
       "      <td>0.789</td>\n",
       "      <td>0.009695</td>\n",
       "      <td>2</td>\n",
       "    </tr>\n",
       "  </tbody>\n",
       "</table>\n",
       "</div>"
      ],
      "text/plain": [
       "   mean_fit_time  std_fit_time  mean_score_time  std_score_time param_C  \\\n",
       "1       0.060741      0.003600         0.000796        0.000398   1e-07   \n",
       "0       0.050982      0.002215         0.000598        0.000489   5e-08   \n",
       "\n",
       "  param_penalty param_solver  \\\n",
       "1            l2    liblinear   \n",
       "0            l2    liblinear   \n",
       "\n",
       "                                              params  split0_test_score  \\\n",
       "1  {'C': 1e-07, 'penalty': 'l2', 'solver': 'libli...              0.800   \n",
       "0  {'C': 5e-08, 'penalty': 'l2', 'solver': 'libli...              0.785   \n",
       "\n",
       "   split1_test_score  split2_test_score  split3_test_score  split4_test_score  \\\n",
       "1               0.82              0.790              0.820               0.78   \n",
       "0               0.79              0.775              0.805               0.79   \n",
       "\n",
       "   mean_test_score  std_test_score  rank_test_score  \n",
       "1            0.802        0.016000                1  \n",
       "0            0.789        0.009695                2  "
      ]
     },
     "metadata": {},
     "output_type": "display_data"
    },
    {
     "name": "stdout",
     "output_type": "stream",
     "text": [
      "0.85\n",
      "0.8226\n",
      "0.8192571428571429\n"
     ]
    }
   ],
   "source": [
    "logit = sklearn.linear_model.LogisticRegression(penalty='l2', dual=False, tol=0.0001, C=1.0, fit_intercept=True, \n",
    "                                                intercept_scaling=1, class_weight=None, random_state=1998, \n",
    "                                                solver='lbfgs', max_iter=100, multi_class='auto', \n",
    "                                                verbose=0, warm_start=False, n_jobs=None, l1_ratio=None)\n",
    "params = {\n",
    "            'solver': ['liblinear'],\n",
    "            'penalty': ['l2'],\n",
    "            'C': [ 5e-8, 1e-7]\n",
    "         }\n",
    "l2_logregcv = sklearn.model_selection.GridSearchCV(logit, params, scoring=None, n_jobs=None, \n",
    "                                                iid='deprecated', refit=True, cv=None, verbose=0, \n",
    "                                                pre_dispatch='2*n_jobs', return_train_score=False)\n",
    "\n",
    "l2_logregcv.fit(X_train[:1000], Y_train[:1000])\n",
    "display(pd.DataFrame(l2_logregcv.cv_results_).sort_values('rank_test_score').head())\n",
    "print(l2_logregcv.score(X_train[0:1000], Y_train[0:1000]))\n",
    "print(l2_logregcv.score(X_train, Y_train))\n",
    "print(l2_logregcv.score(X_test, Y_test))"
   ]
  },
  {
   "cell_type": "code",
   "execution_count": 8,
   "metadata": {},
   "outputs": [],
   "source": [
    "pd.options.display.max_columns = None\n",
    "pd.options.display.max_colwidth = 5000\n",
    "import IPython"
   ]
  },
  {
   "cell_type": "code",
   "execution_count": 9,
   "metadata": {},
   "outputs": [
    {
     "data": {
      "text/plain": [
       "<10x784 sparse matrix of type '<class 'numpy.float64'>'\n",
       "\twith 411 stored elements in Compressed Sparse Row format>"
      ]
     },
     "metadata": {},
     "output_type": "display_data"
    },
    {
     "name": "stdout",
     "output_type": "stream",
     "text": [
      "  (0, 185)\t0.000658796465853251\n",
      "  (0, 186)\t0.0001551847697164881\n",
      "  (0, 212)\t0.0002954378144834856\n",
      "  (0, 232)\t-0.0003115864280457127\n",
      "  (0, 351)\t-0.006399846471635558\n",
      "  (0, 353)\t-0.0010181112817155397\n",
      "  (0, 378)\t-0.0010024326205309306\n",
      "  (0, 379)\t-0.0017174052823570292\n",
      "  (0, 381)\t-0.00044408501053056393\n",
      "  (0, 386)\t0.00230102262927637\n",
      "  (0, 406)\t-0.0037793024305718416\n",
      "  (0, 408)\t-0.0010337584981581637\n",
      "  (0, 409)\t-0.00347223216864\n",
      "  (0, 434)\t-0.003068792323544469\n",
      "  (0, 436)\t-0.0026535225925181346\n",
      "  (0, 455)\t0.0009612894549161664\n",
      "  (0, 461)\t-0.001243958799584456\n",
      "  (0, 462)\t-0.00043714714494715897\n",
      "  (0, 464)\t-0.0033429268002897325\n",
      "  (0, 482)\t0.0006158399107614884\n",
      "  (0, 488)\t-8.480477619023793e-05\n",
      "  (0, 489)\t-0.0008099377429920558\n",
      "  (0, 490)\t-0.005871950060686973\n",
      "  (0, 491)\t-0.0012952356821026535\n",
      "  (0, 512)\t0.001667626848926752\n",
      "  :\t:\n",
      "  (9, 354)\t0.0011916009850971845\n",
      "  (9, 381)\t0.0009850104974022313\n",
      "  (9, 429)\t0.0008396181023440317\n",
      "  (9, 462)\t-0.0009351515700067087\n",
      "  (9, 467)\t-0.001325826376536821\n",
      "  (9, 490)\t-0.0004306739790056815\n",
      "  (9, 495)\t-0.002283516359539769\n",
      "  (9, 511)\t-0.000202473429646138\n",
      "  (9, 517)\t-0.00023939793195671433\n",
      "  (9, 544)\t-0.00013179241766342117\n",
      "  (9, 547)\t-0.00023709543119595553\n",
      "  (9, 549)\t-0.000540322278764403\n",
      "  (9, 550)\t-0.0005179346869823284\n",
      "  (9, 568)\t-1.9673789630593487e-06\n",
      "  (9, 569)\t-0.0016737358744353403\n",
      "  (9, 570)\t-0.00356402768787599\n",
      "  (9, 571)\t-0.0005332149105861184\n",
      "  (9, 572)\t-0.003095680959886172\n",
      "  (9, 574)\t-0.0011136159938387065\n",
      "  (9, 602)\t-0.0017397453677585315\n",
      "  (9, 603)\t-0.0005008177595992387\n",
      "  (9, 626)\t-0.002657119269406843\n",
      "  (9, 629)\t-0.0009742959161956757\n",
      "  (9, 656)\t-0.00014215346389496062\n",
      "  (9, 657)\t-0.0008815657580171129\n"
     ]
    }
   ],
   "source": [
    "chosen_l1 = l1_logregcv.best_estimator_\n",
    "chosen_l2 = l2_logregcv.best_estimator_\n",
    "chosen_l1.sparsify()\n",
    "chosen_l2.sparsify()\n",
    "display(chosen_l1.coef_)\n",
    "print(chosen_l1.coef_)"
   ]
  },
  {
   "cell_type": "code",
   "execution_count": 79,
   "metadata": {},
   "outputs": [
    {
     "data": {
      "text/plain": [
       "<10x784 sparse matrix of type '<class 'numpy.float64'>'\n",
       "\twith 6120 stored elements in Compressed Sparse Row format>"
      ]
     },
     "metadata": {},
     "output_type": "display_data"
    },
    {
     "name": "stdout",
     "output_type": "stream",
     "text": [
      "  (0, 40)\t-8.28305795923897e-07\n",
      "  (0, 41)\t-2.911155696215536e-06\n",
      "  (0, 42)\t-2.212994928054117e-06\n",
      "  (0, 61)\t-3.246283965760574e-07\n",
      "  (0, 62)\t-4.87734140338925e-07\n",
      "  (0, 63)\t-4.044933123302012e-07\n",
      "  (0, 64)\t-6.657181409427136e-07\n",
      "  (0, 66)\t-6.186081171335494e-07\n",
      "  (0, 67)\t-9.548989361500087e-06\n",
      "  (0, 68)\t-1.2704693749322872e-05\n",
      "  (0, 69)\t-6.294560530328271e-06\n",
      "  (0, 70)\t-2.3122815831768498e-05\n",
      "  (0, 71)\t-4.493123649307927e-05\n",
      "  (0, 72)\t-3.97119565118787e-05\n",
      "  (0, 73)\t-1.7912209891735256e-05\n",
      "  (0, 74)\t-1.6586769701371084e-05\n",
      "  (0, 75)\t-7.786550836087714e-06\n",
      "  (0, 76)\t-3.1712021388764506e-06\n",
      "  (0, 77)\t-5.710777864374245e-06\n",
      "  (0, 78)\t-9.506466701610341e-06\n",
      "  (0, 79)\t-6.624130156065581e-06\n",
      "  (0, 80)\t-4.081217631699173e-07\n",
      "  (0, 89)\t-3.279561013991467e-07\n",
      "  (0, 90)\t-7.249216971464635e-07\n",
      "  (0, 91)\t-1.0946206031200626e-06\n",
      "  :\t:\n",
      "  (9, 736)\t-1.2908286073690906e-05\n",
      "  (9, 737)\t2.035235528416246e-06\n",
      "  (9, 738)\t4.5749676504326406e-05\n",
      "  (9, 739)\t3.057374242897491e-05\n",
      "  (9, 740)\t9.873628512850926e-06\n",
      "  (9, 741)\t4.854911294639005e-05\n",
      "  (9, 742)\t3.2704074623536e-05\n",
      "  (9, 743)\t2.694178960977379e-05\n",
      "  (9, 744)\t6.236489767806087e-05\n",
      "  (9, 745)\t7.658212626940622e-05\n",
      "  (9, 746)\t2.887833104004574e-05\n",
      "  (9, 747)\t4.595368997006391e-05\n",
      "  (9, 748)\t5.072876501358577e-05\n",
      "  (9, 749)\t1.7106560681871975e-05\n",
      "  (9, 750)\t1.8675367936924472e-06\n",
      "  (9, 765)\t-1.515985323655234e-07\n",
      "  (9, 766)\t-2.472222220114689e-06\n",
      "  (9, 767)\t-2.5888364757804764e-06\n",
      "  (9, 768)\t-2.484371592328841e-06\n",
      "  (9, 769)\t1.347718596434767e-05\n",
      "  (9, 770)\t1.1692856295406287e-05\n",
      "  (9, 771)\t-3.862074851764132e-06\n",
      "  (9, 772)\t-7.992621277224347e-06\n",
      "  (9, 773)\t-4.361805999520041e-06\n",
      "  (9, 774)\t-1.6443316268031897e-06\n"
     ]
    }
   ],
   "source": [
    "display(chosen_l2.coef_) #need display to show the dataframe when using with in jupyter\n",
    "\n",
    "print(chosen_l2.coef_)\n"
   ]
  },
  {
   "cell_type": "code",
   "execution_count": null,
   "metadata": {},
   "outputs": [],
   "source": []
  }
 ],
 "metadata": {
  "kernelspec": {
   "display_name": "Python 3",
   "language": "python",
   "name": "python3"
  },
  "language_info": {
   "codemirror_mode": {
    "name": "ipython",
    "version": 3
   },
   "file_extension": ".py",
   "mimetype": "text/x-python",
   "name": "python",
   "nbconvert_exporter": "python",
   "pygments_lexer": "ipython3",
   "version": "3.7.3"
  }
 },
 "nbformat": 4,
 "nbformat_minor": 2
}
