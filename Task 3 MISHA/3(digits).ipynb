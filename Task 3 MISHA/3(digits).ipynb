{
 "cells": [
  {
   "cell_type": "code",
   "execution_count": 2,
   "metadata": {},
   "outputs": [],
   "source": [
    "import numpy as np\n",
    "import matplotlib.pyplot as plt\n",
    "from matplotlib.colors import ListedColormap\n",
    "from sklearn.model_selection import train_test_split\n",
    "from sklearn.preprocessing import StandardScaler\n",
    "from sklearn.datasets import make_moons, make_circles, make_classification\n",
    "from sklearn.neural_network import MLPClassifier\n",
    "from sklearn.neighbors import KNeighborsClassifier\n",
    "from sklearn.svm import SVC\n",
    "from sklearn.gaussian_process import GaussianProcessClassifier\n",
    "from sklearn.gaussian_process.kernels import RBF\n",
    "from sklearn.tree import DecisionTreeClassifier\n",
    "from sklearn.ensemble import RandomForestClassifier, AdaBoostClassifier\n",
    "from sklearn.naive_bayes import GaussianNB\n",
    "from sklearn.discriminant_analysis import QuadraticDiscriminantAnalysis\n",
    "from sklearn.datasets import fetch_openml\n",
    "from sklearn.datasets import load_digits\n",
    "\n",
    "from sklearn.model_selection import cross_val_score\n",
    "\n",
    "import sklearn"
   ]
  },
  {
   "cell_type": "code",
   "execution_count": 3,
   "metadata": {},
   "outputs": [],
   "source": [
    "data = load_digits()\n",
    "X, Y = data.data, data.target"
   ]
  },
  {
   "cell_type": "code",
   "execution_count": 4,
   "metadata": {},
   "outputs": [
    {
     "name": "stdout",
     "output_type": "stream",
     "text": [
      "1797\n",
      "64\n",
      "1797\n"
     ]
    }
   ],
   "source": [
    "print(len(X))\n",
    "print(len(X[0]))\n",
    "print(len(Y))"
   ]
  },
  {
   "cell_type": "code",
   "execution_count": 5,
   "metadata": {},
   "outputs": [],
   "source": [
    "classifiers = [\n",
    "    KNeighborsClassifier(3),\n",
    "    SVC(kernel=\"linear\", C=0.025),\n",
    "    SVC(gamma=2, C=1),\n",
    "    DecisionTreeClassifier(max_depth=5),\n",
    "    RandomForestClassifier(max_depth=5, n_estimators=10, max_features=1),\n",
    "    AdaBoostClassifier(),\n",
    "    GaussianNB()]\n",
    "names = [\"Nearest Neighbors\", \"Linear SVM\", \"RBF SVM\", \n",
    "         \"Decision Tree\", \"Random Forest\", \"AdaBoost\",\n",
    "         \"Naive Bayes\"]\n"
   ]
  },
  {
   "cell_type": "code",
   "execution_count": 8,
   "metadata": {},
   "outputs": [],
   "source": [
    "#X_train, X_test, y_train, y_test = train_test_split(X, Y, test_size=.4, random_state=42)\n",
    "classifiers[0].score()"
   ]
  },
  {
   "cell_type": "code",
   "execution_count": 10,
   "metadata": {},
   "outputs": [
    {
     "name": "stdout",
     "output_type": "stream",
     "text": [
      "Nearest Neighbors\n",
      "0.9661143537042125\n",
      "0.033885646295787386\n",
      "Linear SVM\n",
      "0.9493348726211526\n",
      "0.05066512737884752\n",
      "RBF SVM\n",
      "0.11186208517135927\n",
      "0.8881379148286406\n",
      "Decision Tree\n",
      "0.6208053476229888\n",
      "0.3791946523770112\n",
      "Random Forest\n",
      "0.8013120518206422\n",
      "0.19868794817935778\n",
      "AdaBoost\n",
      "0.2675754050636459\n",
      "0.732424594936354\n",
      "Naive Bayes\n",
      "0.8065207555552298\n",
      "0.19347924444477008\n"
     ]
    }
   ],
   "source": [
    "for classifier,name in zip(classifiers,names):\n",
    "    print(name)\n",
    "    scores = cross_val_score(classifier, X, Y, cv=5)\n",
    "    print (sum(scores)/len(scores))\n",
    "    print(sum((np.ones_like(scores) - scores) )/len(scores) )"
   ]
  },
  {
   "cell_type": "code",
   "execution_count": 11,
   "metadata": {},
   "outputs": [
    {
     "name": "stdout",
     "output_type": "stream",
     "text": [
      "[0.92307692 0.88121547 0.94986072 0.95798319 0.89295775]\n",
      "[0.79120879 0.7320442  0.80779944 0.84313725 0.7943662 ]\n"
     ]
    }
   ],
   "source": [
    "lr_predictor = sklearn.linear_model.LogisticRegression(penalty='l2', dual=False, tol=0.0001, \n",
    "                                            C=1.0, fit_intercept=True, intercept_scaling=1, \n",
    "                                            class_weight=None, random_state=None, solver='liblinear', \n",
    "                                            max_iter=100, multi_class='ovr', verbose=0, \n",
    "                                            warm_start=False, n_jobs=None)\n",
    "\n",
    "dt_predictor = sklearn.tree.DecisionTreeClassifier(criterion='gini', splitter='best', max_depth=None, \n",
    "                                                   min_samples_split=2, min_samples_leaf=1, min_weight_fraction_leaf=0.0,\n",
    "                                                   max_features=None, random_state=None, max_leaf_nodes=None,\n",
    "                                                   min_impurity_decrease=0.0, min_impurity_split=None, class_weight=None, \n",
    "                                                   )\n",
    "\n",
    "lr_scores = cross_val_score(lr_predictor, X, Y, cv=5)\n",
    "print(lr_scores)\n",
    "dt_scores = cross_val_score(dt_predictor, X, Y, cv=5)\n",
    "print(dt_scores)"
   ]
  },
  {
   "cell_type": "code",
   "execution_count": null,
   "metadata": {},
   "outputs": [],
   "source": []
  }
 ],
 "metadata": {
  "kernelspec": {
   "display_name": "Python 3",
   "language": "python",
   "name": "python3"
  },
  "language_info": {
   "codemirror_mode": {
    "name": "ipython",
    "version": 3
   },
   "file_extension": ".py",
   "mimetype": "text/x-python",
   "name": "python",
   "nbconvert_exporter": "python",
   "pygments_lexer": "ipython3",
   "version": "3.7.3"
  }
 },
 "nbformat": 4,
 "nbformat_minor": 2
}
