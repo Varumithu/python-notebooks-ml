{
 "cells": [
  {
   "cell_type": "code",
   "execution_count": 3,
   "metadata": {},
   "outputs": [],
   "source": [
    "import numpy as np\n",
    "import matplotlib.pyplot as plt\n",
    "import pandas as pd\n",
    "from sklearn import linear_model\n",
    "\n",
    "import sklearn\n",
    "from sklearn.model_selection import train_test_split"
   ]
  },
  {
   "cell_type": "code",
   "execution_count": 4,
   "metadata": {},
   "outputs": [],
   "source": [
    "from sklearn.datasets import fetch_openml\n",
    "\n",
    "X, Y = fetch_openml('mnist_784', version=1, return_X_y=True)"
   ]
  },
  {
   "cell_type": "code",
   "execution_count": 6,
   "metadata": {},
   "outputs": [
    {
     "data": {
      "text/plain": [
       "array([[    5],\n",
       "       [   15],\n",
       "       [   16],\n",
       "       ...,\n",
       "       [69985],\n",
       "       [69990],\n",
       "       [69995]], dtype=int64)"
      ]
     },
     "execution_count": 6,
     "metadata": {},
     "output_type": "execute_result"
    }
   ],
   "source": [
    "ind72 = np.argwhere((Y == '7') | (Y == '2'))\n",
    "ind72"
   ]
  },
  {
   "cell_type": "code",
   "execution_count": 7,
   "metadata": {},
   "outputs": [
    {
     "data": {
      "text/plain": [
       "array([    5,    15,    16, ..., 69985, 69990, 69995], dtype=int64)"
      ]
     },
     "execution_count": 7,
     "metadata": {},
     "output_type": "execute_result"
    }
   ],
   "source": [
    "ind72.reshape(-1)"
   ]
  },
  {
   "cell_type": "code",
   "execution_count": 8,
   "metadata": {},
   "outputs": [
    {
     "data": {
      "text/plain": [
       "784"
      ]
     },
     "execution_count": 8,
     "metadata": {},
     "output_type": "execute_result"
    }
   ],
   "source": [
    "X72 = np.zeros((len(ind72), len(X[0])))\n",
    "Y72 = np.zeros(len(ind72), dtype='object')\n",
    "for i in range(len(ind72)):\n",
    "    X72[i] = X[ind72[i]]\n",
    "    Y72[i] = Y[ind72[i]][0]\n",
    "    \n",
    "len(X72[0])\n"
   ]
  },
  {
   "cell_type": "code",
   "execution_count": 9,
   "metadata": {},
   "outputs": [
    {
     "name": "stdout",
     "output_type": "stream",
     "text": [
      "7141 7141 7142\n",
      "784\n"
     ]
    }
   ],
   "source": [
    "X_train, X_test, Y_train, Y_test = train_test_split(X72, Y72, test_size=0.5, random_state=1998)\n",
    "print(len(X_train), len(Y_train), len(X_test))\n",
    "print(len(X_train[0]))"
   ]
  },
  {
   "cell_type": "code",
   "execution_count": 10,
   "metadata": {},
   "outputs": [
    {
     "data": {
      "text/plain": [
       "'2'"
      ]
     },
     "execution_count": 10,
     "metadata": {},
     "output_type": "execute_result"
    },
    {
     "data": {
      "image/png": "[encoded data removed]",
      "text/plain": [
       "<Figure size 432x288 with 1 Axes>"
      ]
     },
     "metadata": {
      "needs_background": "light"
     },
     "output_type": "display_data"
    }
   ],
   "source": [
    "i = 2\n",
    "plt.imshow(X72[i].reshape([28, 28]))\n",
    "Y72[i]"
   ]
  },
  {
   "cell_type": "markdown",
   "metadata": {},
   "source": [
    "#### logit trained without l1 regularization - mask #1"
   ]
  },
  {
   "cell_type": "code",
   "execution_count": 11,
   "metadata": {},
   "outputs": [
    {
     "name": "stderr",
     "output_type": "stream",
     "text": [
      "d:\\utilites\\programming\\anaconda-python\\lib\\site-packages\\sklearn\\linear_model\\_logistic.py:1503: UserWarning: Setting penalty='none' will ignore the C and l1_ratio parameters\n",
      "  \"Setting penalty='none' will ignore the C and l1_ratio \"\n"
     ]
    },
    {
     "name": "stdout",
     "output_type": "stream",
     "text": [
      "1.0\n",
      "0.9794175301036124\n"
     ]
    }
   ],
   "source": [
    "logit = sklearn.linear_model.LogisticRegression(penalty='none', dual=False, tol=0.0001, C=1000.0, fit_intercept=True, \n",
    "                                                intercept_scaling=1, class_weight=None, random_state=1998, \n",
    "                                                solver='newton-cg', max_iter=100, multi_class='auto', \n",
    "                                                verbose=0, warm_start=False, n_jobs=None, l1_ratio=None)\n",
    "logit.fit(X_train, Y_train)\n",
    "print(logit.score(X_train, Y_train))\n",
    "print(logit.score(X_test, Y_test))"
   ]
  },
  {
   "cell_type": "code",
   "execution_count": 12,
   "metadata": {},
   "outputs": [
    {
     "data": {
      "text/plain": [
       "<1x784 sparse matrix of type '<class 'numpy.float64'>'\n",
       "\twith 661 stored elements in Compressed Sparse Row format>"
      ]
     },
     "metadata": {},
     "output_type": "display_data"
    },
    {
     "name": "stdout",
     "output_type": "stream",
     "text": [
      "  (0, 33)\t-4.086650458196093e-05\n",
      "  (0, 34)\t-0.0002538025021405993\n",
      "  (0, 35)\t-0.00016992823599977462\n",
      "  (0, 36)\t-0.00025067453408156613\n",
      "  (0, 37)\t-0.00015502998274499573\n",
      "  (0, 38)\t-6.428345604048938e-07\n",
      "  (0, 39)\t-1.7608179639069048e-06\n",
      "  (0, 40)\t-8.860275559185518e-07\n",
      "  (0, 41)\t-4.4634630423290167e-07\n",
      "  (0, 42)\t-7.4903226726363955e-06\n",
      "  (0, 43)\t-2.261791607462397e-05\n",
      "  (0, 44)\t-0.001137828520067133\n",
      "  (0, 45)\t-0.00044073772918390593\n",
      "  (0, 46)\t-1.2877375072222117e-07\n",
      "  (0, 61)\t-5.3771716555211736e-05\n",
      "  (0, 62)\t-0.00026199681325189873\n",
      "  (0, 63)\t-0.00015691374803152245\n",
      "  (0, 64)\t-7.965070917013859e-05\n",
      "  (0, 65)\t-0.00040041830023939605\n",
      "  (0, 66)\t-0.0010385529063938977\n",
      "  (0, 67)\t-0.0007570368298380863\n",
      "  (0, 68)\t-0.0004768012446282294\n",
      "  (0, 69)\t-0.0003517914149263093\n",
      "  (0, 70)\t-0.00010541087464834135\n",
      "  (0, 71)\t-6.235621385517582e-05\n",
      "  :\t:\n",
      "  (0, 747)\t0.031401446726662376\n",
      "  (0, 748)\t0.013933400834161612\n",
      "  (0, 749)\t0.018339415882557115\n",
      "  (0, 750)\t0.013837402008542497\n",
      "  (0, 751)\t0.012055490044847447\n",
      "  (0, 760)\t2.7447687915290876e-06\n",
      "  (0, 761)\t1.423415704701638e-05\n",
      "  (0, 762)\t2.3245103714526095e-05\n",
      "  (0, 763)\t0.0057725219537353685\n",
      "  (0, 764)\t0.010463192020950439\n",
      "  (0, 765)\t0.0026348111361707643\n",
      "  (0, 766)\t0.0004827370153002617\n",
      "  (0, 767)\t0.0003110699879964619\n",
      "  (0, 768)\t0.006048073687916403\n",
      "  (0, 769)\t0.0016836020752576662\n",
      "  (0, 770)\t0.000321718650023844\n",
      "  (0, 771)\t0.0007009910518173582\n",
      "  (0, 772)\t0.0004180625227029646\n",
      "  (0, 773)\t0.0085309936363544\n",
      "  (0, 774)\t0.01978782770772042\n",
      "  (0, 775)\t0.00461383609417508\n",
      "  (0, 776)\t0.0006857681030916991\n",
      "  (0, 777)\t0.003248705273489735\n",
      "  (0, 778)\t0.004091650774243919\n",
      "  (0, 779)\t0.00029157997172053556\n"
     ]
    }
   ],
   "source": [
    "logit.sparsify()\n",
    "display(logit.coef_)\n",
    "print(logit.coef_)"
   ]
  },
  {
   "cell_type": "code",
   "execution_count": 13,
   "metadata": {},
   "outputs": [],
   "source": [
    "mask1 = abs(logit.coef_.toarray())[0]"
   ]
  },
  {
   "cell_type": "code",
   "execution_count": 14,
   "metadata": {},
   "outputs": [
    {
     "data": {
      "text/plain": [
       "<matplotlib.image.AxesImage at 0x1a04b99dc18>"
      ]
     },
     "execution_count": 14,
     "metadata": {},
     "output_type": "execute_result"
    },
    {
     "data": {
      "image/png": "[encoded data removed]",
      "text/plain": [
       "<Figure size 432x288 with 1 Axes>"
      ]
     },
     "metadata": {
      "needs_background": "light"
     },
     "output_type": "display_data"
    }
   ],
   "source": [
    "plt.imshow(mask1.reshape(28, 28))"
   ]
  },
  {
   "cell_type": "code",
   "execution_count": 15,
   "metadata": {},
   "outputs": [
    {
     "name": "stdout",
     "output_type": "stream",
     "text": [
      "0.9894972692900154\n",
      "0.983197983758051\n"
     ]
    }
   ],
   "source": [
    "logit = sklearn.linear_model.LogisticRegression(penalty='l1', dual=False, tol=0.0001, C=0.001, fit_intercept=True, \n",
    "                                                intercept_scaling=1, class_weight=None, random_state=1998, \n",
    "                                                solver='liblinear', max_iter=100, multi_class='auto', \n",
    "                                                verbose=0, warm_start=False, n_jobs=None, l1_ratio=None)\n",
    "logit.fit(X_train, Y_train)\n",
    "print(logit.score(X_train, Y_train))\n",
    "print(logit.score(X_test, Y_test))"
   ]
  },
  {
   "cell_type": "code",
   "execution_count": 16,
   "metadata": {},
   "outputs": [
    {
     "data": {
      "text/plain": [
       "<1x784 sparse matrix of type '<class 'numpy.float64'>'\n",
       "\twith 125 stored elements in Compressed Sparse Row format>"
      ]
     },
     "metadata": {},
     "output_type": "display_data"
    },
    {
     "name": "stdout",
     "output_type": "stream",
     "text": [
      "  (0, 124)\t-0.0004609225129709846\n",
      "  (0, 125)\t-0.0011410787012579226\n",
      "  (0, 127)\t-0.0008629466613964504\n",
      "  (0, 151)\t-0.0016326920145319443\n",
      "  (0, 153)\t-0.004730573094733869\n",
      "  (0, 155)\t-0.0016554013652352513\n",
      "  (0, 156)\t-0.004904461944244076\n",
      "  (0, 157)\t-0.0005994127017001093\n",
      "  (0, 158)\t-0.0022206567205281047\n",
      "  (0, 177)\t-0.00031105722373018976\n",
      "  (0, 179)\t-8.109695498368158e-05\n",
      "  (0, 182)\t-0.00025099225681264603\n",
      "  (0, 204)\t-1.9400912458063043e-05\n",
      "  (0, 212)\t5.807698652049483e-05\n",
      "  (0, 213)\t3.500409232297975e-05\n",
      "  (0, 215)\t0.0024336546830459787\n",
      "  (0, 233)\t0.001651706906365168\n",
      "  (0, 236)\t0.0007549115379200832\n",
      "  (0, 240)\t0.0020723769795931092\n",
      "  (0, 241)\t0.0009731748764411786\n",
      "  (0, 242)\t0.00174403639575586\n",
      "  (0, 243)\t8.785900706710383e-05\n",
      "  (0, 244)\t0.00034997345288412056\n",
      "  (0, 261)\t0.0008731711588727942\n",
      "  (0, 264)\t0.0006646807465142527\n",
      "  :\t:\n",
      "  (0, 597)\t-0.004538805624724373\n",
      "  (0, 598)\t-0.0008299261361379271\n",
      "  (0, 599)\t-0.0018720854255912297\n",
      "  (0, 601)\t-0.0003646276890754778\n",
      "  (0, 607)\t-0.0012487674018720654\n",
      "  (0, 610)\t-0.001328763353630481\n",
      "  (0, 628)\t-0.00021385880961585175\n",
      "  (0, 629)\t-0.0011379242751250096\n",
      "  (0, 630)\t-0.001608494279299747\n",
      "  (0, 633)\t-0.001687097374098945\n",
      "  (0, 635)\t-0.0009190360593237844\n",
      "  (0, 636)\t-0.0035417267359368807\n",
      "  (0, 651)\t0.004785847628734808\n",
      "  (0, 663)\t-0.0027190772525593323\n",
      "  (0, 678)\t0.0029574664280791105\n",
      "  (0, 680)\t0.004196718791061561\n",
      "  (0, 681)\t0.0005523358641857846\n",
      "  (0, 682)\t0.000743459521525704\n",
      "  (0, 683)\t0.0026776726777501\n",
      "  (0, 709)\t0.004010490472301234\n",
      "  (0, 710)\t7.93176626373451e-06\n",
      "  (0, 712)\t0.004720150403516808\n",
      "  (0, 713)\t0.001296272622184822\n",
      "  (0, 714)\t0.0018052350854629883\n",
      "  (0, 715)\t0.0018522815680046658\n"
     ]
    }
   ],
   "source": [
    "logit.sparsify()\n",
    "display(logit.coef_)\n",
    "print(logit.coef_)"
   ]
  },
  {
   "cell_type": "code",
   "execution_count": 17,
   "metadata": {},
   "outputs": [],
   "source": [
    "mask2 = abs(logit.coef_.toarray())[0]"
   ]
  },
  {
   "cell_type": "code",
   "execution_count": 138,
   "metadata": {},
   "outputs": [
    {
     "data": {
      "text/plain": [
       "<matplotlib.image.AxesImage at 0x199003320b8>"
      ]
     },
     "execution_count": 138,
     "metadata": {},
     "output_type": "execute_result"
    },
    {
     "data": {
      "image/png": "[encoded data removed]",
      "text/plain": [
       "<Figure size 432x288 with 1 Axes>"
      ]
     },
     "metadata": {
      "needs_background": "light"
     },
     "output_type": "display_data"
    }
   ],
   "source": [
    "plt.imshow(mask2.reshape(28, 28))"
   ]
  },
  {
   "cell_type": "code",
   "execution_count": 18,
   "metadata": {},
   "outputs": [
    {
     "data": {
      "text/plain": [
       "125"
      ]
     },
     "execution_count": 18,
     "metadata": {},
     "output_type": "execute_result"
    }
   ],
   "source": [
    "indm2 = np.array(np.nonzero(mask2))\n",
    "indm2.size"
   ]
  },
  {
   "cell_type": "code",
   "execution_count": 19,
   "metadata": {},
   "outputs": [],
   "source": [
    "small_x_train = np.zeros([len(X_train), indm2.size])\n",
    "for i in range(len(X_train)):\n",
    "    small_x_train[i] = X_train[i][indm2].reshape(-1)\n",
    "    \n",
    "small_x_test = np.zeros([len(X_test), indm2.size])\n",
    "for i in range(len(X_test)):\n",
    "    small_x_test[i] = X_test[i][indm2].reshape(-1)"
   ]
  },
  {
   "cell_type": "code",
   "execution_count": 20,
   "metadata": {},
   "outputs": [
    {
     "name": "stderr",
     "output_type": "stream",
     "text": [
      "d:\\utilites\\programming\\anaconda-python\\lib\\site-packages\\sklearn\\linear_model\\_logistic.py:1503: UserWarning: Setting penalty='none' will ignore the C and l1_ratio parameters\n",
      "  \"Setting penalty='none' will ignore the C and l1_ratio \"\n"
     ]
    },
    {
     "name": "stdout",
     "output_type": "stream",
     "text": [
      "0.9915978154320123\n",
      "0.9784374124894988\n"
     ]
    }
   ],
   "source": [
    "logit = sklearn.linear_model.LogisticRegression(penalty='none', dual=False, tol=0.0001, C=1000.0, fit_intercept=True, \n",
    "                                                intercept_scaling=1, class_weight=None, random_state=1998, \n",
    "                                                solver='newton-cg', max_iter=100, multi_class='auto', \n",
    "                                                verbose=0, warm_start=False, n_jobs=None, l1_ratio=None)\n",
    "logit.fit(small_x_train, Y_train)\n",
    "\n",
    "print(logit.score(small_x_train, Y_train))\n",
    "print(logit.score(small_x_test, Y_test))"
   ]
  },
  {
   "cell_type": "code",
   "execution_count": 21,
   "metadata": {},
   "outputs": [
    {
     "name": "stdout",
     "output_type": "stream",
     "text": [
      "0.989357232880549\n",
      "0.9827779333520023\n"
     ]
    }
   ],
   "source": [
    "logit = sklearn.linear_model.LogisticRegression(penalty='l1', dual=False, tol=0.0001, C=0.001, fit_intercept=True, \n",
    "                                                intercept_scaling=1, class_weight=None, random_state=1998, \n",
    "                                                solver='liblinear', max_iter=100, multi_class='auto', \n",
    "                                                verbose=0, warm_start=False, n_jobs=None, l1_ratio=None)\n",
    "logit.fit(small_x_train, Y_train)\n",
    "print(logit.score(small_x_train, Y_train))\n",
    "print(logit.score(small_x_test, Y_test))"
   ]
  },
  {
   "cell_type": "code",
   "execution_count": 2,
   "metadata": {},
   "outputs": [
    {
     "data": {
      "text/plain": [
       "2"
      ]
     },
     "execution_count": 2,
     "metadata": {},
     "output_type": "execute_result"
    }
   ],
   "source": [
    "1+1"
   ]
  }
 ],
 "metadata": {
  "kernelspec": {
   "display_name": "Python 3",
   "language": "python",
   "name": "python3"
  },
  "language_info": {
   "codemirror_mode": {
    "name": "ipython",
    "version": 3
   },
   "file_extension": ".py",
   "mimetype": "text/x-python",
   "name": "python",
   "nbconvert_exporter": "python",
   "pygments_lexer": "ipython3",
   "version": "3.7.3"
  }
 },
 "nbformat": 4,
 "nbformat_minor": 2
}
