{
 "cells": [
  {
   "cell_type": "code",
   "execution_count": 1,
   "metadata": {},
   "outputs": [
    {
     "data": {
      "text/latex": [
       "$\\newcommand{\\Population}                    {\\hat{X}} $\n",
       "$\\newcommand{\\allY}                          {{\\hat{Y}}} $\n",
       "$\\newcommand{\\sampleRealObjects}             {{\\overline{X}}} $\n",
       "$\\newcommand{\\sample}                 {X} $\n",
       "$\\newcommand{\\lensabsetsample} {l}$\n",
       "$\\newcommand{\\answers}                             {Y} $\n",
       "$\\newcommand{\\nbFeatures}                             {M} $\n",
       "$\\newcommand{\\nbObjects}                             {N} $\n",
       "$\\newcommand{\\realNumbers}                    {\\mathbb{R}}$\n",
       "$\\newcommand{\\model}                    {\\mathbb{A}}$\n",
       "$\\newcommand{\\params}                    {\\theta}$\n",
       "$\\newcommand{\\setParams}                    {\\Theta}$\n",
       "$\\newcommand{\\methodLearning}          {\\mu}$\n",
       "$\\newcommand{\\alg}          {\\alpha}$\n",
       "$\\newcommand{\\loss}          {L}$\n",
       "$\\newcommand{\\empericRisk}          {Q}$\n",
       "$\\newcommand{\\learningRate}          {\\gamma}$\n",
       "$\\newcommand{\\distance}          {\\rho}$\n",
       "$\\newcommand{\\margin}          {\\mathbb{M}}$\n",
       "$\\newcommand{\\setClasses}          {C}$"
      ]
     },
     "metadata": {},
     "output_type": "display_data"
    }
   ],
   "source": [
    "import IPython.display\n",
    "IPython.display.display_latex(IPython.display.Latex(filename=\"./macros.tex\"))"
   ]
  },
  {
   "cell_type": "markdown",
   "metadata": {},
   "source": [
    "# Метрические классификаторы "
   ]
  },
  {
   "cell_type": "markdown",
   "metadata": {},
   "source": [
    "Основная идея: как-то померим расстояние между объектами. Если объекты лежат близко к друг другу, то объекты принадлежат одному классу(Гипотеза компактности)."
   ]
  },
  {
   "cell_type": "markdown",
   "metadata": {},
   "source": [
    "Основные свойства расстояния (метрики, d):\n",
    "<img src=\"./lect_images/metric_features.png\">"
   ]
  },
  {
   "cell_type": "markdown",
   "metadata": {},
   "source": [
    "Примеры метрик:\n",
    "<img src=\"./lect_images/metrics.png\">"
   ]
  },
  {
   "cell_type": "markdown",
   "metadata": {},
   "source": [
    "<img src=\"./lect_images/Iris_dataset_scatterplot.png\">"
   ]
  },
  {
   "cell_type": "markdown",
   "metadata": {},
   "source": [
    "Для произвольного объекта u отранжируем всю выборку $\\{x_1, y_1\\}, \\{x_2, y_2\\}, ..., \\{x_n, y_n\\}$ по расстоянию:\n",
    "$$$$\n",
    "$d(u, x_1) \\leq d(u, x_2) \\leq d(u, x_3) ... d(u, x_n)$"
   ]
  },
  {
   "cell_type": "markdown",
   "metadata": {},
   "source": [
    "<img src=\"./lect_images/simple_metric_classifier.png\">"
   ]
  },
  {
   "cell_type": "markdown",
   "metadata": {},
   "source": [
    "\\begin{equation*}\n",
    "[stuff] = \n",
    " \\begin{cases}\n",
    "   1, &\\text{stuff истинно}\\\\\n",
    "   0, &\\text{иначе}\n",
    " \\end{cases}\n",
    "\\end{equation*}"
   ]
  },
  {
   "cell_type": "markdown",
   "metadata": {},
   "source": [
    "# l=1: Один ближайший сосед"
   ]
  },
  {
   "cell_type": "markdown",
   "metadata": {},
   "source": [
    "Недостатки:\n",
    "\n",
    "1) Неустойчивость к погрешностям. Если среди обучающих объектов есть выброс — объект, находящийся в окружении объектов чужого класса, то не только\n",
    "он сам будет классифицирован неверно, но и те окружающие его объекты, для\n",
    "которых он окажется ближайшим.\n",
    "$$$$\n",
    "2) Отсутствие параметров, которые можно было бы настраивать по выборке.\n",
    "Алгоритм полностью зависит от того, насколько удачно выбрана метрика d.\n",
    "$$$$\n",
    "3) В результате — низкое качество классификации."
   ]
  },
  {
   "cell_type": "markdown",
   "metadata": {},
   "source": [
    "# l>1 (l=k): К ближайших соседей "
   ]
  },
  {
   "cell_type": "markdown",
   "metadata": {},
   "source": [
    "Недостатки: \n",
    "\n",
    "1)Соседи с разным расстоянием вносят одинаковый вклад. "
   ]
  },
  {
   "cell_type": "markdown",
   "metadata": {},
   "source": [
    "# Обощенный метрический классификатор"
   ]
  },
  {
   "cell_type": "markdown",
   "metadata": {},
   "source": [
    "<img src=\"./lect_images/general_metric_classifier.png\">"
   ]
  },
  {
   "cell_type": "markdown",
   "metadata": {},
   "source": [
    "w(u, i) -  весовая функция. Как ее выбрать?"
   ]
  },
  {
   "cell_type": "markdown",
   "metadata": {},
   "source": [
    "1) Какие - то чиселки => Метод взвешенных ближайших соседей\n",
    "\n",
    "2) Функция от расстояния => Метод парзеновского окна"
   ]
  },
  {
   "cell_type": "markdown",
   "metadata": {},
   "source": [
    "# Метод парзеновского окна "
   ]
  },
  {
   "cell_type": "markdown",
   "metadata": {},
   "source": [
    "Пусть K(r) не возрастающая функция на [0, $\\infty$]"
   ]
  },
  {
   "cell_type": "markdown",
   "metadata": {},
   "source": [
    "<img src=\"./lect_images/parzen_window_fixed.png\">"
   ]
  },
  {
   "cell_type": "markdown",
   "metadata": {},
   "source": [
    "h - некоторое окно. Ограничивает выбор объектов, которые участвуют в классификации ( аналог количества соседей). Если в пространстве признаков объекты расположены \"неодинаково плотно\", то окно можно не фиксировать."
   ]
  },
  {
   "cell_type": "markdown",
   "metadata": {},
   "source": [
    "<img src=\"./lect_images/parzen_window_non_fixed.png\">"
   ]
  },
  {
   "cell_type": "markdown",
   "metadata": {},
   "source": [
    "Какие функции K можно выбрать?\n",
    "<img src=\"./lect_images/kernels_formulae.png\">"
   ]
  },
  {
   "cell_type": "markdown",
   "metadata": {},
   "source": [
    "<img src=\"./lect_images/kernels_graph.png\">"
   ]
  },
  {
   "cell_type": "markdown",
   "metadata": {},
   "source": [
    "Недостатки: \n",
    "\n",
    "1) Храним всю обучающую выборку\n",
    "\n",
    "2) Плохо работает в пространсвах больших размерностей."
   ]
  },
  {
   "cell_type": "markdown",
   "metadata": {},
   "source": [
    "# Метод потенциальных функций"
   ]
  },
  {
   "cell_type": "markdown",
   "metadata": {},
   "source": [
    "####  Метод потенциальных функций\n",
    "\n",
    "$$w(i, u) = \\gamma^{(i)} K\\Big(\\frac{d(u, x_u^{(j)})}{h_i}\\Big)$$\n",
    "\n",
    "$$\\alg(u, X) = argmax_{c\\in C}\\sum_{i = 1}^n[y_u^{(i)} = c]* \\gamma^{(i)} * K\\Big(\\frac{d(u, x_u^{(j)})}{h_i}\\Big)$$\n",
    "\n",
    "$\\gamma_i$ потенциал для $x_i\\in\\sample_{train}$"
   ]
  },
  {
   "cell_type": "markdown",
   "metadata": {},
   "source": [
    "                                            Как будем обучать?\n",
    "$$$$\n",
    "$$\\    \\gamma_i = 0$$\n",
    "$$$$\n",
    "$$\\ while\\ \\{пока\\_не\\_сойдемся\\}:$$ \n",
    "$$\\    for\\ x_i\\ in\\ \\{x_1,...x_n\\}:$$\n",
    "    $$\n",
    "\\        if\\ a(x_i) \\ne y_i:\n",
    "        $$$$\n",
    "         \\gamma_i = \\gamma_i + 1\n",
    "         $$"
   ]
  },
  {
   "cell_type": "markdown",
   "metadata": {},
   "source": [
    "После настройки алгоритма, у некоторых объектов $\\gamma_i$ будет равняться нулю, что позволит нам отобрать только необходимые для классификации объекты"
   ]
  },
  {
   "cell_type": "code",
   "execution_count": null,
   "metadata": {},
   "outputs": [],
   "source": []
  }
 ],
 "metadata": {
  "kernelspec": {
   "display_name": "Python 3",
   "language": "python",
   "name": "python3"
  },
  "language_info": {
   "codemirror_mode": {
    "name": "ipython",
    "version": 3
   },
   "file_extension": ".py",
   "mimetype": "text/x-python",
   "name": "python",
   "nbconvert_exporter": "python",
   "pygments_lexer": "ipython3",
   "version": "3.7.3"
  }
 },
 "nbformat": 4,
 "nbformat_minor": 2
}
